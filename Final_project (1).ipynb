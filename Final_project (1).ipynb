{
  "cells": [
    {
      "cell_type": "markdown",
      "metadata": {
        "id": "fZCTwSBx3jOQ"
      },
      "source": [
        "# Investigating the effect of timing, road conditions and demographics on Cycling Accident Fatality"
      ]
    },
    {
      "cell_type": "markdown",
      "metadata": {
        "id": "J6fY44mY743k"
      },
      "source": [
        "# Data and module import"
      ]
    },
    {
      "cell_type": "code",
      "execution_count": null,
      "metadata": {
        "id": "IsSAchb-oqmz"
      },
      "outputs": [],
      "source": [
        "import pandas as pd; import numpy as np; import pymc as pm; from scipy import stats; import arviz as az"
      ]
    },
    {
      "cell_type": "code",
      "execution_count": null,
      "metadata": {
        "id": "MHMJJM-JujY4"
      },
      "outputs": [],
      "source": [
        "#Accidents after June 2008\n",
        "data = pd.read_csv(\"https://raw.githubusercontent.com/javmencia/STA303/main/cyclingData.csv\")"
      ]
    },
    {
      "cell_type": "markdown",
      "metadata": {
        "id": "FI2W2raO7-4s"
      },
      "source": [
        "## Data cleaning"
      ]
    },
    {
      "cell_type": "code",
      "execution_count": null,
      "metadata": {
        "id": "o4TdnkbqEybc"
      },
      "outputs": [],
      "source": [
        "def TimeGetter(time):\n",
        "    ftr = [3600,60,1]\n",
        "    t = sum([a*b for a,b in zip(ftr, map(int,time.split(':')))])\n",
        "    if t<6*3600 or t>22*3600:\n",
        "        return \"Night\"\n",
        "    elif t<9*3600:\n",
        "        return \"Morning\"\n",
        "    elif t<14*3600:\n",
        "        return \"Midday\"\n",
        "    elif t<18*3600:\n",
        "        return \"Afternoon\"\n",
        "    else:\n",
        "        return \"Evening\""
      ]
    },
    {
      "cell_type": "code",
      "execution_count": null,
      "metadata": {
        "colab": {
          "base_uri": "https://localhost:8080/"
        },
        "id": "MvRVXDo7u8DY",
        "outputId": "932f2638-b92e-4d7d-c22e-19678b423a7c"
      },
      "outputs": [
        {
          "name": "stdout",
          "output_type": "stream",
          "text": [
            "['Darkness lights lit' 'Daylight' 'Darkness no lights']\n"
          ]
        }
      ],
      "source": [
        "# Missing data\n",
        "# Substitute missing data with NA\n",
        "data = data.replace({'Missing Data': np.NAN, 'Other': np.NAN, 'Unknown': np.NAN, 'Missing data': np.NAN})\n",
        "# Assume data is missing completely at random and remove\n",
        "data = data.dropna()\n",
        "#data[\"Road_conditions\"].unique()\n",
        "\n",
        "# Data wrangling\n",
        "# Day to weekday(1) and weekend(0)\n",
        "data = data.replace({'Monday':1, 'Tuesday':1, 'Wednesday':1, 'Thursday':1, 'Friday': 1, 'Saturday':0, 'Sunday': 0})\n",
        "# TimeDay variable, categorical\n",
        "\n",
        "data[\"TimeDay\"] = [TimeGetter(i) for i in data[\"Time\"]]\n",
        "# Road conditions: Dry or not\n",
        "data[\"DryRoad\"] = [1 if i==\"Dry\" else 0 for i in data[\"Road_conditions\"]]\n",
        "\n",
        "# Weather: Clear or not\n",
        "data[\"Clear\"] = [1 if i==\"Clear\" else 0 for i in data[\"Weather_conditions\"]]\n",
        "\n",
        "# Light conditions: Dark or not\n",
        "data[\"Dark\"] = [1 if i==\"Darkness no lights\" else 0 for i in data[\"Light_conditions\"]]\n",
        "print(data['Light_conditions'].unique())\n",
        "# Road type: Binary whether it is Dual carriageway, use EDA to justify\n",
        "data[\"DualCarriageway\"] = [1 if i==\"Dual carriageway\" else 0 for i in data[\"Road_type\"]]\n",
        "# Age: over 55\n",
        "data[\"over55\"] = [1 if i in [\"56 to 65\", \"66 to 75\"] else 0 for i in data[\"Age_Grp\"]]\n",
        "\n",
        "# Severity_binary: Severe or not\n",
        "data[\"Severity_binary\"] = [0 if i==\"Slight\" else 1 for i in data[\"Severity\"]]\n",
        "\n",
        "# Night binary\n",
        "data[\"Night\"] = [1 if i==\"Night\" else 0 for i in data[\"TimeDay\"]]\n",
        "# Morning binary\n",
        "data[\"Morning\"] = [1 if i==\"Morning\" else 0 for i in data[\"TimeDay\"]]\n",
        "# Midday binary\n",
        "data[\"Midday\"] = [1 if i==\"Midday\" else 0 for i in data[\"TimeDay\"]]\n",
        "# Afternoon binary\n",
        "data[\"Afternoon\"] = [1 if i==\"Afternoon\" else 0 for i in data[\"TimeDay\"]]\n",
        "# Evening binary\n",
        "data[\"Evening\"] = [1 if i==\"Evening\" else 0 for i in data[\"TimeDay\"]]\n",
        "data['Gender']= [1 if i==\"Male\" else 0 for i in data[\"Gender\"]]\n",
        "\n",
        "cleandata = data[[\"Severity_binary\", \"Day\", \"Speed_limit\", \"DryRoad\", \"Clear\", \"Gender\", \"over55\", \"DualCarriageway\", \"TimeDay\", \"Night\", \"Morning\", \"Midday\", \"Afternoon\", \"Evening\", \"Dark\"]]\n"
      ]
    },
    {
      "cell_type": "code",
      "execution_count": null,
      "metadata": {
        "id": "rByyFRrncykR"
      },
      "outputs": [],
      "source": [
        "subset = cleandata[-100:]\n",
        "\n",
        "x1 = subset['DryRoad']\n",
        "x1 = pd.Series(x1).array\n",
        "\n",
        "x2 = subset['Clear']\n",
        "x2 = pd.Series(x2).array\n",
        "\n",
        "x3 = subset['DualCarriageway']\n",
        "x3 = pd.Series(x3).array\n",
        "\n",
        "x4 = subset['Dark']\n",
        "x4 = pd.Series(x4).array\n",
        "\n",
        "x5 = subset['Speed_limit']\n",
        "x5 = pd.Series(x5).array\n",
        "\n",
        "x6 = subset[\"Night\"]\n",
        "x6 = pd.Series(x6).array\n",
        "\n",
        "x7 = subset[\"Morning\"]\n",
        "x7 = pd.Series(x7).array\n",
        "\n",
        "x8 = subset[\"Midday\"]\n",
        "x8 = pd.Series(x8).array\n",
        "\n",
        "x9 = subset[\"Afternoon\"]\n",
        "x9 = pd.Series(x9).array\n",
        "\n",
        "x10 = subset[\"Evening\"]\n",
        "x10 = pd.Series(x10).array\n",
        "\n",
        "y = subset['Severity_binary']\n",
        "y = pd.Series(y).array\n",
        "\n",
        "num_obs = len(y)"
      ]
    },
    {
      "cell_type": "markdown",
      "metadata": {
        "id": "lfhfBrmhBNwS"
      },
      "source": [
        "# We want model with three predictors: When, What, Who"
      ]
    },
    {
      "cell_type": "markdown",
      "metadata": {
        "id": "8nh5VU8wl_-F"
      },
      "source": [
        "# Hierarchical structure on Time/Day betas"
      ]
    },
    {
      "cell_type": "code",
      "execution_count": null,
      "metadata": {
        "colab": {
          "base_uri": "https://localhost:8080/",
          "height": 57
        },
        "id": "DtojLw8RGYqq",
        "outputId": "f0cd58be-42a7-4f1a-91ef-b411bedc4184"
      },
      "outputs": [
        {
          "data": {
            "text/html": [
              "\n",
              "<style>\n",
              "    /* Turns off some styling */\n",
              "    progress {\n",
              "        /* gets rid of default border in Firefox and Opera. */\n",
              "        border: none;\n",
              "        /* Needs to be in here for Safari polyfill so background images work as expected. */\n",
              "        background-size: auto;\n",
              "    }\n",
              "    progress:not([value]), progress:not([value])::-webkit-progress-bar {\n",
              "        background: repeating-linear-gradient(45deg, #7e7e7e, #7e7e7e 10px, #5c5c5c 10px, #5c5c5c 20px);\n",
              "    }\n",
              "    .progress-bar-interrupted, .progress-bar-interrupted::-webkit-progress-bar {\n",
              "        background: #F44336;\n",
              "    }\n",
              "</style>\n"
            ],
            "text/plain": [
              "<IPython.core.display.HTML object>"
            ]
          },
          "metadata": {},
          "output_type": "display_data"
        },
        {
          "data": {
            "text/html": [
              "\n",
              "    <div>\n",
              "      <progress value='2000' class='' max='2000' style='width:300px; height:20px; vertical-align: middle;'></progress>\n",
              "      100.00% [2000/2000 00:08&lt;00:00 Sampling chain 0, 0 divergences]\n",
              "    </div>\n",
              "    "
            ],
            "text/plain": [
              "<IPython.core.display.HTML object>"
            ]
          },
          "metadata": {},
          "output_type": "display_data"
        },
        {
          "data": {
            "text/html": [
              "\n",
              "<style>\n",
              "    /* Turns off some styling */\n",
              "    progress {\n",
              "        /* gets rid of default border in Firefox and Opera. */\n",
              "        border: none;\n",
              "        /* Needs to be in here for Safari polyfill so background images work as expected. */\n",
              "        background-size: auto;\n",
              "    }\n",
              "    progress:not([value]), progress:not([value])::-webkit-progress-bar {\n",
              "        background: repeating-linear-gradient(45deg, #7e7e7e, #7e7e7e 10px, #5c5c5c 10px, #5c5c5c 20px);\n",
              "    }\n",
              "    .progress-bar-interrupted, .progress-bar-interrupted::-webkit-progress-bar {\n",
              "        background: #F44336;\n",
              "    }\n",
              "</style>\n"
            ],
            "text/plain": [
              "<IPython.core.display.HTML object>"
            ]
          },
          "metadata": {},
          "output_type": "display_data"
        },
        {
          "data": {
            "text/html": [
              "\n",
              "    <div>\n",
              "      <progress value='2000' class='' max='2000' style='width:300px; height:20px; vertical-align: middle;'></progress>\n",
              "      100.00% [2000/2000 00:07&lt;00:00 Sampling chain 1, 0 divergences]\n",
              "    </div>\n",
              "    "
            ],
            "text/plain": [
              "<IPython.core.display.HTML object>"
            ]
          },
          "metadata": {},
          "output_type": "display_data"
        }
      ],
      "source": [
        "with pm.Model() as timeday_model:\n",
        "    # pWeekdayday Probability of being a weekday\n",
        "    pWeekday = pm.Beta('pWeekday', alpha=1, beta=1)\n",
        "\n",
        "    # Time weekday probabilities\n",
        "    pNight = pm.Beta('pNight', alpha=1, beta=1)\n",
        "    pMorningBase = pm.Beta('pMorningBase', alpha=1, beta=1)\n",
        "    pMiddayBase = pm.Beta('pMiddayBase', alpha=1, beta=1)\n",
        "    pAfternoonBase = pm.Beta('pAfternoonBase', alpha=1, beta=1)\n",
        "    pEvening = pm.Beta('pEvening', alpha=1, beta=1)\n",
        "\n",
        "    # Time weekend probabilities\n",
        "    pMorChange = pm.Beta('pMorChange', alpha=1, beta=1)\n",
        "    pMidChange = pm.Beta('pMidChange', alpha=1, beta=1)\n",
        "    pAftChange = pm.Beta('pAftChange', alpha=1, beta=1)\n",
        "\n",
        "\n",
        "    # pMorningBase + pWeekday*(1-pMorningBase)*pMorChange\n",
        "    no_negatives_2 = pm.math.switch(pm.math.lt(pMorningBase + pWeekday * (1 - pMorningBase) * pMorChange, 0), 0,\n",
        "                                     pMorningBase + pWeekday * (1 - pMorningBase) * pMorChange)\n",
        "    in_unit_interval_2 = pm.math.switch(pm.math.gt(no_negatives_2, 1), 1,\n",
        "                                        pMorningBase + pWeekday * (1 - pMorningBase) * pMorChange)\n",
        "    pMorning = pm.Deterministic('pMorning', in_unit_interval_2)\n",
        "\n",
        "    # pMiddayBase - pWeekday*(1-pMiddayBase)*pMidChange\n",
        "    no_negatives_3 = pm.math.switch(pm.math.lt(pMiddayBase - pWeekday * (1 - pMiddayBase) * pMidChange, 0), 0,\n",
        "                                     pMiddayBase - pWeekday * (1 - pMiddayBase) * pMidChange)\n",
        "    in_unit_interval_3 = pm.math.switch(pm.math.gt(no_negatives_3, 1), 1,\n",
        "                                        pMiddayBase - pWeekday * (1 - pMiddayBase) * pMidChange)\n",
        "    pMidday = pm.Deterministic('pMidday', in_unit_interval_3)\n",
        "\n",
        "    # pAfternoonBase + pWeekday*(1-pAfternoonBase)*pAftChange\n",
        "    no_negatives_4 = pm.math.switch(pm.math.lt(pAfternoonBase + pWeekday * (1 - pAfternoonBase) * pAftChange, 0), 0,\n",
        "                                     pAfternoonBase + pWeekday * (1 - pAfternoonBase) * pAftChange)\n",
        "    in_unit_interval_4 = pm.math.switch(pm.math.gt(no_negatives_4, 1), 1,\n",
        "                                        pAfternoonBase + pWeekday * (1 - pAfternoonBase) * pAftChange)\n",
        "    pAfternoon = pm.Deterministic('pAfternoon', in_unit_interval_4)\n",
        "\n",
        "    # Linear combination of predictors\n",
        "    logit_p = pNight * x6 + pMorning * x7 + pMidday * x8 + pAfternoon * x9 + pEvening * x10\n",
        "    logit_p = pm.Deterministic('logit_p', logit_p)\n",
        "\n",
        "    y = pm.Bernoulli('y', logit_p=logit_p, observed=y)\n",
        "    timedaydata = pm.sample()"
      ]
    },
    {
      "cell_type": "code",
      "execution_count": null,
      "metadata": {
        "colab": {
          "base_uri": "https://localhost:8080/",
          "height": 618
        },
        "id": "PY8v3RwIHAiN",
        "outputId": "ede1feec-c325-4394-c5a8-bb118c5bd76f"
      },
      "outputs": [
        {
          "data": {
            "image/svg+xml": "<?xml version=\"1.0\" encoding=\"UTF-8\" standalone=\"no\"?>\n<!DOCTYPE svg PUBLIC \"-//W3C//DTD SVG 1.1//EN\"\n \"http://www.w3.org/Graphics/SVG/1.1/DTD/svg11.dtd\">\n<!-- Generated by graphviz version 2.43.0 (0)\n -->\n<!-- Title: %3 Pages: 1 -->\n<svg width=\"1005pt\" height=\"433pt\"\n viewBox=\"0.00 0.00 1005.30 432.86\" xmlns=\"http://www.w3.org/2000/svg\" xmlns:xlink=\"http://www.w3.org/1999/xlink\">\n<g id=\"graph0\" class=\"graph\" transform=\"scale(1 1) rotate(0) translate(4 428.86)\">\n<title>%3</title>\n<polygon fill=\"white\" stroke=\"transparent\" points=\"-4,4 -4,-428.86 1001.3,-428.86 1001.3,4 -4,4\"/>\n<g id=\"clust1\" class=\"cluster\">\n<title>cluster100</title>\n<path fill=\"none\" stroke=\"black\" d=\"M522.05,-8C522.05,-8 610.05,-8 610.05,-8 616.05,-8 622.05,-14 622.05,-20 622.05,-20 622.05,-198.95 622.05,-198.95 622.05,-204.95 616.05,-210.95 610.05,-210.95 610.05,-210.95 522.05,-210.95 522.05,-210.95 516.05,-210.95 510.05,-204.95 510.05,-198.95 510.05,-198.95 510.05,-20 510.05,-20 510.05,-14 516.05,-8 522.05,-8\"/>\n<text text-anchor=\"middle\" x=\"603.55\" y=\"-15.8\" font-family=\"Times,serif\" font-size=\"14.00\">100</text>\n</g>\n<!-- pMidday -->\n<g id=\"node1\" class=\"node\">\n<title>pMidday</title>\n<polygon fill=\"none\" stroke=\"black\" points=\"322.55,-302.93 231.55,-302.93 231.55,-249.93 322.55,-249.93 322.55,-302.93\"/>\n<text text-anchor=\"middle\" x=\"277.05\" y=\"-287.73\" font-family=\"Times,serif\" font-size=\"14.00\">pMidday</text>\n<text text-anchor=\"middle\" x=\"277.05\" y=\"-272.73\" font-family=\"Times,serif\" font-size=\"14.00\">~</text>\n<text text-anchor=\"middle\" x=\"277.05\" y=\"-257.73\" font-family=\"Times,serif\" font-size=\"14.00\">Deterministic</text>\n</g>\n<!-- logit_p -->\n<g id=\"node14\" class=\"node\">\n<title>logit_p</title>\n<polygon fill=\"none\" stroke=\"black\" points=\"611.55,-202.95 520.55,-202.95 520.55,-149.95 611.55,-149.95 611.55,-202.95\"/>\n<text text-anchor=\"middle\" x=\"566.05\" y=\"-187.75\" font-family=\"Times,serif\" font-size=\"14.00\">logit_p</text>\n<text text-anchor=\"middle\" x=\"566.05\" y=\"-172.75\" font-family=\"Times,serif\" font-size=\"14.00\">~</text>\n<text text-anchor=\"middle\" x=\"566.05\" y=\"-157.75\" font-family=\"Times,serif\" font-size=\"14.00\">Deterministic</text>\n</g>\n<!-- pMidday&#45;&gt;logit_p -->\n<g id=\"edge10\" class=\"edge\">\n<title>pMidday&#45;&gt;logit_p</title>\n<path fill=\"none\" stroke=\"black\" d=\"M322.85,-259.91C373.9,-242.6 456.43,-214.62 510.97,-196.13\"/>\n<polygon fill=\"black\" stroke=\"black\" points=\"512.13,-199.43 520.48,-192.91 509.88,-192.8 512.13,-199.43\"/>\n</g>\n<!-- pMorning -->\n<g id=\"node2\" class=\"node\">\n<title>pMorning</title>\n<polygon fill=\"none\" stroke=\"black\" points=\"499.55,-302.93 408.55,-302.93 408.55,-249.93 499.55,-249.93 499.55,-302.93\"/>\n<text text-anchor=\"middle\" x=\"454.05\" y=\"-287.73\" font-family=\"Times,serif\" font-size=\"14.00\">pMorning</text>\n<text text-anchor=\"middle\" x=\"454.05\" y=\"-272.73\" font-family=\"Times,serif\" font-size=\"14.00\">~</text>\n<text text-anchor=\"middle\" x=\"454.05\" y=\"-257.73\" font-family=\"Times,serif\" font-size=\"14.00\">Deterministic</text>\n</g>\n<!-- pMorning&#45;&gt;logit_p -->\n<g id=\"edge11\" class=\"edge\">\n<title>pMorning&#45;&gt;logit_p</title>\n<path fill=\"none\" stroke=\"black\" d=\"M483.48,-249.69C497.5,-237.42 514.41,-222.63 529.27,-209.63\"/>\n<polygon fill=\"black\" stroke=\"black\" points=\"531.6,-212.24 536.82,-203.02 526.99,-206.97 531.6,-212.24\"/>\n</g>\n<!-- pAfternoonBase -->\n<g id=\"node3\" class=\"node\">\n<title>pAfternoonBase</title>\n<ellipse fill=\"none\" stroke=\"black\" cx=\"923.05\" cy=\"-387.38\" rx=\"74.49\" ry=\"37.45\"/>\n<text text-anchor=\"middle\" x=\"923.05\" y=\"-398.68\" font-family=\"Times,serif\" font-size=\"14.00\">pAfternoonBase</text>\n<text text-anchor=\"middle\" x=\"923.05\" y=\"-383.68\" font-family=\"Times,serif\" font-size=\"14.00\">~</text>\n<text text-anchor=\"middle\" x=\"923.05\" y=\"-368.68\" font-family=\"Times,serif\" font-size=\"14.00\">Beta</text>\n</g>\n<!-- pAfternoon -->\n<g id=\"node11\" class=\"node\">\n<title>pAfternoon</title>\n<polygon fill=\"none\" stroke=\"black\" points=\"817.55,-302.93 726.55,-302.93 726.55,-249.93 817.55,-249.93 817.55,-302.93\"/>\n<text text-anchor=\"middle\" x=\"772.05\" y=\"-287.73\" font-family=\"Times,serif\" font-size=\"14.00\">pAfternoon</text>\n<text text-anchor=\"middle\" x=\"772.05\" y=\"-272.73\" font-family=\"Times,serif\" font-size=\"14.00\">~</text>\n<text text-anchor=\"middle\" x=\"772.05\" y=\"-257.73\" font-family=\"Times,serif\" font-size=\"14.00\">Deterministic</text>\n</g>\n<!-- pAfternoonBase&#45;&gt;pAfternoon -->\n<g id=\"edge9\" class=\"edge\">\n<title>pAfternoonBase&#45;&gt;pAfternoon</title>\n<path fill=\"none\" stroke=\"black\" d=\"M881.39,-356.32C860.98,-341.6 836.42,-323.87 815.74,-308.95\"/>\n<polygon fill=\"black\" stroke=\"black\" points=\"817.6,-305.98 807.44,-302.96 813.5,-311.65 817.6,-305.98\"/>\n</g>\n<!-- pMidChange -->\n<g id=\"node4\" class=\"node\">\n<title>pMidChange</title>\n<ellipse fill=\"none\" stroke=\"black\" cx=\"210.05\" cy=\"-387.38\" rx=\"62.45\" ry=\"37.45\"/>\n<text text-anchor=\"middle\" x=\"210.05\" y=\"-398.68\" font-family=\"Times,serif\" font-size=\"14.00\">pMidChange</text>\n<text text-anchor=\"middle\" x=\"210.05\" y=\"-383.68\" font-family=\"Times,serif\" font-size=\"14.00\">~</text>\n<text text-anchor=\"middle\" x=\"210.05\" y=\"-368.68\" font-family=\"Times,serif\" font-size=\"14.00\">Beta</text>\n</g>\n<!-- pMidChange&#45;&gt;pMidday -->\n<g id=\"edge4\" class=\"edge\">\n<title>pMidChange&#45;&gt;pMidday</title>\n<path fill=\"none\" stroke=\"black\" d=\"M231.25,-351.91C239.16,-339.04 248.14,-324.45 256.04,-311.61\"/>\n<polygon fill=\"black\" stroke=\"black\" points=\"259.05,-313.4 261.3,-303.04 253.08,-309.73 259.05,-313.4\"/>\n</g>\n<!-- pEvening -->\n<g id=\"node5\" class=\"node\">\n<title>pEvening</title>\n<ellipse fill=\"none\" stroke=\"black\" cx=\"566.05\" cy=\"-276.43\" rx=\"48.17\" ry=\"37.45\"/>\n<text text-anchor=\"middle\" x=\"566.05\" y=\"-287.73\" font-family=\"Times,serif\" font-size=\"14.00\">pEvening</text>\n<text text-anchor=\"middle\" x=\"566.05\" y=\"-272.73\" font-family=\"Times,serif\" font-size=\"14.00\">~</text>\n<text text-anchor=\"middle\" x=\"566.05\" y=\"-257.73\" font-family=\"Times,serif\" font-size=\"14.00\">Beta</text>\n</g>\n<!-- pEvening&#45;&gt;logit_p -->\n<g id=\"edge12\" class=\"edge\">\n<title>pEvening&#45;&gt;logit_p</title>\n<path fill=\"none\" stroke=\"black\" d=\"M566.05,-238.95C566.05,-230.53 566.05,-221.59 566.05,-213.2\"/>\n<polygon fill=\"black\" stroke=\"black\" points=\"569.55,-212.96 566.05,-202.96 562.55,-212.96 569.55,-212.96\"/>\n</g>\n<!-- pMorChange -->\n<g id=\"node6\" class=\"node\">\n<title>pMorChange</title>\n<ellipse fill=\"none\" stroke=\"black\" cx=\"476.05\" cy=\"-387.38\" rx=\"62.87\" ry=\"37.45\"/>\n<text text-anchor=\"middle\" x=\"476.05\" y=\"-398.68\" font-family=\"Times,serif\" font-size=\"14.00\">pMorChange</text>\n<text text-anchor=\"middle\" x=\"476.05\" y=\"-383.68\" font-family=\"Times,serif\" font-size=\"14.00\">~</text>\n<text text-anchor=\"middle\" x=\"476.05\" y=\"-368.68\" font-family=\"Times,serif\" font-size=\"14.00\">Beta</text>\n</g>\n<!-- pMorChange&#45;&gt;pMorning -->\n<g id=\"edge1\" class=\"edge\">\n<title>pMorChange&#45;&gt;pMorning</title>\n<path fill=\"none\" stroke=\"black\" d=\"M468.73,-350.1C466.33,-338.23 463.67,-325.05 461.28,-313.22\"/>\n<polygon fill=\"black\" stroke=\"black\" points=\"464.67,-312.33 459.26,-303.22 457.81,-313.72 464.67,-312.33\"/>\n</g>\n<!-- pAftChange -->\n<g id=\"node7\" class=\"node\">\n<title>pAftChange</title>\n<ellipse fill=\"none\" stroke=\"black\" cx=\"772.05\" cy=\"-387.38\" rx=\"58.88\" ry=\"37.45\"/>\n<text text-anchor=\"middle\" x=\"772.05\" y=\"-398.68\" font-family=\"Times,serif\" font-size=\"14.00\">pAftChange</text>\n<text text-anchor=\"middle\" x=\"772.05\" y=\"-383.68\" font-family=\"Times,serif\" font-size=\"14.00\">~</text>\n<text text-anchor=\"middle\" x=\"772.05\" y=\"-368.68\" font-family=\"Times,serif\" font-size=\"14.00\">Beta</text>\n</g>\n<!-- pAftChange&#45;&gt;pAfternoon -->\n<g id=\"edge8\" class=\"edge\">\n<title>pAftChange&#45;&gt;pAfternoon</title>\n<path fill=\"none\" stroke=\"black\" d=\"M772.05,-349.8C772.05,-338.06 772.05,-325.08 772.05,-313.38\"/>\n<polygon fill=\"black\" stroke=\"black\" points=\"775.55,-313.08 772.05,-303.08 768.55,-313.08 775.55,-313.08\"/>\n</g>\n<!-- pMiddayBase -->\n<g id=\"node8\" class=\"node\">\n<title>pMiddayBase</title>\n<ellipse fill=\"none\" stroke=\"black\" cx=\"65.05\" cy=\"-387.38\" rx=\"65.11\" ry=\"37.45\"/>\n<text text-anchor=\"middle\" x=\"65.05\" y=\"-398.68\" font-family=\"Times,serif\" font-size=\"14.00\">pMiddayBase</text>\n<text text-anchor=\"middle\" x=\"65.05\" y=\"-383.68\" font-family=\"Times,serif\" font-size=\"14.00\">~</text>\n<text text-anchor=\"middle\" x=\"65.05\" y=\"-368.68\" font-family=\"Times,serif\" font-size=\"14.00\">Beta</text>\n</g>\n<!-- pMiddayBase&#45;&gt;pMidday -->\n<g id=\"edge5\" class=\"edge\">\n<title>pMiddayBase&#45;&gt;pMidday</title>\n<path fill=\"none\" stroke=\"black\" d=\"M112.9,-361.8C145.27,-345.16 188.12,-323.14 221.93,-305.76\"/>\n<polygon fill=\"black\" stroke=\"black\" points=\"223.91,-308.68 231.2,-300.99 220.71,-302.45 223.91,-308.68\"/>\n</g>\n<!-- pWeekday -->\n<g id=\"node9\" class=\"node\">\n<title>pWeekday</title>\n<ellipse fill=\"none\" stroke=\"black\" cx=\"343.05\" cy=\"-387.38\" rx=\"52.15\" ry=\"37.45\"/>\n<text text-anchor=\"middle\" x=\"343.05\" y=\"-398.68\" font-family=\"Times,serif\" font-size=\"14.00\">pWeekday</text>\n<text text-anchor=\"middle\" x=\"343.05\" y=\"-383.68\" font-family=\"Times,serif\" font-size=\"14.00\">~</text>\n<text text-anchor=\"middle\" x=\"343.05\" y=\"-368.68\" font-family=\"Times,serif\" font-size=\"14.00\">Beta</text>\n</g>\n<!-- pWeekday&#45;&gt;pMidday -->\n<g id=\"edge6\" class=\"edge\">\n<title>pWeekday&#45;&gt;pMidday</title>\n<path fill=\"none\" stroke=\"black\" d=\"M322.71,-352.8C314.83,-339.8 305.82,-324.92 297.9,-311.84\"/>\n<polygon fill=\"black\" stroke=\"black\" points=\"300.79,-309.85 292.61,-303.11 294.8,-313.48 300.79,-309.85\"/>\n</g>\n<!-- pWeekday&#45;&gt;pMorning -->\n<g id=\"edge2\" class=\"edge\">\n<title>pWeekday&#45;&gt;pMorning</title>\n<path fill=\"none\" stroke=\"black\" d=\"M373.39,-356.61C388.06,-342.21 405.71,-324.88 420.75,-310.12\"/>\n<polygon fill=\"black\" stroke=\"black\" points=\"423.22,-312.6 427.91,-303.1 418.32,-307.6 423.22,-312.6\"/>\n</g>\n<!-- pWeekday&#45;&gt;pAfternoon -->\n<g id=\"edge7\" class=\"edge\">\n<title>pWeekday&#45;&gt;pAfternoon</title>\n<path fill=\"none\" stroke=\"black\" d=\"M380.24,-360.8C387.84,-356.55 395.99,-352.64 404.05,-349.91 536.67,-304.97 585.52,-361.93 717.05,-313.91 721.35,-312.34 725.64,-310.37 729.82,-308.17\"/>\n<polygon fill=\"black\" stroke=\"black\" points=\"731.84,-311.05 738.77,-303.05 728.36,-304.98 731.84,-311.05\"/>\n</g>\n<!-- pNight -->\n<g id=\"node10\" class=\"node\">\n<title>pNight</title>\n<ellipse fill=\"none\" stroke=\"black\" cx=\"670.05\" cy=\"-276.43\" rx=\"38.37\" ry=\"37.45\"/>\n<text text-anchor=\"middle\" x=\"670.05\" y=\"-287.73\" font-family=\"Times,serif\" font-size=\"14.00\">pNight</text>\n<text text-anchor=\"middle\" x=\"670.05\" y=\"-272.73\" font-family=\"Times,serif\" font-size=\"14.00\">~</text>\n<text text-anchor=\"middle\" x=\"670.05\" y=\"-257.73\" font-family=\"Times,serif\" font-size=\"14.00\">Beta</text>\n</g>\n<!-- pNight&#45;&gt;logit_p -->\n<g id=\"edge14\" class=\"edge\">\n<title>pNight&#45;&gt;logit_p</title>\n<path fill=\"none\" stroke=\"black\" d=\"M643,-249.94C630.1,-237.79 614.52,-223.11 600.76,-210.15\"/>\n<polygon fill=\"black\" stroke=\"black\" points=\"603.01,-207.46 593.33,-203.15 598.21,-212.56 603.01,-207.46\"/>\n</g>\n<!-- pAfternoon&#45;&gt;logit_p -->\n<g id=\"edge13\" class=\"edge\">\n<title>pAfternoon&#45;&gt;logit_p</title>\n<path fill=\"none\" stroke=\"black\" d=\"M735.69,-249.86C729.59,-246 723.23,-242.22 717.05,-238.95 686.36,-222.73 650.42,-207.94 621.31,-196.93\"/>\n<polygon fill=\"black\" stroke=\"black\" points=\"622.31,-193.57 611.71,-193.34 619.86,-200.12 622.31,-193.57\"/>\n</g>\n<!-- pMorningBase -->\n<g id=\"node12\" class=\"node\">\n<title>pMorningBase</title>\n<ellipse fill=\"none\" stroke=\"black\" cx=\"626.05\" cy=\"-387.38\" rx=\"69.09\" ry=\"37.45\"/>\n<text text-anchor=\"middle\" x=\"626.05\" y=\"-398.68\" font-family=\"Times,serif\" font-size=\"14.00\">pMorningBase</text>\n<text text-anchor=\"middle\" x=\"626.05\" y=\"-383.68\" font-family=\"Times,serif\" font-size=\"14.00\">~</text>\n<text text-anchor=\"middle\" x=\"626.05\" y=\"-368.68\" font-family=\"Times,serif\" font-size=\"14.00\">Beta</text>\n</g>\n<!-- pMorningBase&#45;&gt;pMorning -->\n<g id=\"edge3\" class=\"edge\">\n<title>pMorningBase&#45;&gt;pMorning</title>\n<path fill=\"none\" stroke=\"black\" d=\"M580.85,-358.83C559.05,-345.43 532.59,-329 509.05,-313.91 506.35,-312.18 503.59,-310.39 500.8,-308.57\"/>\n<polygon fill=\"black\" stroke=\"black\" points=\"502.7,-305.64 492.42,-303.09 498.87,-311.5 502.7,-305.64\"/>\n</g>\n<!-- y -->\n<g id=\"node13\" class=\"node\">\n<title>y</title>\n<ellipse fill=\"lightgrey\" stroke=\"black\" cx=\"566.05\" cy=\"-76.48\" rx=\"48.17\" ry=\"37.45\"/>\n<text text-anchor=\"middle\" x=\"566.05\" y=\"-87.78\" font-family=\"Times,serif\" font-size=\"14.00\">y</text>\n<text text-anchor=\"middle\" x=\"566.05\" y=\"-72.78\" font-family=\"Times,serif\" font-size=\"14.00\">~</text>\n<text text-anchor=\"middle\" x=\"566.05\" y=\"-57.78\" font-family=\"Times,serif\" font-size=\"14.00\">Bernoulli</text>\n</g>\n<!-- logit_p&#45;&gt;y -->\n<g id=\"edge15\" class=\"edge\">\n<title>logit_p&#45;&gt;y</title>\n<path fill=\"none\" stroke=\"black\" d=\"M566.05,-149.71C566.05,-141.89 566.05,-133.03 566.05,-124.27\"/>\n<polygon fill=\"black\" stroke=\"black\" points=\"569.55,-124.1 566.05,-114.1 562.55,-124.1 569.55,-124.1\"/>\n</g>\n</g>\n</svg>\n",
            "text/plain": [
              "<graphviz.graphs.Digraph at 0x7c4b04f79210>"
            ]
          },
          "execution_count": 7,
          "metadata": {},
          "output_type": "execute_result"
        }
      ],
      "source": [
        "pm.model_to_graphviz(timeday_model)"
      ]
    },
    {
      "cell_type": "markdown",
      "metadata": {
        "id": "mQ1nGo-wI1tz"
      },
      "source": [
        "# Posterior inference Part 1"
      ]
    },
    {
      "cell_type": "code",
      "execution_count": null,
      "metadata": {
        "colab": {
          "base_uri": "https://localhost:8080/",
          "height": 495
        },
        "id": "IEjIgB8KA_DQ",
        "outputId": "fe8b435c-b29d-4dc3-9f2c-acd1cf4db130"
      },
      "outputs": [
        {
          "name": "stdout",
          "output_type": "stream",
          "text": [
            "number of MCMC samples: 2000\n"
          ]
        },
        {
          "name": "stderr",
          "output_type": "stream",
          "text": [
            "/usr/local/lib/python3.10/dist-packages/arviz/utils.py:184: NumbaDeprecationWarning: The 'nopython' keyword argument was not supplied to the 'numba.jit' decorator. The implicit default value for this argument is currently False, but it will be changed to True in Numba 0.59.0. See https://numba.readthedocs.io/en/stable/reference/deprecation.html#deprecation-of-object-mode-fall-back-behaviour-when-using-jit for details.\n",
            "  numba_fn = numba.jit(**self.kwargs)(self.function)\n"
          ]
        },
        {
          "data": {
            "application/vnd.google.colaboratory.intrinsic+json": {
              "summary": "{\n  \"name\": \"az\",\n  \"rows\": 112,\n  \"fields\": [\n    {\n      \"column\": \"mean\",\n      \"properties\": {\n        \"dtype\": \"number\",\n        \"std\": 0.09972674215912751,\n        \"min\": 0.04,\n        \"max\": 0.56,\n        \"num_unique_values\": 11,\n        \"samples\": [\n          0.26,\n          0.34,\n          0.04\n        ],\n        \"semantic_type\": \"\",\n        \"description\": \"\"\n      }\n    },\n    {\n      \"column\": \"sd\",\n      \"properties\": {\n        \"dtype\": \"number\",\n        \"std\": 0.04738428294561679,\n        \"min\": 0.14,\n        \"max\": 0.28,\n        \"num_unique_values\": 8,\n        \"samples\": [\n          0.28,\n          0.21,\n          0.27\n        ],\n        \"semantic_type\": \"\",\n        \"description\": \"\"\n      }\n    },\n    {\n      \"column\": \"hdi_3%\",\n      \"properties\": {\n        \"dtype\": \"number\",\n        \"std\": 0.18735165732024764,\n        \"min\": -0.46,\n        \"max\": 0.1,\n        \"num_unique_values\": 3,\n        \"samples\": [\n          0.0,\n          0.1,\n          -0.46\n        ],\n        \"semantic_type\": \"\",\n        \"description\": \"\"\n      }\n    },\n    {\n      \"column\": \"hdi_97%\",\n      \"properties\": {\n        \"dtype\": \"number\",\n        \"std\": 0.09146174591188912,\n        \"min\": 0.43,\n        \"max\": 1.0,\n        \"num_unique_values\": 11,\n        \"samples\": [\n          0.65,\n          0.87,\n          0.56\n        ],\n        \"semantic_type\": \"\",\n        \"description\": \"\"\n      }\n    },\n    {\n      \"column\": \"mcse_mean\",\n      \"properties\": {\n        \"dtype\": \"number\",\n        \"std\": 0.0016218227031056386,\n        \"min\": 0.0,\n        \"max\": 0.01,\n        \"num_unique_values\": 2,\n        \"samples\": [\n          0.0,\n          0.01\n        ],\n        \"semantic_type\": \"\",\n        \"description\": \"\"\n      }\n    },\n    {\n      \"column\": \"mcse_sd\",\n      \"properties\": {\n        \"dtype\": \"number\",\n        \"std\": 0.00405777928374286,\n        \"min\": 0.0,\n        \"max\": 0.01,\n        \"num_unique_values\": 2,\n        \"samples\": [\n          0.01,\n          0.0\n        ],\n        \"semantic_type\": \"\",\n        \"description\": \"\"\n      }\n    },\n    {\n      \"column\": \"ess_bulk\",\n      \"properties\": {\n        \"dtype\": \"number\",\n        \"std\": 197.52092601517333,\n        \"min\": 2336.36,\n        \"max\": 3281.7,\n        \"num_unique_values\": 12,\n        \"samples\": [\n          2866.56,\n          3178.82\n        ],\n        \"semantic_type\": \"\",\n        \"description\": \"\"\n      }\n    },\n    {\n      \"column\": \"ess_tail\",\n      \"properties\": {\n        \"dtype\": \"number\",\n        \"std\": 150.83471187368218,\n        \"min\": 1146.89,\n        \"max\": 1738.62,\n        \"num_unique_values\": 12,\n        \"samples\": [\n          1738.62,\n          1429.89\n        ],\n        \"semantic_type\": \"\",\n        \"description\": \"\"\n      }\n    },\n    {\n      \"column\": \"r_hat\",\n      \"properties\": {\n        \"dtype\": \"number\",\n        \"std\": 0.0,\n        \"min\": 1.0,\n        \"max\": 1.0,\n        \"num_unique_values\": 1,\n        \"samples\": [\n          1.0\n        ],\n        \"semantic_type\": \"\",\n        \"description\": \"\"\n      }\n    }\n  ]\n}",
              "type": "dataframe"
            },
            "text/html": [
              "\n",
              "  <div id=\"df-1d770fba-5732-4cfb-933f-4bdbb2124bbf\" class=\"colab-df-container\">\n",
              "    <div>\n",
              "<style scoped>\n",
              "    .dataframe tbody tr th:only-of-type {\n",
              "        vertical-align: middle;\n",
              "    }\n",
              "\n",
              "    .dataframe tbody tr th {\n",
              "        vertical-align: top;\n",
              "    }\n",
              "\n",
              "    .dataframe thead th {\n",
              "        text-align: right;\n",
              "    }\n",
              "</style>\n",
              "<table border=\"1\" class=\"dataframe\">\n",
              "  <thead>\n",
              "    <tr style=\"text-align: right;\">\n",
              "      <th></th>\n",
              "      <th>mean</th>\n",
              "      <th>sd</th>\n",
              "      <th>hdi_3%</th>\n",
              "      <th>hdi_97%</th>\n",
              "      <th>mcse_mean</th>\n",
              "      <th>mcse_sd</th>\n",
              "      <th>ess_bulk</th>\n",
              "      <th>ess_tail</th>\n",
              "      <th>r_hat</th>\n",
              "    </tr>\n",
              "  </thead>\n",
              "  <tbody>\n",
              "    <tr>\n",
              "      <th>pWeekday</th>\n",
              "      <td>0.34</td>\n",
              "      <td>0.27</td>\n",
              "      <td>0.00</td>\n",
              "      <td>0.87</td>\n",
              "      <td>0.01</td>\n",
              "      <td>0.00</td>\n",
              "      <td>2336.36</td>\n",
              "      <td>1379.66</td>\n",
              "      <td>1.0</td>\n",
              "    </tr>\n",
              "    <tr>\n",
              "      <th>pNight</th>\n",
              "      <td>0.45</td>\n",
              "      <td>0.28</td>\n",
              "      <td>0.00</td>\n",
              "      <td>0.91</td>\n",
              "      <td>0.00</td>\n",
              "      <td>0.00</td>\n",
              "      <td>2931.62</td>\n",
              "      <td>1353.81</td>\n",
              "      <td>1.0</td>\n",
              "    </tr>\n",
              "    <tr>\n",
              "      <th>pMorningBase</th>\n",
              "      <td>0.18</td>\n",
              "      <td>0.16</td>\n",
              "      <td>0.00</td>\n",
              "      <td>0.49</td>\n",
              "      <td>0.00</td>\n",
              "      <td>0.00</td>\n",
              "      <td>3180.53</td>\n",
              "      <td>1243.84</td>\n",
              "      <td>1.0</td>\n",
              "    </tr>\n",
              "    <tr>\n",
              "      <th>pMiddayBase</th>\n",
              "      <td>0.20</td>\n",
              "      <td>0.17</td>\n",
              "      <td>0.00</td>\n",
              "      <td>0.53</td>\n",
              "      <td>0.00</td>\n",
              "      <td>0.00</td>\n",
              "      <td>2824.95</td>\n",
              "      <td>1527.56</td>\n",
              "      <td>1.0</td>\n",
              "    </tr>\n",
              "    <tr>\n",
              "      <th>pAfternoonBase</th>\n",
              "      <td>0.16</td>\n",
              "      <td>0.14</td>\n",
              "      <td>0.00</td>\n",
              "      <td>0.43</td>\n",
              "      <td>0.00</td>\n",
              "      <td>0.00</td>\n",
              "      <td>3011.53</td>\n",
              "      <td>1219.50</td>\n",
              "      <td>1.0</td>\n",
              "    </tr>\n",
              "    <tr>\n",
              "      <th>...</th>\n",
              "      <td>...</td>\n",
              "      <td>...</td>\n",
              "      <td>...</td>\n",
              "      <td>...</td>\n",
              "      <td>...</td>\n",
              "      <td>...</td>\n",
              "      <td>...</td>\n",
              "      <td>...</td>\n",
              "      <td>...</td>\n",
              "    </tr>\n",
              "    <tr>\n",
              "      <th>logit_p[95]</th>\n",
              "      <td>0.24</td>\n",
              "      <td>0.15</td>\n",
              "      <td>0.00</td>\n",
              "      <td>0.52</td>\n",
              "      <td>0.00</td>\n",
              "      <td>0.00</td>\n",
              "      <td>2722.30</td>\n",
              "      <td>1637.20</td>\n",
              "      <td>1.0</td>\n",
              "    </tr>\n",
              "    <tr>\n",
              "      <th>logit_p[96]</th>\n",
              "      <td>0.26</td>\n",
              "      <td>0.17</td>\n",
              "      <td>0.00</td>\n",
              "      <td>0.57</td>\n",
              "      <td>0.00</td>\n",
              "      <td>0.00</td>\n",
              "      <td>3178.82</td>\n",
              "      <td>1429.89</td>\n",
              "      <td>1.0</td>\n",
              "    </tr>\n",
              "    <tr>\n",
              "      <th>logit_p[97]</th>\n",
              "      <td>0.04</td>\n",
              "      <td>0.26</td>\n",
              "      <td>-0.46</td>\n",
              "      <td>0.56</td>\n",
              "      <td>0.00</td>\n",
              "      <td>0.01</td>\n",
              "      <td>2866.56</td>\n",
              "      <td>1738.62</td>\n",
              "      <td>1.0</td>\n",
              "    </tr>\n",
              "    <tr>\n",
              "      <th>logit_p[98]</th>\n",
              "      <td>0.26</td>\n",
              "      <td>0.21</td>\n",
              "      <td>0.00</td>\n",
              "      <td>0.65</td>\n",
              "      <td>0.00</td>\n",
              "      <td>0.00</td>\n",
              "      <td>2627.39</td>\n",
              "      <td>1358.10</td>\n",
              "      <td>1.0</td>\n",
              "    </tr>\n",
              "    <tr>\n",
              "      <th>logit_p[99]</th>\n",
              "      <td>0.24</td>\n",
              "      <td>0.15</td>\n",
              "      <td>0.00</td>\n",
              "      <td>0.52</td>\n",
              "      <td>0.00</td>\n",
              "      <td>0.00</td>\n",
              "      <td>2722.30</td>\n",
              "      <td>1637.20</td>\n",
              "      <td>1.0</td>\n",
              "    </tr>\n",
              "  </tbody>\n",
              "</table>\n",
              "<p>112 rows × 9 columns</p>\n",
              "</div>\n",
              "    <div class=\"colab-df-buttons\">\n",
              "\n",
              "  <div class=\"colab-df-container\">\n",
              "    <button class=\"colab-df-convert\" onclick=\"convertToInteractive('df-1d770fba-5732-4cfb-933f-4bdbb2124bbf')\"\n",
              "            title=\"Convert this dataframe to an interactive table.\"\n",
              "            style=\"display:none;\">\n",
              "\n",
              "  <svg xmlns=\"http://www.w3.org/2000/svg\" height=\"24px\" viewBox=\"0 -960 960 960\">\n",
              "    <path d=\"M120-120v-720h720v720H120Zm60-500h600v-160H180v160Zm220 220h160v-160H400v160Zm0 220h160v-160H400v160ZM180-400h160v-160H180v160Zm440 0h160v-160H620v160ZM180-180h160v-160H180v160Zm440 0h160v-160H620v160Z\"/>\n",
              "  </svg>\n",
              "    </button>\n",
              "\n",
              "  <style>\n",
              "    .colab-df-container {\n",
              "      display:flex;\n",
              "      gap: 12px;\n",
              "    }\n",
              "\n",
              "    .colab-df-convert {\n",
              "      background-color: #E8F0FE;\n",
              "      border: none;\n",
              "      border-radius: 50%;\n",
              "      cursor: pointer;\n",
              "      display: none;\n",
              "      fill: #1967D2;\n",
              "      height: 32px;\n",
              "      padding: 0 0 0 0;\n",
              "      width: 32px;\n",
              "    }\n",
              "\n",
              "    .colab-df-convert:hover {\n",
              "      background-color: #E2EBFA;\n",
              "      box-shadow: 0px 1px 2px rgba(60, 64, 67, 0.3), 0px 1px 3px 1px rgba(60, 64, 67, 0.15);\n",
              "      fill: #174EA6;\n",
              "    }\n",
              "\n",
              "    .colab-df-buttons div {\n",
              "      margin-bottom: 4px;\n",
              "    }\n",
              "\n",
              "    [theme=dark] .colab-df-convert {\n",
              "      background-color: #3B4455;\n",
              "      fill: #D2E3FC;\n",
              "    }\n",
              "\n",
              "    [theme=dark] .colab-df-convert:hover {\n",
              "      background-color: #434B5C;\n",
              "      box-shadow: 0px 1px 3px 1px rgba(0, 0, 0, 0.15);\n",
              "      filter: drop-shadow(0px 1px 2px rgba(0, 0, 0, 0.3));\n",
              "      fill: #FFFFFF;\n",
              "    }\n",
              "  </style>\n",
              "\n",
              "    <script>\n",
              "      const buttonEl =\n",
              "        document.querySelector('#df-1d770fba-5732-4cfb-933f-4bdbb2124bbf button.colab-df-convert');\n",
              "      buttonEl.style.display =\n",
              "        google.colab.kernel.accessAllowed ? 'block' : 'none';\n",
              "\n",
              "      async function convertToInteractive(key) {\n",
              "        const element = document.querySelector('#df-1d770fba-5732-4cfb-933f-4bdbb2124bbf');\n",
              "        const dataTable =\n",
              "          await google.colab.kernel.invokeFunction('convertToInteractive',\n",
              "                                                    [key], {});\n",
              "        if (!dataTable) return;\n",
              "\n",
              "        const docLinkHtml = 'Like what you see? Visit the ' +\n",
              "          '<a target=\"_blank\" href=https://colab.research.google.com/notebooks/data_table.ipynb>data table notebook</a>'\n",
              "          + ' to learn more about interactive tables.';\n",
              "        element.innerHTML = '';\n",
              "        dataTable['output_type'] = 'display_data';\n",
              "        await google.colab.output.renderOutput(dataTable, element);\n",
              "        const docLink = document.createElement('div');\n",
              "        docLink.innerHTML = docLinkHtml;\n",
              "        element.appendChild(docLink);\n",
              "      }\n",
              "    </script>\n",
              "  </div>\n",
              "\n",
              "\n",
              "<div id=\"df-8b62eb18-97ef-4c23-afb3-aab43fa5ddb9\">\n",
              "  <button class=\"colab-df-quickchart\" onclick=\"quickchart('df-8b62eb18-97ef-4c23-afb3-aab43fa5ddb9')\"\n",
              "            title=\"Suggest charts\"\n",
              "            style=\"display:none;\">\n",
              "\n",
              "<svg xmlns=\"http://www.w3.org/2000/svg\" height=\"24px\"viewBox=\"0 0 24 24\"\n",
              "     width=\"24px\">\n",
              "    <g>\n",
              "        <path d=\"M19 3H5c-1.1 0-2 .9-2 2v14c0 1.1.9 2 2 2h14c1.1 0 2-.9 2-2V5c0-1.1-.9-2-2-2zM9 17H7v-7h2v7zm4 0h-2V7h2v10zm4 0h-2v-4h2v4z\"/>\n",
              "    </g>\n",
              "</svg>\n",
              "  </button>\n",
              "\n",
              "<style>\n",
              "  .colab-df-quickchart {\n",
              "      --bg-color: #E8F0FE;\n",
              "      --fill-color: #1967D2;\n",
              "      --hover-bg-color: #E2EBFA;\n",
              "      --hover-fill-color: #174EA6;\n",
              "      --disabled-fill-color: #AAA;\n",
              "      --disabled-bg-color: #DDD;\n",
              "  }\n",
              "\n",
              "  [theme=dark] .colab-df-quickchart {\n",
              "      --bg-color: #3B4455;\n",
              "      --fill-color: #D2E3FC;\n",
              "      --hover-bg-color: #434B5C;\n",
              "      --hover-fill-color: #FFFFFF;\n",
              "      --disabled-bg-color: #3B4455;\n",
              "      --disabled-fill-color: #666;\n",
              "  }\n",
              "\n",
              "  .colab-df-quickchart {\n",
              "    background-color: var(--bg-color);\n",
              "    border: none;\n",
              "    border-radius: 50%;\n",
              "    cursor: pointer;\n",
              "    display: none;\n",
              "    fill: var(--fill-color);\n",
              "    height: 32px;\n",
              "    padding: 0;\n",
              "    width: 32px;\n",
              "  }\n",
              "\n",
              "  .colab-df-quickchart:hover {\n",
              "    background-color: var(--hover-bg-color);\n",
              "    box-shadow: 0 1px 2px rgba(60, 64, 67, 0.3), 0 1px 3px 1px rgba(60, 64, 67, 0.15);\n",
              "    fill: var(--button-hover-fill-color);\n",
              "  }\n",
              "\n",
              "  .colab-df-quickchart-complete:disabled,\n",
              "  .colab-df-quickchart-complete:disabled:hover {\n",
              "    background-color: var(--disabled-bg-color);\n",
              "    fill: var(--disabled-fill-color);\n",
              "    box-shadow: none;\n",
              "  }\n",
              "\n",
              "  .colab-df-spinner {\n",
              "    border: 2px solid var(--fill-color);\n",
              "    border-color: transparent;\n",
              "    border-bottom-color: var(--fill-color);\n",
              "    animation:\n",
              "      spin 1s steps(1) infinite;\n",
              "  }\n",
              "\n",
              "  @keyframes spin {\n",
              "    0% {\n",
              "      border-color: transparent;\n",
              "      border-bottom-color: var(--fill-color);\n",
              "      border-left-color: var(--fill-color);\n",
              "    }\n",
              "    20% {\n",
              "      border-color: transparent;\n",
              "      border-left-color: var(--fill-color);\n",
              "      border-top-color: var(--fill-color);\n",
              "    }\n",
              "    30% {\n",
              "      border-color: transparent;\n",
              "      border-left-color: var(--fill-color);\n",
              "      border-top-color: var(--fill-color);\n",
              "      border-right-color: var(--fill-color);\n",
              "    }\n",
              "    40% {\n",
              "      border-color: transparent;\n",
              "      border-right-color: var(--fill-color);\n",
              "      border-top-color: var(--fill-color);\n",
              "    }\n",
              "    60% {\n",
              "      border-color: transparent;\n",
              "      border-right-color: var(--fill-color);\n",
              "    }\n",
              "    80% {\n",
              "      border-color: transparent;\n",
              "      border-right-color: var(--fill-color);\n",
              "      border-bottom-color: var(--fill-color);\n",
              "    }\n",
              "    90% {\n",
              "      border-color: transparent;\n",
              "      border-bottom-color: var(--fill-color);\n",
              "    }\n",
              "  }\n",
              "</style>\n",
              "\n",
              "  <script>\n",
              "    async function quickchart(key) {\n",
              "      const quickchartButtonEl =\n",
              "        document.querySelector('#' + key + ' button');\n",
              "      quickchartButtonEl.disabled = true;  // To prevent multiple clicks.\n",
              "      quickchartButtonEl.classList.add('colab-df-spinner');\n",
              "      try {\n",
              "        const charts = await google.colab.kernel.invokeFunction(\n",
              "            'suggestCharts', [key], {});\n",
              "      } catch (error) {\n",
              "        console.error('Error during call to suggestCharts:', error);\n",
              "      }\n",
              "      quickchartButtonEl.classList.remove('colab-df-spinner');\n",
              "      quickchartButtonEl.classList.add('colab-df-quickchart-complete');\n",
              "    }\n",
              "    (() => {\n",
              "      let quickchartButtonEl =\n",
              "        document.querySelector('#df-8b62eb18-97ef-4c23-afb3-aab43fa5ddb9 button');\n",
              "      quickchartButtonEl.style.display =\n",
              "        google.colab.kernel.accessAllowed ? 'block' : 'none';\n",
              "    })();\n",
              "  </script>\n",
              "</div>\n",
              "\n",
              "    </div>\n",
              "  </div>\n"
            ],
            "text/plain": [
              "                mean    sd  hdi_3%  hdi_97%  mcse_mean  mcse_sd  ess_bulk  \\\n",
              "pWeekday        0.34  0.27    0.00     0.87       0.01     0.00   2336.36   \n",
              "pNight          0.45  0.28    0.00     0.91       0.00     0.00   2931.62   \n",
              "pMorningBase    0.18  0.16    0.00     0.49       0.00     0.00   3180.53   \n",
              "pMiddayBase     0.20  0.17    0.00     0.53       0.00     0.00   2824.95   \n",
              "pAfternoonBase  0.16  0.14    0.00     0.43       0.00     0.00   3011.53   \n",
              "...              ...   ...     ...      ...        ...      ...       ...   \n",
              "logit_p[95]     0.24  0.15    0.00     0.52       0.00     0.00   2722.30   \n",
              "logit_p[96]     0.26  0.17    0.00     0.57       0.00     0.00   3178.82   \n",
              "logit_p[97]     0.04  0.26   -0.46     0.56       0.00     0.01   2866.56   \n",
              "logit_p[98]     0.26  0.21    0.00     0.65       0.00     0.00   2627.39   \n",
              "logit_p[99]     0.24  0.15    0.00     0.52       0.00     0.00   2722.30   \n",
              "\n",
              "                ess_tail  r_hat  \n",
              "pWeekday         1379.66    1.0  \n",
              "pNight           1353.81    1.0  \n",
              "pMorningBase     1243.84    1.0  \n",
              "pMiddayBase      1527.56    1.0  \n",
              "pAfternoonBase   1219.50    1.0  \n",
              "...                  ...    ...  \n",
              "logit_p[95]      1637.20    1.0  \n",
              "logit_p[96]      1429.89    1.0  \n",
              "logit_p[97]      1738.62    1.0  \n",
              "logit_p[98]      1358.10    1.0  \n",
              "logit_p[99]      1637.20    1.0  \n",
              "\n",
              "[112 rows x 9 columns]"
            ]
          },
          "execution_count": 8,
          "metadata": {},
          "output_type": "execute_result"
        }
      ],
      "source": [
        "print(\"number of MCMC samples:\", timedaydata.posterior['pWeekday'].values.flatten().shape[-1])\n",
        "az.summary(timedaydata, round_to=2)"
      ]
    },
    {
      "cell_type": "code",
      "execution_count": null,
      "metadata": {
        "colab": {
          "base_uri": "https://localhost:8080/",
          "height": 290
        },
        "id": "3jmlfnEeI3xC",
        "outputId": "a0b621a3-e370-4ce6-e0cd-501e0179de29"
      },
      "outputs": [
        {
          "name": "stderr",
          "output_type": "stream",
          "text": [
            "/usr/local/lib/python3.10/dist-packages/arviz/utils.py:184: NumbaDeprecationWarning: The 'nopython' keyword argument was not supplied to the 'numba.jit' decorator. The implicit default value for this argument is currently False, but it will be changed to True in Numba 0.59.0. See https://numba.readthedocs.io/en/stable/reference/deprecation.html#deprecation-of-object-mode-fall-back-behaviour-when-using-jit for details.\n",
            "  numba_fn = numba.jit(**self.kwargs)(self.function)\n"
          ]
        },
        {
          "data": {
            "image/png": "[encoded data removed]",
            "text/plain": [
              "<Figure size 1200x200 with 2 Axes>"
            ]
          },
          "metadata": {},
          "output_type": "display_data"
        }
      ],
      "source": [
        "az.plot_trace(timedaydata, combined = True,var_names ='pEvening' );"
      ]
    },
    {
      "cell_type": "markdown",
      "metadata": {
        "id": "fsRJm-bNDoTM"
      },
      "source": [
        "Variable selection for the conditions factors using Spike and Slab"
      ]
    },
    {
      "cell_type": "code",
      "execution_count": null,
      "metadata": {
        "colab": {
          "base_uri": "https://localhost:8080/",
          "height": 114
        },
        "id": "xZfOSJEm-w9B",
        "outputId": "805e3190-8ed3-494e-e537-f23bf85ddcbd"
      },
      "outputs": [
        {
          "data": {
            "text/html": [
              "\n",
              "<style>\n",
              "    /* Turns off some styling */\n",
              "    progress {\n",
              "        /* gets rid of default border in Firefox and Opera. */\n",
              "        border: none;\n",
              "        /* Needs to be in here for Safari polyfill so background images work as expected. */\n",
              "        background-size: auto;\n",
              "    }\n",
              "    progress:not([value]), progress:not([value])::-webkit-progress-bar {\n",
              "        background: repeating-linear-gradient(45deg, #7e7e7e, #7e7e7e 10px, #5c5c5c 10px, #5c5c5c 20px);\n",
              "    }\n",
              "    .progress-bar-interrupted, .progress-bar-interrupted::-webkit-progress-bar {\n",
              "        background: #F44336;\n",
              "    }\n",
              "</style>\n"
            ],
            "text/plain": [
              "<IPython.core.display.HTML object>"
            ]
          },
          "metadata": {},
          "output_type": "display_data"
        },
        {
          "data": {
            "text/html": [
              "\n",
              "    <div>\n",
              "      <progress value='2000' class='' max='2000' style='width:300px; height:20px; vertical-align: middle;'></progress>\n",
              "      100.00% [2000/2000 00:05&lt;00:00 Sampling chain 0, 8 divergences]\n",
              "    </div>\n",
              "    "
            ],
            "text/plain": [
              "<IPython.core.display.HTML object>"
            ]
          },
          "metadata": {},
          "output_type": "display_data"
        },
        {
          "data": {
            "text/html": [
              "\n",
              "<style>\n",
              "    /* Turns off some styling */\n",
              "    progress {\n",
              "        /* gets rid of default border in Firefox and Opera. */\n",
              "        border: none;\n",
              "        /* Needs to be in here for Safari polyfill so background images work as expected. */\n",
              "        background-size: auto;\n",
              "    }\n",
              "    progress:not([value]), progress:not([value])::-webkit-progress-bar {\n",
              "        background: repeating-linear-gradient(45deg, #7e7e7e, #7e7e7e 10px, #5c5c5c 10px, #5c5c5c 20px);\n",
              "    }\n",
              "    .progress-bar-interrupted, .progress-bar-interrupted::-webkit-progress-bar {\n",
              "        background: #F44336;\n",
              "    }\n",
              "</style>\n"
            ],
            "text/plain": [
              "<IPython.core.display.HTML object>"
            ]
          },
          "metadata": {},
          "output_type": "display_data"
        },
        {
          "data": {
            "text/html": [
              "\n",
              "    <div>\n",
              "      <progress value='2000' class='' max='2000' style='width:300px; height:20px; vertical-align: middle;'></progress>\n",
              "      100.00% [2000/2000 00:06&lt;00:00 Sampling chain 1, 16 divergences]\n",
              "    </div>\n",
              "    "
            ],
            "text/plain": [
              "<IPython.core.display.HTML object>"
            ]
          },
          "metadata": {},
          "output_type": "display_data"
        },
        {
          "data": {
            "text/html": [
              "\n",
              "<style>\n",
              "    /* Turns off some styling */\n",
              "    progress {\n",
              "        /* gets rid of default border in Firefox and Opera. */\n",
              "        border: none;\n",
              "        /* Needs to be in here for Safari polyfill so background images work as expected. */\n",
              "        background-size: auto;\n",
              "    }\n",
              "    progress:not([value]), progress:not([value])::-webkit-progress-bar {\n",
              "        background: repeating-linear-gradient(45deg, #7e7e7e, #7e7e7e 10px, #5c5c5c 10px, #5c5c5c 20px);\n",
              "    }\n",
              "    .progress-bar-interrupted, .progress-bar-interrupted::-webkit-progress-bar {\n",
              "        background: #F44336;\n",
              "    }\n",
              "</style>\n"
            ],
            "text/plain": [
              "<IPython.core.display.HTML object>"
            ]
          },
          "metadata": {},
          "output_type": "display_data"
        },
        {
          "data": {
            "text/html": [
              "\n",
              "    <div>\n",
              "      <progress value='3000' class='' max='3000' style='width:300px; height:20px; vertical-align: middle;'></progress>\n",
              "      100.00% [3000/3000 00:12&lt;00:00 Sampling chain 0, 19 divergences]\n",
              "    </div>\n",
              "    "
            ],
            "text/plain": [
              "<IPython.core.display.HTML object>"
            ]
          },
          "metadata": {},
          "output_type": "display_data"
        },
        {
          "data": {
            "text/html": [
              "\n",
              "<style>\n",
              "    /* Turns off some styling */\n",
              "    progress {\n",
              "        /* gets rid of default border in Firefox and Opera. */\n",
              "        border: none;\n",
              "        /* Needs to be in here for Safari polyfill so background images work as expected. */\n",
              "        background-size: auto;\n",
              "    }\n",
              "    progress:not([value]), progress:not([value])::-webkit-progress-bar {\n",
              "        background: repeating-linear-gradient(45deg, #7e7e7e, #7e7e7e 10px, #5c5c5c 10px, #5c5c5c 20px);\n",
              "    }\n",
              "    .progress-bar-interrupted, .progress-bar-interrupted::-webkit-progress-bar {\n",
              "        background: #F44336;\n",
              "    }\n",
              "</style>\n"
            ],
            "text/plain": [
              "<IPython.core.display.HTML object>"
            ]
          },
          "metadata": {},
          "output_type": "display_data"
        },
        {
          "data": {
            "text/html": [
              "\n",
              "    <div>\n",
              "      <progress value='3000' class='' max='3000' style='width:300px; height:20px; vertical-align: middle;'></progress>\n",
              "      100.00% [3000/3000 00:11&lt;00:00 Sampling chain 1, 39 divergences]\n",
              "    </div>\n",
              "    "
            ],
            "text/plain": [
              "<IPython.core.display.HTML object>"
            ]
          },
          "metadata": {},
          "output_type": "display_data"
        },
        {
          "name": "stdout",
          "output_type": "stream",
          "text": [
            "Selected predictors: ['Dark' 'Clear']\n"
          ]
        }
      ],
      "source": [
        "predictors = ['DryRoad', 'Dark', 'DualCarriageway', 'Clear','Speed_limit']\n",
        "\n",
        "# Get predictors and target variable as numpy arrays\n",
        "X = cleandata[predictors].values[-100:]\n",
        "y = cleandata['Severity_binary'].values[-100:]\n",
        "\n",
        "# Number of predictors\n",
        "n_predictors = X.shape[1]\n",
        "\n",
        "# Define Bayesian binary regression model with spike-and-slab priors for variable selection\n",
        "with pm.Model() as model:\n",
        "    # Coefficients for predictors\n",
        "    slab = pm.Normal('slab', mu=0, sigma=1, shape=n_predictors)\n",
        "\n",
        "    # Indicator variables for spike-and-slab\n",
        "    spike = pm.Bernoulli('spike', p=0.5, shape=n_predictors)\n",
        "\n",
        "    # Create deterministic variable for selected coefficients\n",
        "    beta = pm.Deterministic('beta', slab * spike)\n",
        "\n",
        "    # Logistic regression model\n",
        "    p = pm.math.invlogit(pm.math.dot(X, beta))\n",
        "    y_obs = pm.Bernoulli('y_obs', p=p, observed=y)\n",
        "    idata = pm.sample()\n",
        "\n",
        "    # Sample from the posterior\n",
        "    trace = pm.sample(2000, tune=1000, return_inferencedata=False)\n",
        "\n",
        "# Extract selected predictors based on posterior samples of gamma\n",
        "selected_predictors = np.array(predictors)[np.mean(trace['spike'], axis=0) > 0.5]\n",
        "print(\"Selected predictors:\", selected_predictors)"
      ]
    },
    {
      "cell_type": "code",
      "execution_count": null,
      "metadata": {
        "colab": {
          "base_uri": "https://localhost:8080/",
          "height": 486
        },
        "id": "13H8dkDUj_-o",
        "outputId": "5bf485bc-cdd4-4c14-b774-853cb8744c7a"
      },
      "outputs": [
        {
          "data": {
            "image/svg+xml": "<?xml version=\"1.0\" encoding=\"UTF-8\" standalone=\"no\"?>\n<!DOCTYPE svg PUBLIC \"-//W3C//DTD SVG 1.1//EN\"\n \"http://www.w3.org/Graphics/SVG/1.1/DTD/svg11.dtd\">\n<!-- Generated by graphviz version 2.43.0 (0)\n -->\n<!-- Title: %3 Pages: 1 -->\n<svg width=\"239pt\" height=\"349pt\"\n viewBox=\"0.00 0.00 239.00 348.91\" xmlns=\"http://www.w3.org/2000/svg\" xmlns:xlink=\"http://www.w3.org/1999/xlink\">\n<g id=\"graph0\" class=\"graph\" transform=\"scale(1 1) rotate(0) translate(4 344.91)\">\n<title>%3</title>\n<polygon fill=\"white\" stroke=\"transparent\" points=\"-4,4 -4,-344.91 235,-344.91 235,4 -4,4\"/>\n<g id=\"clust1\" class=\"cluster\">\n<title>cluster5</title>\n<path fill=\"none\" stroke=\"black\" d=\"M21,-129.95C21,-129.95 211,-129.95 211,-129.95 217,-129.95 223,-135.95 223,-141.95 223,-141.95 223,-320.91 223,-320.91 223,-326.91 217,-332.91 211,-332.91 211,-332.91 21,-332.91 21,-332.91 15,-332.91 9,-326.91 9,-320.91 9,-320.91 9,-141.95 9,-141.95 9,-135.95 15,-129.95 21,-129.95\"/>\n<text text-anchor=\"middle\" x=\"211.5\" y=\"-137.75\" font-family=\"Times,serif\" font-size=\"14.00\">5</text>\n</g>\n<g id=\"clust2\" class=\"cluster\">\n<title>cluster100</title>\n<path fill=\"none\" stroke=\"black\" d=\"M20,-8C20,-8 108,-8 108,-8 114,-8 120,-14 120,-20 120,-20 120,-109.95 120,-109.95 120,-115.95 114,-121.95 108,-121.95 108,-121.95 20,-121.95 20,-121.95 14,-121.95 8,-115.95 8,-109.95 8,-109.95 8,-20 8,-20 8,-14 14,-8 20,-8\"/>\n<text text-anchor=\"middle\" x=\"101.5\" y=\"-15.8\" font-family=\"Times,serif\" font-size=\"14.00\">100</text>\n</g>\n<!-- beta -->\n<g id=\"node1\" class=\"node\">\n<title>beta</title>\n<polygon fill=\"none\" stroke=\"black\" points=\"109.5,-213.95 18.5,-213.95 18.5,-160.95 109.5,-160.95 109.5,-213.95\"/>\n<text text-anchor=\"middle\" x=\"64\" y=\"-198.75\" font-family=\"Times,serif\" font-size=\"14.00\">beta</text>\n<text text-anchor=\"middle\" x=\"64\" y=\"-183.75\" font-family=\"Times,serif\" font-size=\"14.00\">~</text>\n<text text-anchor=\"middle\" x=\"64\" y=\"-168.75\" font-family=\"Times,serif\" font-size=\"14.00\">Deterministic</text>\n</g>\n<!-- y_obs -->\n<g id=\"node4\" class=\"node\">\n<title>y_obs</title>\n<ellipse fill=\"lightgrey\" stroke=\"black\" cx=\"64\" cy=\"-76.48\" rx=\"48.17\" ry=\"37.45\"/>\n<text text-anchor=\"middle\" x=\"64\" y=\"-87.78\" font-family=\"Times,serif\" font-size=\"14.00\">y_obs</text>\n<text text-anchor=\"middle\" x=\"64\" y=\"-72.78\" font-family=\"Times,serif\" font-size=\"14.00\">~</text>\n<text text-anchor=\"middle\" x=\"64\" y=\"-57.78\" font-family=\"Times,serif\" font-size=\"14.00\">Bernoulli</text>\n</g>\n<!-- beta&#45;&gt;y_obs -->\n<g id=\"edge3\" class=\"edge\">\n<title>beta&#45;&gt;y_obs</title>\n<path fill=\"none\" stroke=\"black\" d=\"M64,-160.9C64,-149.99 64,-136.9 64,-124.36\"/>\n<polygon fill=\"black\" stroke=\"black\" points=\"67.5,-124.01 64,-114.01 60.5,-124.01 67.5,-124.01\"/>\n</g>\n<!-- spike -->\n<g id=\"node2\" class=\"node\">\n<title>spike</title>\n<ellipse fill=\"none\" stroke=\"black\" cx=\"167\" cy=\"-287.43\" rx=\"48.17\" ry=\"37.45\"/>\n<text text-anchor=\"middle\" x=\"167\" y=\"-298.73\" font-family=\"Times,serif\" font-size=\"14.00\">spike</text>\n<text text-anchor=\"middle\" x=\"167\" y=\"-283.73\" font-family=\"Times,serif\" font-size=\"14.00\">~</text>\n<text text-anchor=\"middle\" x=\"167\" y=\"-268.73\" font-family=\"Times,serif\" font-size=\"14.00\">Bernoulli</text>\n</g>\n<!-- spike&#45;&gt;beta -->\n<g id=\"edge1\" class=\"edge\">\n<title>spike&#45;&gt;beta</title>\n<path fill=\"none\" stroke=\"black\" d=\"M136.93,-257.83C124.93,-246.41 111.05,-233.2 98.63,-221.39\"/>\n<polygon fill=\"black\" stroke=\"black\" points=\"100.78,-218.61 91.12,-214.25 95.95,-223.68 100.78,-218.61\"/>\n</g>\n<!-- slab -->\n<g id=\"node3\" class=\"node\">\n<title>slab</title>\n<ellipse fill=\"none\" stroke=\"black\" cx=\"59\" cy=\"-287.43\" rx=\"41.94\" ry=\"37.45\"/>\n<text text-anchor=\"middle\" x=\"59\" y=\"-298.73\" font-family=\"Times,serif\" font-size=\"14.00\">slab</text>\n<text text-anchor=\"middle\" x=\"59\" y=\"-283.73\" font-family=\"Times,serif\" font-size=\"14.00\">~</text>\n<text text-anchor=\"middle\" x=\"59\" y=\"-268.73\" font-family=\"Times,serif\" font-size=\"14.00\">Normal</text>\n</g>\n<!-- slab&#45;&gt;beta -->\n<g id=\"edge2\" class=\"edge\">\n<title>slab&#45;&gt;beta</title>\n<path fill=\"none\" stroke=\"black\" d=\"M60.86,-249.95C61.29,-241.53 61.75,-232.59 62.18,-224.2\"/>\n<polygon fill=\"black\" stroke=\"black\" points=\"65.68,-224.13 62.7,-213.96 58.69,-223.77 65.68,-224.13\"/>\n</g>\n</g>\n</svg>\n",
            "text/plain": [
              "<graphviz.graphs.Digraph at 0x7c4afdc69960>"
            ]
          },
          "execution_count": 11,
          "metadata": {},
          "output_type": "execute_result"
        }
      ],
      "source": [
        "pm.model_to_graphviz(model)"
      ]
    },
    {
      "cell_type": "code",
      "execution_count": null,
      "metadata": {
        "colab": {
          "base_uri": "https://localhost:8080/",
          "height": 511
        },
        "id": "dWPFzt0ZBe1O",
        "outputId": "b545daee-cb47-4b22-fdcc-218ffb79acef"
      },
      "outputs": [
        {
          "data": {
            "text/plain": [
              "[Text(1, 0, 'DryRoad'),\n",
              " Text(2, 0, 'Dark'),\n",
              " Text(3, 0, 'DualCarriageway'),\n",
              " Text(4, 0, 'Clear'),\n",
              " Text(5, 0, 'Speed_limit')]"
            ]
          },
          "execution_count": 12,
          "metadata": {},
          "output_type": "execute_result"
        },
        {
          "data": {
            "image/png": "[encoded data removed]",
            "text/plain": [
              "<Figure size 1800x500 with 2 Axes>"
            ]
          },
          "metadata": {},
          "output_type": "display_data"
        }
      ],
      "source": [
        "# Spike and Slab variable selection plots: only the second and the fourth betas have inclusion probability > 0.5\n",
        "import matplotlib.pyplot as plt\n",
        "fig,ax = plt.subplots(1,2,figsize=(18,5));\n",
        "\n",
        "num_of_beta = 5\n",
        "ax[0].plot(idata.posterior['spike'].values.reshape((-1,num_of_beta)).mean(axis=0),'.');\n",
        "ax[0].set_title('Posterior Inclusion Probability');\n",
        "ax[1].boxplot(idata.posterior['beta'].values.reshape((-1,num_of_beta)));\n",
        "ax[1].set_title('Posterior $\\\\beta$');\n",
        "ax[1].set_xticklabels(['DryRoad', 'Dark', 'DualCarriageway', 'Clear','Speed_limit'])"
      ]
    },
    {
      "cell_type": "markdown",
      "metadata": {
        "id": "B4AQrNQL1dhy"
      },
      "source": [
        "In the plot above we see that DryRoad and DualCarriageway were both not selected and they were slabbed to zero"
      ]
    },
    {
      "cell_type": "markdown",
      "metadata": {
        "id": "NsowOxqJmFtA"
      },
      "source": [
        "# Combine selected predictors with hierarchical model established earlier"
      ]
    },
    {
      "cell_type": "code",
      "execution_count": null,
      "metadata": {
        "colab": {
          "base_uri": "https://localhost:8080/",
          "height": 57
        },
        "id": "Xr2I8j9BmgAu",
        "outputId": "dd53865d-e271-4422-dd71-bcad01845d9b"
      },
      "outputs": [
        {
          "data": {
            "text/html": [
              "\n",
              "<style>\n",
              "    /* Turns off some styling */\n",
              "    progress {\n",
              "        /* gets rid of default border in Firefox and Opera. */\n",
              "        border: none;\n",
              "        /* Needs to be in here for Safari polyfill so background images work as expected. */\n",
              "        background-size: auto;\n",
              "    }\n",
              "    progress:not([value]), progress:not([value])::-webkit-progress-bar {\n",
              "        background: repeating-linear-gradient(45deg, #7e7e7e, #7e7e7e 10px, #5c5c5c 10px, #5c5c5c 20px);\n",
              "    }\n",
              "    .progress-bar-interrupted, .progress-bar-interrupted::-webkit-progress-bar {\n",
              "        background: #F44336;\n",
              "    }\n",
              "</style>\n"
            ],
            "text/plain": [
              "<IPython.core.display.HTML object>"
            ]
          },
          "metadata": {},
          "output_type": "display_data"
        },
        {
          "data": {
            "text/html": [
              "\n",
              "    <div>\n",
              "      <progress value='2000' class='' max='2000' style='width:300px; height:20px; vertical-align: middle;'></progress>\n",
              "      100.00% [2000/2000 00:14&lt;00:00 Sampling chain 0, 0 divergences]\n",
              "    </div>\n",
              "    "
            ],
            "text/plain": [
              "<IPython.core.display.HTML object>"
            ]
          },
          "metadata": {},
          "output_type": "display_data"
        },
        {
          "data": {
            "text/html": [
              "\n",
              "<style>\n",
              "    /* Turns off some styling */\n",
              "    progress {\n",
              "        /* gets rid of default border in Firefox and Opera. */\n",
              "        border: none;\n",
              "        /* Needs to be in here for Safari polyfill so background images work as expected. */\n",
              "        background-size: auto;\n",
              "    }\n",
              "    progress:not([value]), progress:not([value])::-webkit-progress-bar {\n",
              "        background: repeating-linear-gradient(45deg, #7e7e7e, #7e7e7e 10px, #5c5c5c 10px, #5c5c5c 20px);\n",
              "    }\n",
              "    .progress-bar-interrupted, .progress-bar-interrupted::-webkit-progress-bar {\n",
              "        background: #F44336;\n",
              "    }\n",
              "</style>\n"
            ],
            "text/plain": [
              "<IPython.core.display.HTML object>"
            ]
          },
          "metadata": {},
          "output_type": "display_data"
        },
        {
          "data": {
            "text/html": [
              "\n",
              "    <div>\n",
              "      <progress value='2000' class='' max='2000' style='width:300px; height:20px; vertical-align: middle;'></progress>\n",
              "      100.00% [2000/2000 00:15&lt;00:00 Sampling chain 1, 0 divergences]\n",
              "    </div>\n",
              "    "
            ],
            "text/plain": [
              "<IPython.core.display.HTML object>"
            ]
          },
          "metadata": {},
          "output_type": "display_data"
        }
      ],
      "source": [
        "with pm.Model() as complete_model:\n",
        "\n",
        "    # pWeekday Probablity of being a weekday\n",
        "    pWeekday = pm.Beta('pWeekday', alpha=1, beta=1)\n",
        "\n",
        "    # Time weekday probabilities\n",
        "    pNight= pm.Beta('pNight', alpha=1, beta=1) ## = p1\n",
        "    pMorningBase= pm.Beta('pMorningBase', alpha=1, beta=1)\n",
        "    pMiddayBase= pm.Beta('pMiddayBase', alpha=1, beta=1)\n",
        "    pAfternoonBase= pm.Beta('pAfternoonBase', alpha=1, beta=1)\n",
        "    pEvening= pm.Beta('pEvening', alpha=1, beta=1) ## = p5\n",
        "    # Time weekend probabilities\n",
        "    pMorChange= pm.Beta('pMorChange', alpha=1, beta=1)\n",
        "    pMidChange= pm.Beta('pMidChange', alpha=1, beta=1)\n",
        "    pAftChange= pm.Beta('pAftChange', alpha=1, beta=1)\n",
        "\n",
        "    # pMorningBase + pWeekday*(1-pMorningBase)*pMorChange\n",
        "    no_negatives_2 = pm.math.switch(pm.math.lt(pMorningBase + pWeekday*(1-pMorningBase)*pMorChange,0), 0, pMorningBase + pWeekday*(1-pMorningBase)*pMorChange)\n",
        "    in_unit_interval_2 = pm.math.switch(pm.math.gt(no_negatives_2,1), 1, pMorningBase + pWeekday*(1-pMorningBase)*pMorChange)\n",
        "    pMorning = pm.Deterministic('pMorning', in_unit_interval_2)\n",
        "\n",
        "    # pMiddayBase - pWeekday*(1-pMiddayBase)*pMidChange\n",
        "    no_negatives_3 = pm.math.switch(pm.math.lt(pMiddayBase - pWeekday*(1-pMiddayBase)*pMidChange,0), 0, pMiddayBase - pWeekday*(1-pMiddayBase)*pMidChange)\n",
        "    in_unit_interval_3 = pm.math.switch(pm.math.gt(no_negatives_3,1), 1, pMiddayBase - pWeekday*(1-pMiddayBase)*pMidChange)\n",
        "    pMidday = pm.Deterministic('pMidday', in_unit_interval_3)\n",
        "\n",
        "    # pAfternoonBase + pWeekday*(1-pAfternoonBase)*pAftChange\n",
        "    no_negatives_4 = pm.math.switch(pm.math.lt(pAfternoonBase + pWeekday*(1-pAfternoonBase)*pAftChange,0), 0, pAfternoonBase + pWeekday*(1-pAfternoonBase)*pAftChange)\n",
        "    in_unit_interval_4 = pm.math.switch(pm.math.gt(no_negatives_4,1), 1, pAfternoonBase + pWeekday*(1-pAfternoonBase)*pAftChange)\n",
        "    pAfternoon = pm.Deterministic('pAfternoon', in_unit_interval_4)\n",
        "\n",
        "    # Intercept\n",
        "    intercept = pm.Normal('intercept', mu=0, sigma=1)\n",
        "\n",
        "    # Priors of selected condition predictors\n",
        "    beta_dark = pm.Normal('beta_dark', mu=0, sigma=1)  # Prior for 'Dark'\n",
        "    beta_clear = pm.Normal('beta_clear', mu=0, sigma=1)  # Prior for 'Clear'\n",
        "\n",
        "    # Linear combination of predictors\n",
        "    logit_p = intercept + pNight*x6 +pMorning*x7 +pMidday*x8 +pAfternoon*x9 +pEvening*x10 + beta_clear*x2 + beta_dark*x4\n",
        "    logit_p = pm.Deterministic('logit_p',logit_p)\n",
        "\n",
        "    Y = pm.Bernoulli('Y', logit_p = logit_p, observed=y)\n",
        "\n",
        "    idata_2 = pm.sample()"
      ]
    },
    {
      "cell_type": "code",
      "execution_count": null,
      "metadata": {
        "colab": {
          "base_uri": "https://localhost:8080/",
          "height": 441
        },
        "id": "HcceOR2vGdhy",
        "outputId": "fc897806-0529-4899-b58a-e7b23029aaad"
      },
      "outputs": [
        {
          "name": "stdout",
          "output_type": "stream",
          "text": [
            "number of MCMC samples: 2000\n"
          ]
        },
        {
          "data": {
            "application/vnd.google.colaboratory.intrinsic+json": {
              "summary": "{\n  \"name\": \"az\",\n  \"rows\": 115,\n  \"fields\": [\n    {\n      \"column\": \"mean\",\n      \"properties\": {\n        \"dtype\": \"number\",\n        \"std\": 0.36940296523530736,\n        \"min\": -1.44,\n        \"max\": 0.71,\n        \"num_unique_values\": 25,\n        \"samples\": [\n          0.49,\n          -1.44,\n          -0.75\n        ],\n        \"semantic_type\": \"\",\n        \"description\": \"\"\n      }\n    },\n    {\n      \"column\": \"sd\",\n      \"properties\": {\n        \"dtype\": \"number\",\n        \"std\": 0.13438125573042445,\n        \"min\": 0.21,\n        \"max\": 0.97,\n        \"num_unique_values\": 19,\n        \"samples\": [\n          0.52,\n          0.26,\n          0.91\n        ],\n        \"semantic_type\": \"\",\n        \"description\": \"\"\n      }\n    },\n    {\n      \"column\": \"hdi_3%\",\n      \"properties\": {\n        \"dtype\": \"number\",\n        \"std\": 0.5410861889945734,\n        \"min\": -3.26,\n        \"max\": 0.33,\n        \"num_unique_values\": 22,\n        \"samples\": [\n          -1.66,\n          -1.29,\n          0.08\n        ],\n        \"semantic_type\": \"\",\n        \"description\": \"\"\n      }\n    },\n    {\n      \"column\": \"hdi_97%\",\n      \"properties\": {\n        \"dtype\": \"number\",\n        \"std\": 0.3562257017286687,\n        \"min\": -0.08,\n        \"max\": 1.0,\n        \"num_unique_values\": 22,\n        \"samples\": [\n          0.31,\n          -0.01,\n          0.95\n        ],\n        \"semantic_type\": \"\",\n        \"description\": \"\"\n      }\n    },\n    {\n      \"column\": \"mcse_mean\",\n      \"properties\": {\n        \"dtype\": \"number\",\n        \"std\": 0.002077814964499288,\n        \"min\": 0.0,\n        \"max\": 0.02,\n        \"num_unique_values\": 3,\n        \"samples\": [\n          0.01,\n          0.02,\n          0.0\n        ],\n        \"semantic_type\": \"\",\n        \"description\": \"\"\n      }\n    },\n    {\n      \"column\": \"mcse_sd\",\n      \"properties\": {\n        \"dtype\": \"number\",\n        \"std\": 0.0056290084454838725,\n        \"min\": 0.0,\n        \"max\": 0.02,\n        \"num_unique_values\": 3,\n        \"samples\": [\n          0.01,\n          0.02,\n          0.0\n        ],\n        \"semantic_type\": \"\",\n        \"description\": \"\"\n      }\n    },\n    {\n      \"column\": \"ess_bulk\",\n      \"properties\": {\n        \"dtype\": \"number\",\n        \"std\": 203.50002515269432,\n        \"min\": 1424.09,\n        \"max\": 2524.2,\n        \"num_unique_values\": 27,\n        \"samples\": [\n          1902.43,\n          2309.11,\n          2287.7\n        ],\n        \"semantic_type\": \"\",\n        \"description\": \"\"\n      }\n    },\n    {\n      \"column\": \"ess_tail\",\n      \"properties\": {\n        \"dtype\": \"number\",\n        \"std\": 208.9782089953146,\n        \"min\": 991.47,\n        \"max\": 1849.19,\n        \"num_unique_values\": 27,\n        \"samples\": [\n          1103.12,\n          1230.64,\n          1295.67\n        ],\n        \"semantic_type\": \"\",\n        \"description\": \"\"\n      }\n    },\n    {\n      \"column\": \"r_hat\",\n      \"properties\": {\n        \"dtype\": \"number\",\n        \"std\": 0.0009325048082403146,\n        \"min\": 1.0,\n        \"max\": 1.01,\n        \"num_unique_values\": 2,\n        \"samples\": [\n          1.01,\n          1.0\n        ],\n        \"semantic_type\": \"\",\n        \"description\": \"\"\n      }\n    }\n  ]\n}",
              "type": "dataframe"
            },
            "text/html": [
              "\n",
              "  <div id=\"df-06f7af35-980a-4e5d-bb89-c31d98acd8b7\" class=\"colab-df-container\">\n",
              "    <div>\n",
              "<style scoped>\n",
              "    .dataframe tbody tr th:only-of-type {\n",
              "        vertical-align: middle;\n",
              "    }\n",
              "\n",
              "    .dataframe tbody tr th {\n",
              "        vertical-align: top;\n",
              "    }\n",
              "\n",
              "    .dataframe thead th {\n",
              "        text-align: right;\n",
              "    }\n",
              "</style>\n",
              "<table border=\"1\" class=\"dataframe\">\n",
              "  <thead>\n",
              "    <tr style=\"text-align: right;\">\n",
              "      <th></th>\n",
              "      <th>mean</th>\n",
              "      <th>sd</th>\n",
              "      <th>hdi_3%</th>\n",
              "      <th>hdi_97%</th>\n",
              "      <th>mcse_mean</th>\n",
              "      <th>mcse_sd</th>\n",
              "      <th>ess_bulk</th>\n",
              "      <th>ess_tail</th>\n",
              "      <th>r_hat</th>\n",
              "    </tr>\n",
              "  </thead>\n",
              "  <tbody>\n",
              "    <tr>\n",
              "      <th>intercept</th>\n",
              "      <td>-0.75</td>\n",
              "      <td>0.52</td>\n",
              "      <td>-1.66</td>\n",
              "      <td>0.31</td>\n",
              "      <td>0.01</td>\n",
              "      <td>0.01</td>\n",
              "      <td>1424.09</td>\n",
              "      <td>1363.43</td>\n",
              "      <td>1.00</td>\n",
              "    </tr>\n",
              "    <tr>\n",
              "      <th>beta_dark</th>\n",
              "      <td>-0.82</td>\n",
              "      <td>0.84</td>\n",
              "      <td>-2.59</td>\n",
              "      <td>0.63</td>\n",
              "      <td>0.02</td>\n",
              "      <td>0.02</td>\n",
              "      <td>2079.02</td>\n",
              "      <td>1354.04</td>\n",
              "      <td>1.00</td>\n",
              "    </tr>\n",
              "    <tr>\n",
              "      <th>beta_clear</th>\n",
              "      <td>-0.37</td>\n",
              "      <td>0.53</td>\n",
              "      <td>-1.31</td>\n",
              "      <td>0.67</td>\n",
              "      <td>0.01</td>\n",
              "      <td>0.01</td>\n",
              "      <td>1545.90</td>\n",
              "      <td>1335.32</td>\n",
              "      <td>1.00</td>\n",
              "    </tr>\n",
              "    <tr>\n",
              "      <th>pWeekday</th>\n",
              "      <td>0.48</td>\n",
              "      <td>0.28</td>\n",
              "      <td>0.01</td>\n",
              "      <td>0.92</td>\n",
              "      <td>0.01</td>\n",
              "      <td>0.00</td>\n",
              "      <td>1944.86</td>\n",
              "      <td>1215.13</td>\n",
              "      <td>1.01</td>\n",
              "    </tr>\n",
              "    <tr>\n",
              "      <th>pNight</th>\n",
              "      <td>0.47</td>\n",
              "      <td>0.29</td>\n",
              "      <td>0.00</td>\n",
              "      <td>0.94</td>\n",
              "      <td>0.01</td>\n",
              "      <td>0.00</td>\n",
              "      <td>2081.45</td>\n",
              "      <td>1121.32</td>\n",
              "      <td>1.00</td>\n",
              "    </tr>\n",
              "    <tr>\n",
              "      <th>...</th>\n",
              "      <td>...</td>\n",
              "      <td>...</td>\n",
              "      <td>...</td>\n",
              "      <td>...</td>\n",
              "      <td>...</td>\n",
              "      <td>...</td>\n",
              "      <td>...</td>\n",
              "      <td>...</td>\n",
              "      <td>...</td>\n",
              "    </tr>\n",
              "    <tr>\n",
              "      <th>logit_p[95]</th>\n",
              "      <td>-0.40</td>\n",
              "      <td>0.26</td>\n",
              "      <td>-0.88</td>\n",
              "      <td>0.07</td>\n",
              "      <td>0.01</td>\n",
              "      <td>0.00</td>\n",
              "      <td>2211.19</td>\n",
              "      <td>1791.84</td>\n",
              "      <td>1.00</td>\n",
              "    </tr>\n",
              "    <tr>\n",
              "      <th>logit_p[96]</th>\n",
              "      <td>-0.60</td>\n",
              "      <td>0.31</td>\n",
              "      <td>-1.15</td>\n",
              "      <td>-0.01</td>\n",
              "      <td>0.01</td>\n",
              "      <td>0.00</td>\n",
              "      <td>2181.04</td>\n",
              "      <td>1849.19</td>\n",
              "      <td>1.00</td>\n",
              "    </tr>\n",
              "    <tr>\n",
              "      <th>logit_p[97]</th>\n",
              "      <td>-0.67</td>\n",
              "      <td>0.33</td>\n",
              "      <td>-1.31</td>\n",
              "      <td>-0.08</td>\n",
              "      <td>0.01</td>\n",
              "      <td>0.01</td>\n",
              "      <td>1990.34</td>\n",
              "      <td>1599.58</td>\n",
              "      <td>1.00</td>\n",
              "    </tr>\n",
              "    <tr>\n",
              "      <th>logit_p[98]</th>\n",
              "      <td>-0.62</td>\n",
              "      <td>0.35</td>\n",
              "      <td>-1.29</td>\n",
              "      <td>0.02</td>\n",
              "      <td>0.01</td>\n",
              "      <td>0.01</td>\n",
              "      <td>2316.11</td>\n",
              "      <td>1573.31</td>\n",
              "      <td>1.00</td>\n",
              "    </tr>\n",
              "    <tr>\n",
              "      <th>logit_p[99]</th>\n",
              "      <td>-0.04</td>\n",
              "      <td>0.52</td>\n",
              "      <td>-1.06</td>\n",
              "      <td>0.90</td>\n",
              "      <td>0.01</td>\n",
              "      <td>0.01</td>\n",
              "      <td>1599.61</td>\n",
              "      <td>1436.10</td>\n",
              "      <td>1.00</td>\n",
              "    </tr>\n",
              "  </tbody>\n",
              "</table>\n",
              "<p>115 rows × 9 columns</p>\n",
              "</div>\n",
              "    <div class=\"colab-df-buttons\">\n",
              "\n",
              "  <div class=\"colab-df-container\">\n",
              "    <button class=\"colab-df-convert\" onclick=\"convertToInteractive('df-06f7af35-980a-4e5d-bb89-c31d98acd8b7')\"\n",
              "            title=\"Convert this dataframe to an interactive table.\"\n",
              "            style=\"display:none;\">\n",
              "\n",
              "  <svg xmlns=\"http://www.w3.org/2000/svg\" height=\"24px\" viewBox=\"0 -960 960 960\">\n",
              "    <path d=\"M120-120v-720h720v720H120Zm60-500h600v-160H180v160Zm220 220h160v-160H400v160Zm0 220h160v-160H400v160ZM180-400h160v-160H180v160Zm440 0h160v-160H620v160ZM180-180h160v-160H180v160Zm440 0h160v-160H620v160Z\"/>\n",
              "  </svg>\n",
              "    </button>\n",
              "\n",
              "  <style>\n",
              "    .colab-df-container {\n",
              "      display:flex;\n",
              "      gap: 12px;\n",
              "    }\n",
              "\n",
              "    .colab-df-convert {\n",
              "      background-color: #E8F0FE;\n",
              "      border: none;\n",
              "      border-radius: 50%;\n",
              "      cursor: pointer;\n",
              "      display: none;\n",
              "      fill: #1967D2;\n",
              "      height: 32px;\n",
              "      padding: 0 0 0 0;\n",
              "      width: 32px;\n",
              "    }\n",
              "\n",
              "    .colab-df-convert:hover {\n",
              "      background-color: #E2EBFA;\n",
              "      box-shadow: 0px 1px 2px rgba(60, 64, 67, 0.3), 0px 1px 3px 1px rgba(60, 64, 67, 0.15);\n",
              "      fill: #174EA6;\n",
              "    }\n",
              "\n",
              "    .colab-df-buttons div {\n",
              "      margin-bottom: 4px;\n",
              "    }\n",
              "\n",
              "    [theme=dark] .colab-df-convert {\n",
              "      background-color: #3B4455;\n",
              "      fill: #D2E3FC;\n",
              "    }\n",
              "\n",
              "    [theme=dark] .colab-df-convert:hover {\n",
              "      background-color: #434B5C;\n",
              "      box-shadow: 0px 1px 3px 1px rgba(0, 0, 0, 0.15);\n",
              "      filter: drop-shadow(0px 1px 2px rgba(0, 0, 0, 0.3));\n",
              "      fill: #FFFFFF;\n",
              "    }\n",
              "  </style>\n",
              "\n",
              "    <script>\n",
              "      const buttonEl =\n",
              "        document.querySelector('#df-06f7af35-980a-4e5d-bb89-c31d98acd8b7 button.colab-df-convert');\n",
              "      buttonEl.style.display =\n",
              "        google.colab.kernel.accessAllowed ? 'block' : 'none';\n",
              "\n",
              "      async function convertToInteractive(key) {\n",
              "        const element = document.querySelector('#df-06f7af35-980a-4e5d-bb89-c31d98acd8b7');\n",
              "        const dataTable =\n",
              "          await google.colab.kernel.invokeFunction('convertToInteractive',\n",
              "                                                    [key], {});\n",
              "        if (!dataTable) return;\n",
              "\n",
              "        const docLinkHtml = 'Like what you see? Visit the ' +\n",
              "          '<a target=\"_blank\" href=https://colab.research.google.com/notebooks/data_table.ipynb>data table notebook</a>'\n",
              "          + ' to learn more about interactive tables.';\n",
              "        element.innerHTML = '';\n",
              "        dataTable['output_type'] = 'display_data';\n",
              "        await google.colab.output.renderOutput(dataTable, element);\n",
              "        const docLink = document.createElement('div');\n",
              "        docLink.innerHTML = docLinkHtml;\n",
              "        element.appendChild(docLink);\n",
              "      }\n",
              "    </script>\n",
              "  </div>\n",
              "\n",
              "\n",
              "<div id=\"df-99d8abc5-b97f-40ab-bbe7-a87317da06de\">\n",
              "  <button class=\"colab-df-quickchart\" onclick=\"quickchart('df-99d8abc5-b97f-40ab-bbe7-a87317da06de')\"\n",
              "            title=\"Suggest charts\"\n",
              "            style=\"display:none;\">\n",
              "\n",
              "<svg xmlns=\"http://www.w3.org/2000/svg\" height=\"24px\"viewBox=\"0 0 24 24\"\n",
              "     width=\"24px\">\n",
              "    <g>\n",
              "        <path d=\"M19 3H5c-1.1 0-2 .9-2 2v14c0 1.1.9 2 2 2h14c1.1 0 2-.9 2-2V5c0-1.1-.9-2-2-2zM9 17H7v-7h2v7zm4 0h-2V7h2v10zm4 0h-2v-4h2v4z\"/>\n",
              "    </g>\n",
              "</svg>\n",
              "  </button>\n",
              "\n",
              "<style>\n",
              "  .colab-df-quickchart {\n",
              "      --bg-color: #E8F0FE;\n",
              "      --fill-color: #1967D2;\n",
              "      --hover-bg-color: #E2EBFA;\n",
              "      --hover-fill-color: #174EA6;\n",
              "      --disabled-fill-color: #AAA;\n",
              "      --disabled-bg-color: #DDD;\n",
              "  }\n",
              "\n",
              "  [theme=dark] .colab-df-quickchart {\n",
              "      --bg-color: #3B4455;\n",
              "      --fill-color: #D2E3FC;\n",
              "      --hover-bg-color: #434B5C;\n",
              "      --hover-fill-color: #FFFFFF;\n",
              "      --disabled-bg-color: #3B4455;\n",
              "      --disabled-fill-color: #666;\n",
              "  }\n",
              "\n",
              "  .colab-df-quickchart {\n",
              "    background-color: var(--bg-color);\n",
              "    border: none;\n",
              "    border-radius: 50%;\n",
              "    cursor: pointer;\n",
              "    display: none;\n",
              "    fill: var(--fill-color);\n",
              "    height: 32px;\n",
              "    padding: 0;\n",
              "    width: 32px;\n",
              "  }\n",
              "\n",
              "  .colab-df-quickchart:hover {\n",
              "    background-color: var(--hover-bg-color);\n",
              "    box-shadow: 0 1px 2px rgba(60, 64, 67, 0.3), 0 1px 3px 1px rgba(60, 64, 67, 0.15);\n",
              "    fill: var(--button-hover-fill-color);\n",
              "  }\n",
              "\n",
              "  .colab-df-quickchart-complete:disabled,\n",
              "  .colab-df-quickchart-complete:disabled:hover {\n",
              "    background-color: var(--disabled-bg-color);\n",
              "    fill: var(--disabled-fill-color);\n",
              "    box-shadow: none;\n",
              "  }\n",
              "\n",
              "  .colab-df-spinner {\n",
              "    border: 2px solid var(--fill-color);\n",
              "    border-color: transparent;\n",
              "    border-bottom-color: var(--fill-color);\n",
              "    animation:\n",
              "      spin 1s steps(1) infinite;\n",
              "  }\n",
              "\n",
              "  @keyframes spin {\n",
              "    0% {\n",
              "      border-color: transparent;\n",
              "      border-bottom-color: var(--fill-color);\n",
              "      border-left-color: var(--fill-color);\n",
              "    }\n",
              "    20% {\n",
              "      border-color: transparent;\n",
              "      border-left-color: var(--fill-color);\n",
              "      border-top-color: var(--fill-color);\n",
              "    }\n",
              "    30% {\n",
              "      border-color: transparent;\n",
              "      border-left-color: var(--fill-color);\n",
              "      border-top-color: var(--fill-color);\n",
              "      border-right-color: var(--fill-color);\n",
              "    }\n",
              "    40% {\n",
              "      border-color: transparent;\n",
              "      border-right-color: var(--fill-color);\n",
              "      border-top-color: var(--fill-color);\n",
              "    }\n",
              "    60% {\n",
              "      border-color: transparent;\n",
              "      border-right-color: var(--fill-color);\n",
              "    }\n",
              "    80% {\n",
              "      border-color: transparent;\n",
              "      border-right-color: var(--fill-color);\n",
              "      border-bottom-color: var(--fill-color);\n",
              "    }\n",
              "    90% {\n",
              "      border-color: transparent;\n",
              "      border-bottom-color: var(--fill-color);\n",
              "    }\n",
              "  }\n",
              "</style>\n",
              "\n",
              "  <script>\n",
              "    async function quickchart(key) {\n",
              "      const quickchartButtonEl =\n",
              "        document.querySelector('#' + key + ' button');\n",
              "      quickchartButtonEl.disabled = true;  // To prevent multiple clicks.\n",
              "      quickchartButtonEl.classList.add('colab-df-spinner');\n",
              "      try {\n",
              "        const charts = await google.colab.kernel.invokeFunction(\n",
              "            'suggestCharts', [key], {});\n",
              "      } catch (error) {\n",
              "        console.error('Error during call to suggestCharts:', error);\n",
              "      }\n",
              "      quickchartButtonEl.classList.remove('colab-df-spinner');\n",
              "      quickchartButtonEl.classList.add('colab-df-quickchart-complete');\n",
              "    }\n",
              "    (() => {\n",
              "      let quickchartButtonEl =\n",
              "        document.querySelector('#df-99d8abc5-b97f-40ab-bbe7-a87317da06de button');\n",
              "      quickchartButtonEl.style.display =\n",
              "        google.colab.kernel.accessAllowed ? 'block' : 'none';\n",
              "    })();\n",
              "  </script>\n",
              "</div>\n",
              "\n",
              "    </div>\n",
              "  </div>\n"
            ],
            "text/plain": [
              "             mean    sd  hdi_3%  hdi_97%  mcse_mean  mcse_sd  ess_bulk  \\\n",
              "intercept   -0.75  0.52   -1.66     0.31       0.01     0.01   1424.09   \n",
              "beta_dark   -0.82  0.84   -2.59     0.63       0.02     0.02   2079.02   \n",
              "beta_clear  -0.37  0.53   -1.31     0.67       0.01     0.01   1545.90   \n",
              "pWeekday     0.48  0.28    0.01     0.92       0.01     0.00   1944.86   \n",
              "pNight       0.47  0.29    0.00     0.94       0.01     0.00   2081.45   \n",
              "...           ...   ...     ...      ...        ...      ...       ...   \n",
              "logit_p[95] -0.40  0.26   -0.88     0.07       0.01     0.00   2211.19   \n",
              "logit_p[96] -0.60  0.31   -1.15    -0.01       0.01     0.00   2181.04   \n",
              "logit_p[97] -0.67  0.33   -1.31    -0.08       0.01     0.01   1990.34   \n",
              "logit_p[98] -0.62  0.35   -1.29     0.02       0.01     0.01   2316.11   \n",
              "logit_p[99] -0.04  0.52   -1.06     0.90       0.01     0.01   1599.61   \n",
              "\n",
              "             ess_tail  r_hat  \n",
              "intercept     1363.43   1.00  \n",
              "beta_dark     1354.04   1.00  \n",
              "beta_clear    1335.32   1.00  \n",
              "pWeekday      1215.13   1.01  \n",
              "pNight        1121.32   1.00  \n",
              "...               ...    ...  \n",
              "logit_p[95]   1791.84   1.00  \n",
              "logit_p[96]   1849.19   1.00  \n",
              "logit_p[97]   1599.58   1.00  \n",
              "logit_p[98]   1573.31   1.00  \n",
              "logit_p[99]   1436.10   1.00  \n",
              "\n",
              "[115 rows x 9 columns]"
            ]
          },
          "execution_count": 14,
          "metadata": {},
          "output_type": "execute_result"
        }
      ],
      "source": [
        "print(\"number of MCMC samples:\", idata_2.posterior['pWeekday'].values.flatten().shape[-1])\n",
        "az.summary(idata_2, round_to=2)"
      ]
    },
    {
      "cell_type": "code",
      "execution_count": null,
      "metadata": {
        "colab": {
          "base_uri": "https://localhost:8080/",
          "height": 235
        },
        "id": "zXr4hGKLOgdX",
        "outputId": "9e8a1c13-0882-4628-8402-f0a3bdfd3313"
      },
      "outputs": [
        {
          "data": {
            "image/png": "[encoded data removed]",
            "text/plain": [
              "<Figure size 1200x200 with 2 Axes>"
            ]
          },
          "metadata": {},
          "output_type": "display_data"
        }
      ],
      "source": [
        "az.plot_trace(idata_2, combined = True,var_names ='beta_dark' );"
      ]
    },
    {
      "cell_type": "markdown",
      "metadata": {
        "id": "ZaHc-cNuaY2d"
      },
      "source": [
        "# Model diagnostic Part I"
      ]
    },
    {
      "cell_type": "code",
      "execution_count": null,
      "metadata": {
        "colab": {
          "base_uri": "https://localhost:8080/",
          "height": 57
        },
        "id": "M3cMPKGBaeln",
        "outputId": "2daa74e0-4102-4d3a-d25a-1001f7b926b0"
      },
      "outputs": [
        {
          "data": {
            "text/html": [
              "\n",
              "<style>\n",
              "    /* Turns off some styling */\n",
              "    progress {\n",
              "        /* gets rid of default border in Firefox and Opera. */\n",
              "        border: none;\n",
              "        /* Needs to be in here for Safari polyfill so background images work as expected. */\n",
              "        background-size: auto;\n",
              "    }\n",
              "    progress:not([value]), progress:not([value])::-webkit-progress-bar {\n",
              "        background: repeating-linear-gradient(45deg, #7e7e7e, #7e7e7e 10px, #5c5c5c 10px, #5c5c5c 20px);\n",
              "    }\n",
              "    .progress-bar-interrupted, .progress-bar-interrupted::-webkit-progress-bar {\n",
              "        background: #F44336;\n",
              "    }\n",
              "</style>\n"
            ],
            "text/plain": [
              "<IPython.core.display.HTML object>"
            ]
          },
          "metadata": {},
          "output_type": "display_data"
        },
        {
          "data": {
            "text/html": [
              "\n",
              "    <div>\n",
              "      <progress value='2000' class='' max='2000' style='width:300px; height:20px; vertical-align: middle;'></progress>\n",
              "      100.00% [2000/2000 00:08&lt;00:00 Sampling chain 0, 0 divergences]\n",
              "    </div>\n",
              "    "
            ],
            "text/plain": [
              "<IPython.core.display.HTML object>"
            ]
          },
          "metadata": {},
          "output_type": "display_data"
        },
        {
          "data": {
            "text/html": [
              "\n",
              "<style>\n",
              "    /* Turns off some styling */\n",
              "    progress {\n",
              "        /* gets rid of default border in Firefox and Opera. */\n",
              "        border: none;\n",
              "        /* Needs to be in here for Safari polyfill so background images work as expected. */\n",
              "        background-size: auto;\n",
              "    }\n",
              "    progress:not([value]), progress:not([value])::-webkit-progress-bar {\n",
              "        background: repeating-linear-gradient(45deg, #7e7e7e, #7e7e7e 10px, #5c5c5c 10px, #5c5c5c 20px);\n",
              "    }\n",
              "    .progress-bar-interrupted, .progress-bar-interrupted::-webkit-progress-bar {\n",
              "        background: #F44336;\n",
              "    }\n",
              "</style>\n"
            ],
            "text/plain": [
              "<IPython.core.display.HTML object>"
            ]
          },
          "metadata": {},
          "output_type": "display_data"
        },
        {
          "data": {
            "text/html": [
              "\n",
              "    <div>\n",
              "      <progress value='2000' class='' max='2000' style='width:300px; height:20px; vertical-align: middle;'></progress>\n",
              "      100.00% [2000/2000 00:09&lt;00:00 Sampling chain 1, 0 divergences]\n",
              "    </div>\n",
              "    "
            ],
            "text/plain": [
              "<IPython.core.display.HTML object>"
            ]
          },
          "metadata": {},
          "output_type": "display_data"
        }
      ],
      "source": [
        "# Baisc regression model for comparison\n",
        "with pm.Model() as model_basic:\n",
        "    beta_0 = pm.Normal('beta_0', mu=0, sigma=1)\n",
        "    beta_1 = pm.Normal('beta_1', mu=0, sigma=1)\n",
        "    beta_2 = pm.Normal('beta_2', mu=0, sigma=1)\n",
        "    beta_3 = pm.Normal('beta_3', mu=0, sigma=1)\n",
        "    beta_4 = pm.Normal('beta_4', mu=0, sigma=1)\n",
        "    beta_5 = pm.Normal('beta_5', mu=0, sigma=1)\n",
        "    beta_dark = pm.Normal('beta_dark', mu=0, sigma=1)  # Prior for 'Dark'\n",
        "    beta_clear = pm.Normal('beta_clear', mu=0, sigma=1)  # Prior for 'Clear'\n",
        "\n",
        "    # Linear combination of predictors\n",
        "    logit_p = beta_0 + beta_1*x6 +beta_2*x7 +beta_3*x8 +beta_4*x9 +beta_5*x10 + beta_clear*x2 + beta_dark*x4\n",
        "    logit_p = pm.Deterministic('logit_p',logit_p)\n",
        "\n",
        "    Basic_Y = pm.Bernoulli('Basic_Y', logit_p = logit_p, observed=y)\n",
        "\n",
        "    idata_3 = pm.sample()"
      ]
    },
    {
      "cell_type": "code",
      "execution_count": null,
      "metadata": {
        "colab": {
          "base_uri": "https://localhost:8080/",
          "height": 137
        },
        "id": "qqccHkkBafoh",
        "outputId": "954acbca-083a-412b-a4dc-f14aa23db71a"
      },
      "outputs": [
        {
          "data": {
            "text/html": [
              "\n",
              "<style>\n",
              "    /* Turns off some styling */\n",
              "    progress {\n",
              "        /* gets rid of default border in Firefox and Opera. */\n",
              "        border: none;\n",
              "        /* Needs to be in here for Safari polyfill so background images work as expected. */\n",
              "        background-size: auto;\n",
              "    }\n",
              "    progress:not([value]), progress:not([value])::-webkit-progress-bar {\n",
              "        background: repeating-linear-gradient(45deg, #7e7e7e, #7e7e7e 10px, #5c5c5c 10px, #5c5c5c 20px);\n",
              "    }\n",
              "    .progress-bar-interrupted, .progress-bar-interrupted::-webkit-progress-bar {\n",
              "        background: #F44336;\n",
              "    }\n",
              "</style>\n"
            ],
            "text/plain": [
              "<IPython.core.display.HTML object>"
            ]
          },
          "metadata": {},
          "output_type": "display_data"
        },
        {
          "data": {
            "text/html": [
              "\n",
              "    <div>\n",
              "      <progress value='3000' class='' max='3000' style='width:300px; height:20px; vertical-align: middle;'></progress>\n",
              "      100.00% [3000/3000 00:20&lt;00:00 Sampling chain 0, 0 divergences]\n",
              "    </div>\n",
              "    "
            ],
            "text/plain": [
              "<IPython.core.display.HTML object>"
            ]
          },
          "metadata": {},
          "output_type": "display_data"
        },
        {
          "data": {
            "text/html": [
              "\n",
              "<style>\n",
              "    /* Turns off some styling */\n",
              "    progress {\n",
              "        /* gets rid of default border in Firefox and Opera. */\n",
              "        border: none;\n",
              "        /* Needs to be in here for Safari polyfill so background images work as expected. */\n",
              "        background-size: auto;\n",
              "    }\n",
              "    progress:not([value]), progress:not([value])::-webkit-progress-bar {\n",
              "        background: repeating-linear-gradient(45deg, #7e7e7e, #7e7e7e 10px, #5c5c5c 10px, #5c5c5c 20px);\n",
              "    }\n",
              "    .progress-bar-interrupted, .progress-bar-interrupted::-webkit-progress-bar {\n",
              "        background: #F44336;\n",
              "    }\n",
              "</style>\n"
            ],
            "text/plain": [
              "<IPython.core.display.HTML object>"
            ]
          },
          "metadata": {},
          "output_type": "display_data"
        },
        {
          "data": {
            "text/html": [
              "\n",
              "    <div>\n",
              "      <progress value='3000' class='' max='3000' style='width:300px; height:20px; vertical-align: middle;'></progress>\n",
              "      100.00% [3000/3000 00:19&lt;00:00 Sampling chain 1, 0 divergences]\n",
              "    </div>\n",
              "    "
            ],
            "text/plain": [
              "<IPython.core.display.HTML object>"
            ]
          },
          "metadata": {},
          "output_type": "display_data"
        },
        {
          "data": {
            "text/html": [
              "\n",
              "<style>\n",
              "    /* Turns off some styling */\n",
              "    progress {\n",
              "        /* gets rid of default border in Firefox and Opera. */\n",
              "        border: none;\n",
              "        /* Needs to be in here for Safari polyfill so background images work as expected. */\n",
              "        background-size: auto;\n",
              "    }\n",
              "    progress:not([value]), progress:not([value])::-webkit-progress-bar {\n",
              "        background: repeating-linear-gradient(45deg, #7e7e7e, #7e7e7e 10px, #5c5c5c 10px, #5c5c5c 20px);\n",
              "    }\n",
              "    .progress-bar-interrupted, .progress-bar-interrupted::-webkit-progress-bar {\n",
              "        background: #F44336;\n",
              "    }\n",
              "</style>\n"
            ],
            "text/plain": [
              "<IPython.core.display.HTML object>"
            ]
          },
          "metadata": {},
          "output_type": "display_data"
        },
        {
          "data": {
            "text/html": [
              "\n",
              "    <div>\n",
              "      <progress value='4000' class='' max='4000' style='width:300px; height:20px; vertical-align: middle;'></progress>\n",
              "      100.00% [4000/4000 00:00&lt;00:00]\n",
              "    </div>\n",
              "    "
            ],
            "text/plain": [
              "<IPython.core.display.HTML object>"
            ]
          },
          "metadata": {},
          "output_type": "display_data"
        },
        {
          "data": {
            "text/html": [
              "\n",
              "<style>\n",
              "    /* Turns off some styling */\n",
              "    progress {\n",
              "        /* gets rid of default border in Firefox and Opera. */\n",
              "        border: none;\n",
              "        /* Needs to be in here for Safari polyfill so background images work as expected. */\n",
              "        background-size: auto;\n",
              "    }\n",
              "    progress:not([value]), progress:not([value])::-webkit-progress-bar {\n",
              "        background: repeating-linear-gradient(45deg, #7e7e7e, #7e7e7e 10px, #5c5c5c 10px, #5c5c5c 20px);\n",
              "    }\n",
              "    .progress-bar-interrupted, .progress-bar-interrupted::-webkit-progress-bar {\n",
              "        background: #F44336;\n",
              "    }\n",
              "</style>\n"
            ],
            "text/plain": [
              "<IPython.core.display.HTML object>"
            ]
          },
          "metadata": {},
          "output_type": "display_data"
        },
        {
          "data": {
            "text/html": [
              "\n",
              "    <div>\n",
              "      <progress value='3000' class='' max='3000' style='width:300px; height:20px; vertical-align: middle;'></progress>\n",
              "      100.00% [3000/3000 00:12&lt;00:00 Sampling chain 0, 0 divergences]\n",
              "    </div>\n",
              "    "
            ],
            "text/plain": [
              "<IPython.core.display.HTML object>"
            ]
          },
          "metadata": {},
          "output_type": "display_data"
        },
        {
          "data": {
            "text/html": [
              "\n",
              "<style>\n",
              "    /* Turns off some styling */\n",
              "    progress {\n",
              "        /* gets rid of default border in Firefox and Opera. */\n",
              "        border: none;\n",
              "        /* Needs to be in here for Safari polyfill so background images work as expected. */\n",
              "        background-size: auto;\n",
              "    }\n",
              "    progress:not([value]), progress:not([value])::-webkit-progress-bar {\n",
              "        background: repeating-linear-gradient(45deg, #7e7e7e, #7e7e7e 10px, #5c5c5c 10px, #5c5c5c 20px);\n",
              "    }\n",
              "    .progress-bar-interrupted, .progress-bar-interrupted::-webkit-progress-bar {\n",
              "        background: #F44336;\n",
              "    }\n",
              "</style>\n"
            ],
            "text/plain": [
              "<IPython.core.display.HTML object>"
            ]
          },
          "metadata": {},
          "output_type": "display_data"
        },
        {
          "data": {
            "text/html": [
              "\n",
              "    <div>\n",
              "      <progress value='3000' class='' max='3000' style='width:300px; height:20px; vertical-align: middle;'></progress>\n",
              "      100.00% [3000/3000 00:12&lt;00:00 Sampling chain 1, 0 divergences]\n",
              "    </div>\n",
              "    "
            ],
            "text/plain": [
              "<IPython.core.display.HTML object>"
            ]
          },
          "metadata": {},
          "output_type": "display_data"
        },
        {
          "data": {
            "text/html": [
              "\n",
              "<style>\n",
              "    /* Turns off some styling */\n",
              "    progress {\n",
              "        /* gets rid of default border in Firefox and Opera. */\n",
              "        border: none;\n",
              "        /* Needs to be in here for Safari polyfill so background images work as expected. */\n",
              "        background-size: auto;\n",
              "    }\n",
              "    progress:not([value]), progress:not([value])::-webkit-progress-bar {\n",
              "        background: repeating-linear-gradient(45deg, #7e7e7e, #7e7e7e 10px, #5c5c5c 10px, #5c5c5c 20px);\n",
              "    }\n",
              "    .progress-bar-interrupted, .progress-bar-interrupted::-webkit-progress-bar {\n",
              "        background: #F44336;\n",
              "    }\n",
              "</style>\n"
            ],
            "text/plain": [
              "<IPython.core.display.HTML object>"
            ]
          },
          "metadata": {},
          "output_type": "display_data"
        },
        {
          "data": {
            "text/html": [
              "\n",
              "    <div>\n",
              "      <progress value='4000' class='' max='4000' style='width:300px; height:20px; vertical-align: middle;'></progress>\n",
              "      100.00% [4000/4000 00:00&lt;00:00]\n",
              "    </div>\n",
              "    "
            ],
            "text/plain": [
              "<IPython.core.display.HTML object>"
            ]
          },
          "metadata": {},
          "output_type": "display_data"
        }
      ],
      "source": [
        "with complete_model:\n",
        "    trace_complete = pm.sample(2000, tune=1000)\n",
        "    pm.compute_log_likelihood(trace_complete) # or pass `idata_kwargs={\"log_likelihood\": True}` to `pm.sample`\n",
        "\n",
        "with model_basic:\n",
        "    trace_basic = pm.sample(2000, tune=1000)\n",
        "    pm.compute_log_likelihood(trace_basic)"
      ]
    },
    {
      "cell_type": "code",
      "execution_count": null,
      "metadata": {
        "colab": {
          "base_uri": "https://localhost:8080/"
        },
        "id": "czFDZYPjalpe",
        "outputId": "eb403ab8-bdb9-4c7c-cde2-d77847253c29"
      },
      "outputs": [
        {
          "name": "stderr",
          "output_type": "stream",
          "text": [
            "<ipython-input-18-dbc902779305>:1: DeprecationWarning: `product` is deprecated as of NumPy 1.25.0, and will be removed in NumPy 2.0. Please use `prod` instead.\n",
            "  az.waic(trace_complete)\n"
          ]
        },
        {
          "data": {
            "text/plain": [
              "Computed from 4000 posterior samples and 100 observations log-likelihood matrix.\n",
              "\n",
              "          Estimate       SE\n",
              "elpd_waic   -67.54     2.57\n",
              "p_waic        2.64        -"
            ]
          },
          "execution_count": 18,
          "metadata": {},
          "output_type": "execute_result"
        }
      ],
      "source": [
        "az.waic(trace_complete)"
      ]
    },
    {
      "cell_type": "code",
      "execution_count": null,
      "metadata": {
        "colab": {
          "base_uri": "https://localhost:8080/"
        },
        "id": "1s4vw2mbasBN",
        "outputId": "2c01e8f9-2e56-4818-faed-7ea7f0e9c83c"
      },
      "outputs": [
        {
          "name": "stderr",
          "output_type": "stream",
          "text": [
            "<ipython-input-19-ccd65360a166>:1: DeprecationWarning: `product` is deprecated as of NumPy 1.25.0, and will be removed in NumPy 2.0. Please use `prod` instead.\n",
            "  az.waic(trace_basic)\n"
          ]
        },
        {
          "data": {
            "text/plain": [
              "Computed from 4000 posterior samples and 100 observations log-likelihood matrix.\n",
              "\n",
              "          Estimate       SE\n",
              "elpd_waic   -68.88     2.94\n",
              "p_waic        4.45        -"
            ]
          },
          "execution_count": 19,
          "metadata": {},
          "output_type": "execute_result"
        }
      ],
      "source": [
        "az.waic(trace_basic)"
      ]
    },
    {
      "cell_type": "code",
      "execution_count": null,
      "metadata": {
        "colab": {
          "base_uri": "https://localhost:8080/",
          "height": 112
        },
        "id": "eUhd1YL-ay_3",
        "outputId": "c46fdf2e-4cdf-4c7b-e8fc-a8cb40001c79"
      },
      "outputs": [
        {
          "data": {
            "application/vnd.google.colaboratory.intrinsic+json": {
              "summary": "{\n  \"name\": \"az\",\n  \"rows\": 2,\n  \"fields\": [\n    {\n      \"column\": \"rank\",\n      \"properties\": {\n        \"dtype\": \"number\",\n        \"std\": 0,\n        \"min\": 0,\n        \"max\": 1,\n        \"num_unique_values\": 2,\n        \"samples\": [\n          1,\n          0\n        ],\n        \"semantic_type\": \"\",\n        \"description\": \"\"\n      }\n    },\n    {\n      \"column\": \"elpd_waic\",\n      \"properties\": {\n        \"dtype\": \"number\",\n        \"std\": 0.944410508981909,\n        \"min\": -68.87875862043452,\n        \"max\": -67.54316047018463,\n        \"num_unique_values\": 2,\n        \"samples\": [\n          -68.87875862043452,\n          -67.54316047018463\n        ],\n        \"semantic_type\": \"\",\n        \"description\": \"\"\n      }\n    },\n    {\n      \"column\": \"p_waic\",\n      \"properties\": {\n        \"dtype\": \"number\",\n        \"std\": 1.2762042626169874,\n        \"min\": 2.640644546431208,\n        \"max\": 4.4454699229825065,\n        \"num_unique_values\": 2,\n        \"samples\": [\n          4.4454699229825065,\n          2.640644546431208\n        ],\n        \"semantic_type\": \"\",\n        \"description\": \"\"\n      }\n    },\n    {\n      \"column\": \"elpd_diff\",\n      \"properties\": {\n        \"dtype\": \"number\",\n        \"std\": 0.944410508981915,\n        \"min\": 0.0,\n        \"max\": 1.335598150249902,\n        \"num_unique_values\": 2,\n        \"samples\": [\n          1.335598150249902,\n          0.0\n        ],\n        \"semantic_type\": \"\",\n        \"description\": \"\"\n      }\n    },\n    {\n      \"column\": \"weight\",\n      \"properties\": {\n        \"dtype\": \"number\",\n        \"std\": 0.7071067811865476,\n        \"min\": 0.0,\n        \"max\": 1.0,\n        \"num_unique_values\": 2,\n        \"samples\": [\n          0.0,\n          1.0\n        ],\n        \"semantic_type\": \"\",\n        \"description\": \"\"\n      }\n    },\n    {\n      \"column\": \"se\",\n      \"properties\": {\n        \"dtype\": \"number\",\n        \"std\": 0.2631213281380974,\n        \"min\": 2.5657021918372322,\n        \"max\": 2.937811942639751,\n        \"num_unique_values\": 2,\n        \"samples\": [\n          2.937811942639751,\n          2.5657021918372322\n        ],\n        \"semantic_type\": \"\",\n        \"description\": \"\"\n      }\n    },\n    {\n      \"column\": \"dse\",\n      \"properties\": {\n        \"dtype\": \"number\",\n        \"std\": 0.6539469587690326,\n        \"min\": 0.0,\n        \"max\": 0.9248206581638051,\n        \"num_unique_values\": 2,\n        \"samples\": [\n          0.9248206581638051,\n          0.0\n        ],\n        \"semantic_type\": \"\",\n        \"description\": \"\"\n      }\n    },\n    {\n      \"column\": \"warning\",\n      \"properties\": {\n        \"dtype\": \"boolean\",\n        \"num_unique_values\": 1,\n        \"samples\": [\n          false\n        ],\n        \"semantic_type\": \"\",\n        \"description\": \"\"\n      }\n    },\n    {\n      \"column\": \"scale\",\n      \"properties\": {\n        \"dtype\": \"string\",\n        \"num_unique_values\": 1,\n        \"samples\": [\n          \"log\"\n        ],\n        \"semantic_type\": \"\",\n        \"description\": \"\"\n      }\n    }\n  ]\n}",
              "type": "dataframe"
            },
            "text/html": [
              "\n",
              "  <div id=\"df-c42e4f74-33bb-4148-8d85-65a551ead2ee\" class=\"colab-df-container\">\n",
              "    <div>\n",
              "<style scoped>\n",
              "    .dataframe tbody tr th:only-of-type {\n",
              "        vertical-align: middle;\n",
              "    }\n",
              "\n",
              "    .dataframe tbody tr th {\n",
              "        vertical-align: top;\n",
              "    }\n",
              "\n",
              "    .dataframe thead th {\n",
              "        text-align: right;\n",
              "    }\n",
              "</style>\n",
              "<table border=\"1\" class=\"dataframe\">\n",
              "  <thead>\n",
              "    <tr style=\"text-align: right;\">\n",
              "      <th></th>\n",
              "      <th>rank</th>\n",
              "      <th>elpd_waic</th>\n",
              "      <th>p_waic</th>\n",
              "      <th>elpd_diff</th>\n",
              "      <th>weight</th>\n",
              "      <th>se</th>\n",
              "      <th>dse</th>\n",
              "      <th>warning</th>\n",
              "      <th>scale</th>\n",
              "    </tr>\n",
              "  </thead>\n",
              "  <tbody>\n",
              "    <tr>\n",
              "      <th>complete model</th>\n",
              "      <td>0</td>\n",
              "      <td>-67.543160</td>\n",
              "      <td>2.640645</td>\n",
              "      <td>0.000000</td>\n",
              "      <td>1.0</td>\n",
              "      <td>2.565702</td>\n",
              "      <td>0.000000</td>\n",
              "      <td>False</td>\n",
              "      <td>log</td>\n",
              "    </tr>\n",
              "    <tr>\n",
              "      <th>basic model</th>\n",
              "      <td>1</td>\n",
              "      <td>-68.878759</td>\n",
              "      <td>4.445470</td>\n",
              "      <td>1.335598</td>\n",
              "      <td>0.0</td>\n",
              "      <td>2.937812</td>\n",
              "      <td>0.924821</td>\n",
              "      <td>False</td>\n",
              "      <td>log</td>\n",
              "    </tr>\n",
              "  </tbody>\n",
              "</table>\n",
              "</div>\n",
              "    <div class=\"colab-df-buttons\">\n",
              "\n",
              "  <div class=\"colab-df-container\">\n",
              "    <button class=\"colab-df-convert\" onclick=\"convertToInteractive('df-c42e4f74-33bb-4148-8d85-65a551ead2ee')\"\n",
              "            title=\"Convert this dataframe to an interactive table.\"\n",
              "            style=\"display:none;\">\n",
              "\n",
              "  <svg xmlns=\"http://www.w3.org/2000/svg\" height=\"24px\" viewBox=\"0 -960 960 960\">\n",
              "    <path d=\"M120-120v-720h720v720H120Zm60-500h600v-160H180v160Zm220 220h160v-160H400v160Zm0 220h160v-160H400v160ZM180-400h160v-160H180v160Zm440 0h160v-160H620v160ZM180-180h160v-160H180v160Zm440 0h160v-160H620v160Z\"/>\n",
              "  </svg>\n",
              "    </button>\n",
              "\n",
              "  <style>\n",
              "    .colab-df-container {\n",
              "      display:flex;\n",
              "      gap: 12px;\n",
              "    }\n",
              "\n",
              "    .colab-df-convert {\n",
              "      background-color: #E8F0FE;\n",
              "      border: none;\n",
              "      border-radius: 50%;\n",
              "      cursor: pointer;\n",
              "      display: none;\n",
              "      fill: #1967D2;\n",
              "      height: 32px;\n",
              "      padding: 0 0 0 0;\n",
              "      width: 32px;\n",
              "    }\n",
              "\n",
              "    .colab-df-convert:hover {\n",
              "      background-color: #E2EBFA;\n",
              "      box-shadow: 0px 1px 2px rgba(60, 64, 67, 0.3), 0px 1px 3px 1px rgba(60, 64, 67, 0.15);\n",
              "      fill: #174EA6;\n",
              "    }\n",
              "\n",
              "    .colab-df-buttons div {\n",
              "      margin-bottom: 4px;\n",
              "    }\n",
              "\n",
              "    [theme=dark] .colab-df-convert {\n",
              "      background-color: #3B4455;\n",
              "      fill: #D2E3FC;\n",
              "    }\n",
              "\n",
              "    [theme=dark] .colab-df-convert:hover {\n",
              "      background-color: #434B5C;\n",
              "      box-shadow: 0px 1px 3px 1px rgba(0, 0, 0, 0.15);\n",
              "      filter: drop-shadow(0px 1px 2px rgba(0, 0, 0, 0.3));\n",
              "      fill: #FFFFFF;\n",
              "    }\n",
              "  </style>\n",
              "\n",
              "    <script>\n",
              "      const buttonEl =\n",
              "        document.querySelector('#df-c42e4f74-33bb-4148-8d85-65a551ead2ee button.colab-df-convert');\n",
              "      buttonEl.style.display =\n",
              "        google.colab.kernel.accessAllowed ? 'block' : 'none';\n",
              "\n",
              "      async function convertToInteractive(key) {\n",
              "        const element = document.querySelector('#df-c42e4f74-33bb-4148-8d85-65a551ead2ee');\n",
              "        const dataTable =\n",
              "          await google.colab.kernel.invokeFunction('convertToInteractive',\n",
              "                                                    [key], {});\n",
              "        if (!dataTable) return;\n",
              "\n",
              "        const docLinkHtml = 'Like what you see? Visit the ' +\n",
              "          '<a target=\"_blank\" href=https://colab.research.google.com/notebooks/data_table.ipynb>data table notebook</a>'\n",
              "          + ' to learn more about interactive tables.';\n",
              "        element.innerHTML = '';\n",
              "        dataTable['output_type'] = 'display_data';\n",
              "        await google.colab.output.renderOutput(dataTable, element);\n",
              "        const docLink = document.createElement('div');\n",
              "        docLink.innerHTML = docLinkHtml;\n",
              "        element.appendChild(docLink);\n",
              "      }\n",
              "    </script>\n",
              "  </div>\n",
              "\n",
              "\n",
              "<div id=\"df-f1096fc9-4a7f-4386-a7a2-1ca7620c5015\">\n",
              "  <button class=\"colab-df-quickchart\" onclick=\"quickchart('df-f1096fc9-4a7f-4386-a7a2-1ca7620c5015')\"\n",
              "            title=\"Suggest charts\"\n",
              "            style=\"display:none;\">\n",
              "\n",
              "<svg xmlns=\"http://www.w3.org/2000/svg\" height=\"24px\"viewBox=\"0 0 24 24\"\n",
              "     width=\"24px\">\n",
              "    <g>\n",
              "        <path d=\"M19 3H5c-1.1 0-2 .9-2 2v14c0 1.1.9 2 2 2h14c1.1 0 2-.9 2-2V5c0-1.1-.9-2-2-2zM9 17H7v-7h2v7zm4 0h-2V7h2v10zm4 0h-2v-4h2v4z\"/>\n",
              "    </g>\n",
              "</svg>\n",
              "  </button>\n",
              "\n",
              "<style>\n",
              "  .colab-df-quickchart {\n",
              "      --bg-color: #E8F0FE;\n",
              "      --fill-color: #1967D2;\n",
              "      --hover-bg-color: #E2EBFA;\n",
              "      --hover-fill-color: #174EA6;\n",
              "      --disabled-fill-color: #AAA;\n",
              "      --disabled-bg-color: #DDD;\n",
              "  }\n",
              "\n",
              "  [theme=dark] .colab-df-quickchart {\n",
              "      --bg-color: #3B4455;\n",
              "      --fill-color: #D2E3FC;\n",
              "      --hover-bg-color: #434B5C;\n",
              "      --hover-fill-color: #FFFFFF;\n",
              "      --disabled-bg-color: #3B4455;\n",
              "      --disabled-fill-color: #666;\n",
              "  }\n",
              "\n",
              "  .colab-df-quickchart {\n",
              "    background-color: var(--bg-color);\n",
              "    border: none;\n",
              "    border-radius: 50%;\n",
              "    cursor: pointer;\n",
              "    display: none;\n",
              "    fill: var(--fill-color);\n",
              "    height: 32px;\n",
              "    padding: 0;\n",
              "    width: 32px;\n",
              "  }\n",
              "\n",
              "  .colab-df-quickchart:hover {\n",
              "    background-color: var(--hover-bg-color);\n",
              "    box-shadow: 0 1px 2px rgba(60, 64, 67, 0.3), 0 1px 3px 1px rgba(60, 64, 67, 0.15);\n",
              "    fill: var(--button-hover-fill-color);\n",
              "  }\n",
              "\n",
              "  .colab-df-quickchart-complete:disabled,\n",
              "  .colab-df-quickchart-complete:disabled:hover {\n",
              "    background-color: var(--disabled-bg-color);\n",
              "    fill: var(--disabled-fill-color);\n",
              "    box-shadow: none;\n",
              "  }\n",
              "\n",
              "  .colab-df-spinner {\n",
              "    border: 2px solid var(--fill-color);\n",
              "    border-color: transparent;\n",
              "    border-bottom-color: var(--fill-color);\n",
              "    animation:\n",
              "      spin 1s steps(1) infinite;\n",
              "  }\n",
              "\n",
              "  @keyframes spin {\n",
              "    0% {\n",
              "      border-color: transparent;\n",
              "      border-bottom-color: var(--fill-color);\n",
              "      border-left-color: var(--fill-color);\n",
              "    }\n",
              "    20% {\n",
              "      border-color: transparent;\n",
              "      border-left-color: var(--fill-color);\n",
              "      border-top-color: var(--fill-color);\n",
              "    }\n",
              "    30% {\n",
              "      border-color: transparent;\n",
              "      border-left-color: var(--fill-color);\n",
              "      border-top-color: var(--fill-color);\n",
              "      border-right-color: var(--fill-color);\n",
              "    }\n",
              "    40% {\n",
              "      border-color: transparent;\n",
              "      border-right-color: var(--fill-color);\n",
              "      border-top-color: var(--fill-color);\n",
              "    }\n",
              "    60% {\n",
              "      border-color: transparent;\n",
              "      border-right-color: var(--fill-color);\n",
              "    }\n",
              "    80% {\n",
              "      border-color: transparent;\n",
              "      border-right-color: var(--fill-color);\n",
              "      border-bottom-color: var(--fill-color);\n",
              "    }\n",
              "    90% {\n",
              "      border-color: transparent;\n",
              "      border-bottom-color: var(--fill-color);\n",
              "    }\n",
              "  }\n",
              "</style>\n",
              "\n",
              "  <script>\n",
              "    async function quickchart(key) {\n",
              "      const quickchartButtonEl =\n",
              "        document.querySelector('#' + key + ' button');\n",
              "      quickchartButtonEl.disabled = true;  // To prevent multiple clicks.\n",
              "      quickchartButtonEl.classList.add('colab-df-spinner');\n",
              "      try {\n",
              "        const charts = await google.colab.kernel.invokeFunction(\n",
              "            'suggestCharts', [key], {});\n",
              "      } catch (error) {\n",
              "        console.error('Error during call to suggestCharts:', error);\n",
              "      }\n",
              "      quickchartButtonEl.classList.remove('colab-df-spinner');\n",
              "      quickchartButtonEl.classList.add('colab-df-quickchart-complete');\n",
              "    }\n",
              "    (() => {\n",
              "      let quickchartButtonEl =\n",
              "        document.querySelector('#df-f1096fc9-4a7f-4386-a7a2-1ca7620c5015 button');\n",
              "      quickchartButtonEl.style.display =\n",
              "        google.colab.kernel.accessAllowed ? 'block' : 'none';\n",
              "    })();\n",
              "  </script>\n",
              "</div>\n",
              "\n",
              "    </div>\n",
              "  </div>\n"
            ],
            "text/plain": [
              "                rank  elpd_waic    p_waic  elpd_diff  weight        se  \\\n",
              "complete model     0 -67.543160  2.640645   0.000000     1.0  2.565702   \n",
              "basic model        1 -68.878759  4.445470   1.335598     0.0  2.937812   \n",
              "\n",
              "                     dse  warning scale  \n",
              "complete model  0.000000    False   log  \n",
              "basic model     0.924821    False   log  "
            ]
          },
          "execution_count": 20,
          "metadata": {},
          "output_type": "execute_result"
        }
      ],
      "source": [
        "az.compare({\"complete model\": trace_complete, \"basic model\": trace_basic}, ic='waic')"
      ]
    },
    {
      "cell_type": "code",
      "execution_count": null,
      "metadata": {
        "colab": {
          "base_uri": "https://localhost:8080/",
          "height": 282
        },
        "id": "NejAT85Qa0iT",
        "outputId": "04d3f88f-9905-4a3d-a54b-7c1a8569d4d5"
      },
      "outputs": [
        {
          "data": {
            "text/plain": [
              "<Axes: title={'center': 'Model comparison\\nhigher is better'}, xlabel='elpd_waic (log)', ylabel='ranked models'>"
            ]
          },
          "execution_count": 21,
          "metadata": {},
          "output_type": "execute_result"
        },
        {
          "data": {
            "image/png": "[encoded data removed]",
            "text/plain": [
              "<Figure size 600x200 with 1 Axes>"
            ]
          },
          "metadata": {},
          "output_type": "display_data"
        }
      ],
      "source": [
        "az.plot_compare(az.compare({ \"complete model\": trace_complete, \"basic model\": trace_basic}, ic='waic'), insample_dev=False)"
      ]
    },
    {
      "cell_type": "markdown",
      "metadata": {
        "id": "7ySbvoqPxa_5"
      },
      "source": [
        "# Mixture model"
      ]
    },
    {
      "cell_type": "code",
      "execution_count": null,
      "metadata": {
        "id": "oq36Nr3qRU8J"
      },
      "outputs": [],
      "source": [
        "subset = cleandata[-100:]\n",
        "\n",
        "x1 = subset['DryRoad']\n",
        "x1 = pd.Series(x1).array\n",
        "\n",
        "x2 = subset['Clear']\n",
        "x2 = pd.Series(x2).array\n",
        "\n",
        "x3 = subset['DualCarriageway']\n",
        "x3 = pd.Series(x3).array\n",
        "\n",
        "x4 = subset['Dark']\n",
        "x4 = pd.Series(x4).array\n",
        "\n",
        "x5 = subset['Speed_limit']\n",
        "x5 = pd.Series(x5).array\n",
        "\n",
        "x6 = subset[\"Night\"]\n",
        "x6 = pd.Series(x6).array\n",
        "\n",
        "x7 = subset[\"Morning\"]\n",
        "x7 = pd.Series(x7).array\n",
        "\n",
        "x8 = subset[\"Midday\"]\n",
        "x8 = pd.Series(x8).array\n",
        "\n",
        "x9 = subset[\"Afternoon\"]\n",
        "x9 = pd.Series(x9).array\n",
        "\n",
        "x10 = subset[\"Evening\"]\n",
        "x10 = pd.Series(x10).array\n",
        "\n",
        "xover55 = subset[\"over55\"]\n",
        "xover55 = pd.Series(subset[\"over55\"]).array\n",
        "xGender = pd.Series(subset[\"Gender\"]).array\n",
        "\n",
        "y = subset['Severity_binary']\n",
        "y = pd.Series(y).array\n",
        "\n",
        "num_obs = len(y)"
      ]
    },
    {
      "cell_type": "code",
      "execution_count": null,
      "metadata": {
        "colab": {
          "base_uri": "https://localhost:8080/",
          "height": 57
        },
        "id": "PiKzqkuUt-nF",
        "outputId": "76cd394c-f4cb-4f35-d55d-383194a4d862"
      },
      "outputs": [
        {
          "data": {
            "text/html": [
              "\n",
              "<style>\n",
              "    /* Turns off some styling */\n",
              "    progress {\n",
              "        /* gets rid of default border in Firefox and Opera. */\n",
              "        border: none;\n",
              "        /* Needs to be in here for Safari polyfill so background images work as expected. */\n",
              "        background-size: auto;\n",
              "    }\n",
              "    progress:not([value]), progress:not([value])::-webkit-progress-bar {\n",
              "        background: repeating-linear-gradient(45deg, #7e7e7e, #7e7e7e 10px, #5c5c5c 10px, #5c5c5c 20px);\n",
              "    }\n",
              "    .progress-bar-interrupted, .progress-bar-interrupted::-webkit-progress-bar {\n",
              "        background: #F44336;\n",
              "    }\n",
              "</style>\n"
            ],
            "text/plain": [
              "<IPython.core.display.HTML object>"
            ]
          },
          "metadata": {},
          "output_type": "display_data"
        },
        {
          "data": {
            "text/html": [
              "\n",
              "    <div>\n",
              "      <progress value='2000' class='' max='2000' style='width:300px; height:20px; vertical-align: middle;'></progress>\n",
              "      100.00% [2000/2000 00:29&lt;00:00 Sampling chain 0, 0 divergences]\n",
              "    </div>\n",
              "    "
            ],
            "text/plain": [
              "<IPython.core.display.HTML object>"
            ]
          },
          "metadata": {},
          "output_type": "display_data"
        },
        {
          "data": {
            "text/html": [
              "\n",
              "<style>\n",
              "    /* Turns off some styling */\n",
              "    progress {\n",
              "        /* gets rid of default border in Firefox and Opera. */\n",
              "        border: none;\n",
              "        /* Needs to be in here for Safari polyfill so background images work as expected. */\n",
              "        background-size: auto;\n",
              "    }\n",
              "    progress:not([value]), progress:not([value])::-webkit-progress-bar {\n",
              "        background: repeating-linear-gradient(45deg, #7e7e7e, #7e7e7e 10px, #5c5c5c 10px, #5c5c5c 20px);\n",
              "    }\n",
              "    .progress-bar-interrupted, .progress-bar-interrupted::-webkit-progress-bar {\n",
              "        background: #F44336;\n",
              "    }\n",
              "</style>\n"
            ],
            "text/plain": [
              "<IPython.core.display.HTML object>"
            ]
          },
          "metadata": {},
          "output_type": "display_data"
        },
        {
          "data": {
            "text/html": [
              "\n",
              "    <div>\n",
              "      <progress value='2000' class='' max='2000' style='width:300px; height:20px; vertical-align: middle;'></progress>\n",
              "      100.00% [2000/2000 00:28&lt;00:00 Sampling chain 1, 0 divergences]\n",
              "    </div>\n",
              "    "
            ],
            "text/plain": [
              "<IPython.core.display.HTML object>"
            ]
          },
          "metadata": {},
          "output_type": "display_data"
        }
      ],
      "source": [
        "with pm.Model() as mixture_model:\n",
        "    # Define mixture component for Gender\n",
        "    alpha_gender_0 = pm.Normal('alpha_gender_0', mu=0, sigma=1)\n",
        "    beta_gender_0 = pm.Normal('beta_gender_0', mu=0, sigma=1)\n",
        "\n",
        "    alpha_gender_1 = pm.Normal('alpha_gender_1', mu=0, sigma=1)\n",
        "    beta_gender_1 = pm.Normal('beta_gender_1', mu=0, sigma=1)\n",
        "\n",
        "    # Mixture component for Gender\n",
        "    mixture_gender = pm.Bernoulli('mixture_gender', p=0.5)  # Prior probability of belonging to each component\n",
        "\n",
        "    # Define mixture component for over55\n",
        "    alpha_over55_0 = pm.Normal('alpha_over55_0', mu=0, sigma=1)\n",
        "    beta_over55_0 = pm.Normal('beta_over55_0', mu=0, sigma=1)\n",
        "\n",
        "    alpha_over55_1 = pm.Normal('alpha_over55_1', mu=0, sigma=1)\n",
        "    beta_over55_1 = pm.Normal('beta_over55_1', mu=0, sigma=1)\n",
        "\n",
        "    # Mixture component for over55\n",
        "    mixture_over55 = pm.Bernoulli('mixture_over55', p=0.5)  # Prior probability of belonging to each component\n",
        "\n",
        "    # Define mixture probabilities\n",
        "    mixture_prob_gender = pm.math.switch(mixture_gender, 1, 0)\n",
        "    mixture_prob_over55 = pm.math.switch(mixture_over55, 1, 0)\n",
        "\n",
        "    # pWeekday Probablity of being a weekday\n",
        "    pWeekday = pm.Beta('pWeekday', alpha=1, beta=1)\n",
        "\n",
        "    # Time weekday probabilities\n",
        "    pNight= pm.Beta('pNight', alpha=1, beta=1) ## = p1\n",
        "    pMorningBase= pm.Beta('pMorningBase', alpha=1, beta=1)\n",
        "    pMiddayBase= pm.Beta('pMiddayBase', alpha=1, beta=1)\n",
        "    pAfternoonBase= pm.Beta('pAfternoonBase', alpha=1, beta=1)\n",
        "    pEvening= pm.Beta('pEvening', alpha=1, beta=1) ## = p5\n",
        "    # Time weekend probabilities\n",
        "    pMorChange= pm.Beta('pMorChange', alpha=1, beta=1)\n",
        "    pMidChange= pm.Beta('pMidChange', alpha=1, beta=1)\n",
        "    pAftChange= pm.Beta('pAftChange', alpha=1, beta=1)\n",
        "\n",
        "    # pMorningBase + pWeekday*(1-pMorningBase)*pMorChange\n",
        "    no_negatives_2 = pm.math.switch(pm.math.lt(pMorningBase + pWeekday*(1-pMorningBase)*pMorChange,0), 0, pMorningBase + pWeekday*(1-pMorningBase)*pMorChange)\n",
        "    in_unit_interval_2 = pm.math.switch(pm.math.gt(no_negatives_2,1), 1, pMorningBase + pWeekday*(1-pMorningBase)*pMorChange)\n",
        "    pMorning = pm.Deterministic('pMorning', in_unit_interval_2)\n",
        "\n",
        "    # pMiddayBase - pWeekday*(1-pMiddayBase)*pMidChange\n",
        "    no_negatives_3 = pm.math.switch(pm.math.lt(pMiddayBase - pWeekday*(1-pMiddayBase)*pMidChange,0), 0, pMiddayBase - pWeekday*(1-pMiddayBase)*pMidChange)\n",
        "    in_unit_interval_3 = pm.math.switch(pm.math.gt(no_negatives_3,1), 1, pMiddayBase - pWeekday*(1-pMiddayBase)*pMidChange)\n",
        "    pMidday = pm.Deterministic('pMidday', in_unit_interval_3)\n",
        "\n",
        "    # pAfternoonBase + pWeekday*(1-pAfternoonBase)*pAftChange\n",
        "    no_negatives_4 = pm.math.switch(pm.math.lt(pAfternoonBase + pWeekday*(1-pAfternoonBase)*pAftChange,0), 0, pAfternoonBase + pWeekday*(1-pAfternoonBase)*pAftChange)\n",
        "    in_unit_interval_4 = pm.math.switch(pm.math.gt(no_negatives_4,1), 1, pAfternoonBase + pWeekday*(1-pAfternoonBase)*pAftChange)\n",
        "    pAfternoon = pm.Deterministic('pAfternoon', in_unit_interval_4)\n",
        "\n",
        "    # Intercept\n",
        "    intercept = pm.Normal('intercept', mu=0, sigma=1)\n",
        "\n",
        "    # Priors of selected condition predictors\n",
        "    beta_dark = pm.Normal('beta_dark', mu=0, sigma=1)  # Prior for 'Dark'\n",
        "    beta_clear = pm.Normal('beta_clear', mu=0, sigma=1)  # Prior for 'Clear'\n",
        "\n",
        "    # Combine mixture components with the existing linear combination\n",
        "    logit_p = intercept + pNight * x6 + pMorning * x7 + pMidday * x8 + pAfternoon * x9 + pEvening * x10 + beta_clear * x2 + beta_dark * x4 \\\n",
        "              + mixture_prob_gender * (pm.math.switch(mixture_gender, alpha_gender_1 + beta_gender_1 * xGender, alpha_gender_0 + beta_gender_0 * xGender)) \\\n",
        "              + mixture_prob_over55 * (pm.math.switch(mixture_over55,alpha_over55_1 + beta_over55_1 * xover55,alpha_over55_0 + beta_over55_0 * xover55))\n",
        "    logit_p = pm.Deterministic('logit_p',logit_p)\n",
        "\n",
        "    # Define likelihood\n",
        "    Y = pm.Bernoulli('Y', logit_p=logit_p, observed=y)\n",
        "\n",
        "    # Sample from the model\n",
        "    idata_4 = pm.sample()\n"
      ]
    },
    {
      "cell_type": "code",
      "execution_count": null,
      "metadata": {
        "colab": {
          "base_uri": "https://localhost:8080/",
          "height": 441
        },
        "id": "K-nfiTn0DbKL",
        "outputId": "1608b06b-3e1f-4ca5-a901-fde1d5246e7c"
      },
      "outputs": [
        {
          "name": "stdout",
          "output_type": "stream",
          "text": [
            "number of MCMC samples: 2000\n"
          ]
        },
        {
          "data": {
            "application/vnd.google.colaboratory.intrinsic+json": {
              "summary": "{\n  \"name\": \"az\",\n  \"rows\": 125,\n  \"fields\": [\n    {\n      \"column\": \"mean\",\n      \"properties\": {\n        \"dtype\": \"number\",\n        \"std\": 0.3810947727356695,\n        \"min\": -1.43,\n        \"max\": 0.72,\n        \"num_unique_values\": 41,\n        \"samples\": [\n          -0.64,\n          0.39,\n          -0.59\n        ],\n        \"semantic_type\": \"\",\n        \"description\": \"\"\n      }\n    },\n    {\n      \"column\": \"sd\",\n      \"properties\": {\n        \"dtype\": \"number\",\n        \"std\": 0.19969492861895377,\n        \"min\": 0.21,\n        \"max\": 1.02,\n        \"num_unique_values\": 37,\n        \"samples\": [\n          0.21,\n          0.26,\n          1.02\n        ],\n        \"semantic_type\": \"\",\n        \"description\": \"\"\n      }\n    },\n    {\n      \"column\": \"hdi_3%\",\n      \"properties\": {\n        \"dtype\": \"number\",\n        \"std\": 0.5775509249994688,\n        \"min\": -3.08,\n        \"max\": 0.34,\n        \"num_unique_values\": 37,\n        \"samples\": [\n          -0.92,\n          0.15,\n          0.0\n        ],\n        \"semantic_type\": \"\",\n        \"description\": \"\"\n      }\n    },\n    {\n      \"column\": \"hdi_97%\",\n      \"properties\": {\n        \"dtype\": \"number\",\n        \"std\": 0.5254984484799538,\n        \"min\": -0.09,\n        \"max\": 1.89,\n        \"num_unique_values\": 36,\n        \"samples\": [\n          0.83,\n          0.84,\n          0.77\n        ],\n        \"semantic_type\": \"\",\n        \"description\": \"\"\n      }\n    },\n    {\n      \"column\": \"mcse_mean\",\n      \"properties\": {\n        \"dtype\": \"number\",\n        \"std\": 0.0041348245662359605,\n        \"min\": 0.0,\n        \"max\": 0.03,\n        \"num_unique_values\": 4,\n        \"samples\": [\n          0.03,\n          0.0,\n          0.02\n        ],\n        \"semantic_type\": \"\",\n        \"description\": \"\"\n      }\n    },\n    {\n      \"column\": \"mcse_sd\",\n      \"properties\": {\n        \"dtype\": \"number\",\n        \"std\": 0.006647822830603775,\n        \"min\": 0.0,\n        \"max\": 0.03,\n        \"num_unique_values\": 4,\n        \"samples\": [\n          0.03,\n          0.0,\n          0.02\n        ],\n        \"semantic_type\": \"\",\n        \"description\": \"\"\n      }\n    },\n    {\n      \"column\": \"ess_bulk\",\n      \"properties\": {\n        \"dtype\": \"number\",\n        \"std\": 445.4421776941171,\n        \"min\": 279.16,\n        \"max\": 3170.48,\n        \"num_unique_values\": 49,\n        \"samples\": [\n          2265.45,\n          1731.64,\n          1491.9\n        ],\n        \"semantic_type\": \"\",\n        \"description\": \"\"\n      }\n    },\n    {\n      \"column\": \"ess_tail\",\n      \"properties\": {\n        \"dtype\": \"number\",\n        \"std\": 248.805553738113,\n        \"min\": 279.16,\n        \"max\": 1897.53,\n        \"num_unique_values\": 49,\n        \"samples\": [\n          1109.28,\n          1339.93,\n          1501.49\n        ],\n        \"semantic_type\": \"\",\n        \"description\": \"\"\n      }\n    },\n    {\n      \"column\": \"r_hat\",\n      \"properties\": {\n        \"dtype\": \"number\",\n        \"std\": 0.0021761166951631402,\n        \"min\": 1.0,\n        \"max\": 1.02,\n        \"num_unique_values\": 3,\n        \"samples\": [\n          1.0,\n          1.02,\n          1.01\n        ],\n        \"semantic_type\": \"\",\n        \"description\": \"\"\n      }\n    }\n  ]\n}",
              "type": "dataframe"
            },
            "text/html": [
              "\n",
              "  <div id=\"df-6666c01a-ac7c-4042-ae86-646e1998eea4\" class=\"colab-df-container\">\n",
              "    <div>\n",
              "<style scoped>\n",
              "    .dataframe tbody tr th:only-of-type {\n",
              "        vertical-align: middle;\n",
              "    }\n",
              "\n",
              "    .dataframe tbody tr th {\n",
              "        vertical-align: top;\n",
              "    }\n",
              "\n",
              "    .dataframe thead th {\n",
              "        text-align: right;\n",
              "    }\n",
              "</style>\n",
              "<table border=\"1\" class=\"dataframe\">\n",
              "  <thead>\n",
              "    <tr style=\"text-align: right;\">\n",
              "      <th></th>\n",
              "      <th>mean</th>\n",
              "      <th>sd</th>\n",
              "      <th>hdi_3%</th>\n",
              "      <th>hdi_97%</th>\n",
              "      <th>mcse_mean</th>\n",
              "      <th>mcse_sd</th>\n",
              "      <th>ess_bulk</th>\n",
              "      <th>ess_tail</th>\n",
              "      <th>r_hat</th>\n",
              "    </tr>\n",
              "  </thead>\n",
              "  <tbody>\n",
              "    <tr>\n",
              "      <th>alpha_gender_0</th>\n",
              "      <td>0.04</td>\n",
              "      <td>1.01</td>\n",
              "      <td>-1.89</td>\n",
              "      <td>1.89</td>\n",
              "      <td>0.02</td>\n",
              "      <td>0.02</td>\n",
              "      <td>1925.44</td>\n",
              "      <td>1277.10</td>\n",
              "      <td>1.0</td>\n",
              "    </tr>\n",
              "    <tr>\n",
              "      <th>beta_gender_0</th>\n",
              "      <td>-0.02</td>\n",
              "      <td>1.01</td>\n",
              "      <td>-1.93</td>\n",
              "      <td>1.88</td>\n",
              "      <td>0.02</td>\n",
              "      <td>0.02</td>\n",
              "      <td>2863.19</td>\n",
              "      <td>1500.26</td>\n",
              "      <td>1.0</td>\n",
              "    </tr>\n",
              "    <tr>\n",
              "      <th>alpha_gender_1</th>\n",
              "      <td>-0.14</td>\n",
              "      <td>0.96</td>\n",
              "      <td>-2.02</td>\n",
              "      <td>1.58</td>\n",
              "      <td>0.02</td>\n",
              "      <td>0.02</td>\n",
              "      <td>2014.24</td>\n",
              "      <td>1397.71</td>\n",
              "      <td>1.0</td>\n",
              "    </tr>\n",
              "    <tr>\n",
              "      <th>beta_gender_1</th>\n",
              "      <td>0.08</td>\n",
              "      <td>0.87</td>\n",
              "      <td>-1.59</td>\n",
              "      <td>1.80</td>\n",
              "      <td>0.02</td>\n",
              "      <td>0.02</td>\n",
              "      <td>2023.84</td>\n",
              "      <td>1333.71</td>\n",
              "      <td>1.0</td>\n",
              "    </tr>\n",
              "    <tr>\n",
              "      <th>mixture_gender</th>\n",
              "      <td>0.36</td>\n",
              "      <td>0.48</td>\n",
              "      <td>0.00</td>\n",
              "      <td>1.00</td>\n",
              "      <td>0.02</td>\n",
              "      <td>0.02</td>\n",
              "      <td>389.58</td>\n",
              "      <td>389.58</td>\n",
              "      <td>1.0</td>\n",
              "    </tr>\n",
              "    <tr>\n",
              "      <th>...</th>\n",
              "      <td>...</td>\n",
              "      <td>...</td>\n",
              "      <td>...</td>\n",
              "      <td>...</td>\n",
              "      <td>...</td>\n",
              "      <td>...</td>\n",
              "      <td>...</td>\n",
              "      <td>...</td>\n",
              "      <td>...</td>\n",
              "    </tr>\n",
              "    <tr>\n",
              "      <th>logit_p[95]</th>\n",
              "      <td>-0.43</td>\n",
              "      <td>0.26</td>\n",
              "      <td>-0.92</td>\n",
              "      <td>0.02</td>\n",
              "      <td>0.01</td>\n",
              "      <td>0.00</td>\n",
              "      <td>2044.51</td>\n",
              "      <td>1661.65</td>\n",
              "      <td>1.0</td>\n",
              "    </tr>\n",
              "    <tr>\n",
              "      <th>logit_p[96]</th>\n",
              "      <td>-0.48</td>\n",
              "      <td>0.41</td>\n",
              "      <td>-1.23</td>\n",
              "      <td>0.31</td>\n",
              "      <td>0.01</td>\n",
              "      <td>0.01</td>\n",
              "      <td>1258.71</td>\n",
              "      <td>1472.51</td>\n",
              "      <td>1.0</td>\n",
              "    </tr>\n",
              "    <tr>\n",
              "      <th>logit_p[97]</th>\n",
              "      <td>-0.71</td>\n",
              "      <td>0.37</td>\n",
              "      <td>-1.39</td>\n",
              "      <td>-0.04</td>\n",
              "      <td>0.01</td>\n",
              "      <td>0.01</td>\n",
              "      <td>2215.88</td>\n",
              "      <td>1897.53</td>\n",
              "      <td>1.0</td>\n",
              "    </tr>\n",
              "    <tr>\n",
              "      <th>logit_p[98]</th>\n",
              "      <td>-0.64</td>\n",
              "      <td>0.35</td>\n",
              "      <td>-1.34</td>\n",
              "      <td>-0.01</td>\n",
              "      <td>0.01</td>\n",
              "      <td>0.01</td>\n",
              "      <td>2224.39</td>\n",
              "      <td>1502.53</td>\n",
              "      <td>1.0</td>\n",
              "    </tr>\n",
              "    <tr>\n",
              "      <th>logit_p[99]</th>\n",
              "      <td>-0.12</td>\n",
              "      <td>0.55</td>\n",
              "      <td>-1.23</td>\n",
              "      <td>0.83</td>\n",
              "      <td>0.01</td>\n",
              "      <td>0.01</td>\n",
              "      <td>1593.86</td>\n",
              "      <td>1304.64</td>\n",
              "      <td>1.0</td>\n",
              "    </tr>\n",
              "  </tbody>\n",
              "</table>\n",
              "<p>125 rows × 9 columns</p>\n",
              "</div>\n",
              "    <div class=\"colab-df-buttons\">\n",
              "\n",
              "  <div class=\"colab-df-container\">\n",
              "    <button class=\"colab-df-convert\" onclick=\"convertToInteractive('df-6666c01a-ac7c-4042-ae86-646e1998eea4')\"\n",
              "            title=\"Convert this dataframe to an interactive table.\"\n",
              "            style=\"display:none;\">\n",
              "\n",
              "  <svg xmlns=\"http://www.w3.org/2000/svg\" height=\"24px\" viewBox=\"0 -960 960 960\">\n",
              "    <path d=\"M120-120v-720h720v720H120Zm60-500h600v-160H180v160Zm220 220h160v-160H400v160Zm0 220h160v-160H400v160ZM180-400h160v-160H180v160Zm440 0h160v-160H620v160ZM180-180h160v-160H180v160Zm440 0h160v-160H620v160Z\"/>\n",
              "  </svg>\n",
              "    </button>\n",
              "\n",
              "  <style>\n",
              "    .colab-df-container {\n",
              "      display:flex;\n",
              "      gap: 12px;\n",
              "    }\n",
              "\n",
              "    .colab-df-convert {\n",
              "      background-color: #E8F0FE;\n",
              "      border: none;\n",
              "      border-radius: 50%;\n",
              "      cursor: pointer;\n",
              "      display: none;\n",
              "      fill: #1967D2;\n",
              "      height: 32px;\n",
              "      padding: 0 0 0 0;\n",
              "      width: 32px;\n",
              "    }\n",
              "\n",
              "    .colab-df-convert:hover {\n",
              "      background-color: #E2EBFA;\n",
              "      box-shadow: 0px 1px 2px rgba(60, 64, 67, 0.3), 0px 1px 3px 1px rgba(60, 64, 67, 0.15);\n",
              "      fill: #174EA6;\n",
              "    }\n",
              "\n",
              "    .colab-df-buttons div {\n",
              "      margin-bottom: 4px;\n",
              "    }\n",
              "\n",
              "    [theme=dark] .colab-df-convert {\n",
              "      background-color: #3B4455;\n",
              "      fill: #D2E3FC;\n",
              "    }\n",
              "\n",
              "    [theme=dark] .colab-df-convert:hover {\n",
              "      background-color: #434B5C;\n",
              "      box-shadow: 0px 1px 3px 1px rgba(0, 0, 0, 0.15);\n",
              "      filter: drop-shadow(0px 1px 2px rgba(0, 0, 0, 0.3));\n",
              "      fill: #FFFFFF;\n",
              "    }\n",
              "  </style>\n",
              "\n",
              "    <script>\n",
              "      const buttonEl =\n",
              "        document.querySelector('#df-6666c01a-ac7c-4042-ae86-646e1998eea4 button.colab-df-convert');\n",
              "      buttonEl.style.display =\n",
              "        google.colab.kernel.accessAllowed ? 'block' : 'none';\n",
              "\n",
              "      async function convertToInteractive(key) {\n",
              "        const element = document.querySelector('#df-6666c01a-ac7c-4042-ae86-646e1998eea4');\n",
              "        const dataTable =\n",
              "          await google.colab.kernel.invokeFunction('convertToInteractive',\n",
              "                                                    [key], {});\n",
              "        if (!dataTable) return;\n",
              "\n",
              "        const docLinkHtml = 'Like what you see? Visit the ' +\n",
              "          '<a target=\"_blank\" href=https://colab.research.google.com/notebooks/data_table.ipynb>data table notebook</a>'\n",
              "          + ' to learn more about interactive tables.';\n",
              "        element.innerHTML = '';\n",
              "        dataTable['output_type'] = 'display_data';\n",
              "        await google.colab.output.renderOutput(dataTable, element);\n",
              "        const docLink = document.createElement('div');\n",
              "        docLink.innerHTML = docLinkHtml;\n",
              "        element.appendChild(docLink);\n",
              "      }\n",
              "    </script>\n",
              "  </div>\n",
              "\n",
              "\n",
              "<div id=\"df-13eed0fc-a65a-4023-bac5-65b97350982c\">\n",
              "  <button class=\"colab-df-quickchart\" onclick=\"quickchart('df-13eed0fc-a65a-4023-bac5-65b97350982c')\"\n",
              "            title=\"Suggest charts\"\n",
              "            style=\"display:none;\">\n",
              "\n",
              "<svg xmlns=\"http://www.w3.org/2000/svg\" height=\"24px\"viewBox=\"0 0 24 24\"\n",
              "     width=\"24px\">\n",
              "    <g>\n",
              "        <path d=\"M19 3H5c-1.1 0-2 .9-2 2v14c0 1.1.9 2 2 2h14c1.1 0 2-.9 2-2V5c0-1.1-.9-2-2-2zM9 17H7v-7h2v7zm4 0h-2V7h2v10zm4 0h-2v-4h2v4z\"/>\n",
              "    </g>\n",
              "</svg>\n",
              "  </button>\n",
              "\n",
              "<style>\n",
              "  .colab-df-quickchart {\n",
              "      --bg-color: #E8F0FE;\n",
              "      --fill-color: #1967D2;\n",
              "      --hover-bg-color: #E2EBFA;\n",
              "      --hover-fill-color: #174EA6;\n",
              "      --disabled-fill-color: #AAA;\n",
              "      --disabled-bg-color: #DDD;\n",
              "  }\n",
              "\n",
              "  [theme=dark] .colab-df-quickchart {\n",
              "      --bg-color: #3B4455;\n",
              "      --fill-color: #D2E3FC;\n",
              "      --hover-bg-color: #434B5C;\n",
              "      --hover-fill-color: #FFFFFF;\n",
              "      --disabled-bg-color: #3B4455;\n",
              "      --disabled-fill-color: #666;\n",
              "  }\n",
              "\n",
              "  .colab-df-quickchart {\n",
              "    background-color: var(--bg-color);\n",
              "    border: none;\n",
              "    border-radius: 50%;\n",
              "    cursor: pointer;\n",
              "    display: none;\n",
              "    fill: var(--fill-color);\n",
              "    height: 32px;\n",
              "    padding: 0;\n",
              "    width: 32px;\n",
              "  }\n",
              "\n",
              "  .colab-df-quickchart:hover {\n",
              "    background-color: var(--hover-bg-color);\n",
              "    box-shadow: 0 1px 2px rgba(60, 64, 67, 0.3), 0 1px 3px 1px rgba(60, 64, 67, 0.15);\n",
              "    fill: var(--button-hover-fill-color);\n",
              "  }\n",
              "\n",
              "  .colab-df-quickchart-complete:disabled,\n",
              "  .colab-df-quickchart-complete:disabled:hover {\n",
              "    background-color: var(--disabled-bg-color);\n",
              "    fill: var(--disabled-fill-color);\n",
              "    box-shadow: none;\n",
              "  }\n",
              "\n",
              "  .colab-df-spinner {\n",
              "    border: 2px solid var(--fill-color);\n",
              "    border-color: transparent;\n",
              "    border-bottom-color: var(--fill-color);\n",
              "    animation:\n",
              "      spin 1s steps(1) infinite;\n",
              "  }\n",
              "\n",
              "  @keyframes spin {\n",
              "    0% {\n",
              "      border-color: transparent;\n",
              "      border-bottom-color: var(--fill-color);\n",
              "      border-left-color: var(--fill-color);\n",
              "    }\n",
              "    20% {\n",
              "      border-color: transparent;\n",
              "      border-left-color: var(--fill-color);\n",
              "      border-top-color: var(--fill-color);\n",
              "    }\n",
              "    30% {\n",
              "      border-color: transparent;\n",
              "      border-left-color: var(--fill-color);\n",
              "      border-top-color: var(--fill-color);\n",
              "      border-right-color: var(--fill-color);\n",
              "    }\n",
              "    40% {\n",
              "      border-color: transparent;\n",
              "      border-right-color: var(--fill-color);\n",
              "      border-top-color: var(--fill-color);\n",
              "    }\n",
              "    60% {\n",
              "      border-color: transparent;\n",
              "      border-right-color: var(--fill-color);\n",
              "    }\n",
              "    80% {\n",
              "      border-color: transparent;\n",
              "      border-right-color: var(--fill-color);\n",
              "      border-bottom-color: var(--fill-color);\n",
              "    }\n",
              "    90% {\n",
              "      border-color: transparent;\n",
              "      border-bottom-color: var(--fill-color);\n",
              "    }\n",
              "  }\n",
              "</style>\n",
              "\n",
              "  <script>\n",
              "    async function quickchart(key) {\n",
              "      const quickchartButtonEl =\n",
              "        document.querySelector('#' + key + ' button');\n",
              "      quickchartButtonEl.disabled = true;  // To prevent multiple clicks.\n",
              "      quickchartButtonEl.classList.add('colab-df-spinner');\n",
              "      try {\n",
              "        const charts = await google.colab.kernel.invokeFunction(\n",
              "            'suggestCharts', [key], {});\n",
              "      } catch (error) {\n",
              "        console.error('Error during call to suggestCharts:', error);\n",
              "      }\n",
              "      quickchartButtonEl.classList.remove('colab-df-spinner');\n",
              "      quickchartButtonEl.classList.add('colab-df-quickchart-complete');\n",
              "    }\n",
              "    (() => {\n",
              "      let quickchartButtonEl =\n",
              "        document.querySelector('#df-13eed0fc-a65a-4023-bac5-65b97350982c button');\n",
              "      quickchartButtonEl.style.display =\n",
              "        google.colab.kernel.accessAllowed ? 'block' : 'none';\n",
              "    })();\n",
              "  </script>\n",
              "</div>\n",
              "\n",
              "    </div>\n",
              "  </div>\n"
            ],
            "text/plain": [
              "                mean    sd  hdi_3%  hdi_97%  mcse_mean  mcse_sd  ess_bulk  \\\n",
              "alpha_gender_0  0.04  1.01   -1.89     1.89       0.02     0.02   1925.44   \n",
              "beta_gender_0  -0.02  1.01   -1.93     1.88       0.02     0.02   2863.19   \n",
              "alpha_gender_1 -0.14  0.96   -2.02     1.58       0.02     0.02   2014.24   \n",
              "beta_gender_1   0.08  0.87   -1.59     1.80       0.02     0.02   2023.84   \n",
              "mixture_gender  0.36  0.48    0.00     1.00       0.02     0.02    389.58   \n",
              "...              ...   ...     ...      ...        ...      ...       ...   \n",
              "logit_p[95]    -0.43  0.26   -0.92     0.02       0.01     0.00   2044.51   \n",
              "logit_p[96]    -0.48  0.41   -1.23     0.31       0.01     0.01   1258.71   \n",
              "logit_p[97]    -0.71  0.37   -1.39    -0.04       0.01     0.01   2215.88   \n",
              "logit_p[98]    -0.64  0.35   -1.34    -0.01       0.01     0.01   2224.39   \n",
              "logit_p[99]    -0.12  0.55   -1.23     0.83       0.01     0.01   1593.86   \n",
              "\n",
              "                ess_tail  r_hat  \n",
              "alpha_gender_0   1277.10    1.0  \n",
              "beta_gender_0    1500.26    1.0  \n",
              "alpha_gender_1   1397.71    1.0  \n",
              "beta_gender_1    1333.71    1.0  \n",
              "mixture_gender    389.58    1.0  \n",
              "...                  ...    ...  \n",
              "logit_p[95]      1661.65    1.0  \n",
              "logit_p[96]      1472.51    1.0  \n",
              "logit_p[97]      1897.53    1.0  \n",
              "logit_p[98]      1502.53    1.0  \n",
              "logit_p[99]      1304.64    1.0  \n",
              "\n",
              "[125 rows x 9 columns]"
            ]
          },
          "execution_count": 24,
          "metadata": {},
          "output_type": "execute_result"
        }
      ],
      "source": [
        "print(\"number of MCMC samples:\", idata_4.posterior['pWeekday'].values.flatten().shape[-1])\n",
        "az.summary(idata_4, round_to=2)"
      ]
    },
    {
      "cell_type": "code",
      "execution_count": null,
      "metadata": {
        "colab": {
          "base_uri": "https://localhost:8080/",
          "height": 618
        },
        "id": "caZDzP-ZU-Ks",
        "outputId": "8f3e99fc-ddcf-47fc-ed31-22648bea4d60"
      },
      "outputs": [
        {
          "data": {
            "image/svg+xml": "<?xml version=\"1.0\" encoding=\"UTF-8\" standalone=\"no\"?>\n<!DOCTYPE svg PUBLIC \"-//W3C//DTD SVG 1.1//EN\"\n \"http://www.w3.org/Graphics/SVG/1.1/DTD/svg11.dtd\">\n<!-- Generated by graphviz version 2.43.0 (0)\n -->\n<!-- Title: %3 Pages: 1 -->\n<svg width=\"2473pt\" height=\"433pt\"\n viewBox=\"0.00 0.00 2472.71 432.86\" xmlns=\"http://www.w3.org/2000/svg\" xmlns:xlink=\"http://www.w3.org/1999/xlink\">\n<g id=\"graph0\" class=\"graph\" transform=\"scale(1 1) rotate(0) translate(4 428.86)\">\n<title>%3</title>\n<polygon fill=\"white\" stroke=\"transparent\" points=\"-4,4 -4,-428.86 2468.71,-428.86 2468.71,4 -4,4\"/>\n<g id=\"clust1\" class=\"cluster\">\n<title>cluster100</title>\n<path fill=\"none\" stroke=\"black\" d=\"M1276.83,-8C1276.83,-8 1364.83,-8 1364.83,-8 1370.83,-8 1376.83,-14 1376.83,-20 1376.83,-20 1376.83,-198.95 1376.83,-198.95 1376.83,-204.95 1370.83,-210.95 1364.83,-210.95 1364.83,-210.95 1276.83,-210.95 1276.83,-210.95 1270.83,-210.95 1264.83,-204.95 1264.83,-198.95 1264.83,-198.95 1264.83,-20 1264.83,-20 1264.83,-14 1270.83,-8 1276.83,-8\"/>\n<text text-anchor=\"middle\" x=\"1358.33\" y=\"-15.8\" font-family=\"Times,serif\" font-size=\"14.00\">100</text>\n</g>\n<!-- pAfternoonBase -->\n<g id=\"node1\" class=\"node\">\n<title>pAfternoonBase</title>\n<ellipse fill=\"none\" stroke=\"black\" cx=\"911.83\" cy=\"-387.38\" rx=\"74.49\" ry=\"37.45\"/>\n<text text-anchor=\"middle\" x=\"911.83\" y=\"-398.68\" font-family=\"Times,serif\" font-size=\"14.00\">pAfternoonBase</text>\n<text text-anchor=\"middle\" x=\"911.83\" y=\"-383.68\" font-family=\"Times,serif\" font-size=\"14.00\">~</text>\n<text text-anchor=\"middle\" x=\"911.83\" y=\"-368.68\" font-family=\"Times,serif\" font-size=\"14.00\">Beta</text>\n</g>\n<!-- pAfternoon -->\n<g id=\"node7\" class=\"node\">\n<title>pAfternoon</title>\n<polygon fill=\"none\" stroke=\"black\" points=\"882.33,-302.93 791.33,-302.93 791.33,-249.93 882.33,-249.93 882.33,-302.93\"/>\n<text text-anchor=\"middle\" x=\"836.83\" y=\"-287.73\" font-family=\"Times,serif\" font-size=\"14.00\">pAfternoon</text>\n<text text-anchor=\"middle\" x=\"836.83\" y=\"-272.73\" font-family=\"Times,serif\" font-size=\"14.00\">~</text>\n<text text-anchor=\"middle\" x=\"836.83\" y=\"-257.73\" font-family=\"Times,serif\" font-size=\"14.00\">Deterministic</text>\n</g>\n<!-- pAfternoonBase&#45;&gt;pAfternoon -->\n<g id=\"edge9\" class=\"edge\">\n<title>pAfternoonBase&#45;&gt;pAfternoon</title>\n<path fill=\"none\" stroke=\"black\" d=\"M887.9,-351.61C879.12,-338.86 869.19,-324.44 860.45,-311.73\"/>\n<polygon fill=\"black\" stroke=\"black\" points=\"863.16,-309.5 854.6,-303.25 857.39,-313.47 863.16,-309.5\"/>\n</g>\n<!-- alpha_gender_0 -->\n<g id=\"node2\" class=\"node\">\n<title>alpha_gender_0</title>\n<ellipse fill=\"none\" stroke=\"black\" cx=\"72.83\" cy=\"-276.43\" rx=\"72.66\" ry=\"37.45\"/>\n<text text-anchor=\"middle\" x=\"72.83\" y=\"-287.73\" font-family=\"Times,serif\" font-size=\"14.00\">alpha_gender_0</text>\n<text text-anchor=\"middle\" x=\"72.83\" y=\"-272.73\" font-family=\"Times,serif\" font-size=\"14.00\">~</text>\n<text text-anchor=\"middle\" x=\"72.83\" y=\"-257.73\" font-family=\"Times,serif\" font-size=\"14.00\">Normal</text>\n</g>\n<!-- logit_p -->\n<g id=\"node27\" class=\"node\">\n<title>logit_p</title>\n<polygon fill=\"none\" stroke=\"black\" points=\"1366.33,-202.95 1275.33,-202.95 1275.33,-149.95 1366.33,-149.95 1366.33,-202.95\"/>\n<text text-anchor=\"middle\" x=\"1320.83\" y=\"-187.75\" font-family=\"Times,serif\" font-size=\"14.00\">logit_p</text>\n<text text-anchor=\"middle\" x=\"1320.83\" y=\"-172.75\" font-family=\"Times,serif\" font-size=\"14.00\">~</text>\n<text text-anchor=\"middle\" x=\"1320.83\" y=\"-157.75\" font-family=\"Times,serif\" font-size=\"14.00\">Deterministic</text>\n</g>\n<!-- alpha_gender_0&#45;&gt;logit_p -->\n<g id=\"edge13\" class=\"edge\">\n<title>alpha_gender_0&#45;&gt;logit_p</title>\n<path fill=\"none\" stroke=\"black\" d=\"M123.23,-249.31C133.15,-245.16 143.64,-241.42 153.83,-238.95 368.59,-186.88 1062.86,-178.9 1265.08,-177.67\"/>\n<polygon fill=\"black\" stroke=\"black\" points=\"1265.2,-181.17 1275.18,-177.62 1265.16,-174.17 1265.2,-181.17\"/>\n</g>\n<!-- alpha_over55_1 -->\n<g id=\"node3\" class=\"node\">\n<title>alpha_over55_1</title>\n<ellipse fill=\"none\" stroke=\"black\" cx=\"236.83\" cy=\"-276.43\" rx=\"73.58\" ry=\"37.45\"/>\n<text text-anchor=\"middle\" x=\"236.83\" y=\"-287.73\" font-family=\"Times,serif\" font-size=\"14.00\">alpha_over55_1</text>\n<text text-anchor=\"middle\" x=\"236.83\" y=\"-272.73\" font-family=\"Times,serif\" font-size=\"14.00\">~</text>\n<text text-anchor=\"middle\" x=\"236.83\" y=\"-257.73\" font-family=\"Times,serif\" font-size=\"14.00\">Normal</text>\n</g>\n<!-- alpha_over55_1&#45;&gt;logit_p -->\n<g id=\"edge14\" class=\"edge\">\n<title>alpha_over55_1&#45;&gt;logit_p</title>\n<path fill=\"none\" stroke=\"black\" d=\"M287.9,-249.38C297.93,-245.22 308.54,-241.47 318.83,-238.95 500.47,-194.52 1081.62,-181.36 1264.9,-178.27\"/>\n<polygon fill=\"black\" stroke=\"black\" points=\"1265.18,-181.77 1275.12,-178.1 1265.07,-174.77 1265.18,-181.77\"/>\n</g>\n<!-- beta_over55_0 -->\n<g id=\"node4\" class=\"node\">\n<title>beta_over55_0</title>\n<ellipse fill=\"none\" stroke=\"black\" cx=\"396.83\" cy=\"-276.43\" rx=\"68.68\" ry=\"37.45\"/>\n<text text-anchor=\"middle\" x=\"396.83\" y=\"-287.73\" font-family=\"Times,serif\" font-size=\"14.00\">beta_over55_0</text>\n<text text-anchor=\"middle\" x=\"396.83\" y=\"-272.73\" font-family=\"Times,serif\" font-size=\"14.00\">~</text>\n<text text-anchor=\"middle\" x=\"396.83\" y=\"-257.73\" font-family=\"Times,serif\" font-size=\"14.00\">Normal</text>\n</g>\n<!-- beta_over55_0&#45;&gt;logit_p -->\n<g id=\"edge15\" class=\"edge\">\n<title>beta_over55_0&#45;&gt;logit_p</title>\n<path fill=\"none\" stroke=\"black\" d=\"M444.68,-249.45C454.11,-245.29 464.1,-241.51 473.83,-238.95 624.07,-199.4 1100.97,-183.29 1264.87,-178.83\"/>\n<polygon fill=\"black\" stroke=\"black\" points=\"1265.31,-182.32 1275.21,-178.55 1265.12,-175.32 1265.31,-182.32\"/>\n</g>\n<!-- beta_over55_1 -->\n<g id=\"node5\" class=\"node\">\n<title>beta_over55_1</title>\n<ellipse fill=\"none\" stroke=\"black\" cx=\"551.83\" cy=\"-276.43\" rx=\"68.68\" ry=\"37.45\"/>\n<text text-anchor=\"middle\" x=\"551.83\" y=\"-287.73\" font-family=\"Times,serif\" font-size=\"14.00\">beta_over55_1</text>\n<text text-anchor=\"middle\" x=\"551.83\" y=\"-272.73\" font-family=\"Times,serif\" font-size=\"14.00\">~</text>\n<text text-anchor=\"middle\" x=\"551.83\" y=\"-257.73\" font-family=\"Times,serif\" font-size=\"14.00\">Normal</text>\n</g>\n<!-- beta_over55_1&#45;&gt;logit_p -->\n<g id=\"edge16\" class=\"edge\">\n<title>beta_over55_1&#45;&gt;logit_p</title>\n<path fill=\"none\" stroke=\"black\" d=\"M599.72,-249.58C609.14,-245.4 619.13,-241.59 628.83,-238.95 748.48,-206.42 1122.31,-186.47 1264.85,-179.88\"/>\n<polygon fill=\"black\" stroke=\"black\" points=\"1265.28,-183.37 1275.11,-179.41 1264.96,-176.37 1265.28,-183.37\"/>\n</g>\n<!-- beta_gender_1 -->\n<g id=\"node6\" class=\"node\">\n<title>beta_gender_1</title>\n<ellipse fill=\"none\" stroke=\"black\" cx=\"705.83\" cy=\"-276.43\" rx=\"67.76\" ry=\"37.45\"/>\n<text text-anchor=\"middle\" x=\"705.83\" y=\"-287.73\" font-family=\"Times,serif\" font-size=\"14.00\">beta_gender_1</text>\n<text text-anchor=\"middle\" x=\"705.83\" y=\"-272.73\" font-family=\"Times,serif\" font-size=\"14.00\">~</text>\n<text text-anchor=\"middle\" x=\"705.83\" y=\"-257.73\" font-family=\"Times,serif\" font-size=\"14.00\">Normal</text>\n</g>\n<!-- beta_gender_1&#45;&gt;logit_p -->\n<g id=\"edge17\" class=\"edge\">\n<title>beta_gender_1&#45;&gt;logit_p</title>\n<path fill=\"none\" stroke=\"black\" d=\"M753.53,-249.58C762.71,-245.46 772.41,-241.67 781.83,-238.95 953.15,-189.59 1165.83,-179.6 1265.02,-177.75\"/>\n<polygon fill=\"black\" stroke=\"black\" points=\"1265.18,-181.25 1275.12,-177.58 1265.06,-174.25 1265.18,-181.25\"/>\n</g>\n<!-- pAfternoon&#45;&gt;logit_p -->\n<g id=\"edge21\" class=\"edge\">\n<title>pAfternoon&#45;&gt;logit_p</title>\n<path fill=\"none\" stroke=\"black\" d=\"M869.81,-249.79C876.48,-245.59 883.65,-241.72 890.83,-238.95 1018.49,-189.72 1181.18,-179.38 1265.13,-177.54\"/>\n<polygon fill=\"black\" stroke=\"black\" points=\"1265.28,-181.03 1275.22,-177.35 1265.15,-174.04 1265.28,-181.03\"/>\n</g>\n<!-- mixture_gender -->\n<g id=\"node8\" class=\"node\">\n<title>mixture_gender</title>\n<ellipse fill=\"none\" stroke=\"black\" cx=\"972.83\" cy=\"-276.43\" rx=\"72.66\" ry=\"37.45\"/>\n<text text-anchor=\"middle\" x=\"972.83\" y=\"-287.73\" font-family=\"Times,serif\" font-size=\"14.00\">mixture_gender</text>\n<text text-anchor=\"middle\" x=\"972.83\" y=\"-272.73\" font-family=\"Times,serif\" font-size=\"14.00\">~</text>\n<text text-anchor=\"middle\" x=\"972.83\" y=\"-257.73\" font-family=\"Times,serif\" font-size=\"14.00\">Bernoulli</text>\n</g>\n<!-- mixture_gender&#45;&gt;logit_p -->\n<g id=\"edge23\" class=\"edge\">\n<title>mixture_gender&#45;&gt;logit_p</title>\n<path fill=\"none\" stroke=\"black\" d=\"M1025.18,-250.37C1034.91,-246.22 1045.08,-242.22 1054.83,-238.95 1125.77,-215.22 1210.35,-197.37 1264.78,-187.18\"/>\n<polygon fill=\"black\" stroke=\"black\" points=\"1265.72,-190.56 1274.92,-185.3 1264.45,-183.68 1265.72,-190.56\"/>\n</g>\n<!-- beta_dark -->\n<g id=\"node9\" class=\"node\">\n<title>beta_dark</title>\n<ellipse fill=\"none\" stroke=\"black\" cx=\"1112.83\" cy=\"-276.43\" rx=\"49.49\" ry=\"37.45\"/>\n<text text-anchor=\"middle\" x=\"1112.83\" y=\"-287.73\" font-family=\"Times,serif\" font-size=\"14.00\">beta_dark</text>\n<text text-anchor=\"middle\" x=\"1112.83\" y=\"-272.73\" font-family=\"Times,serif\" font-size=\"14.00\">~</text>\n<text text-anchor=\"middle\" x=\"1112.83\" y=\"-257.73\" font-family=\"Times,serif\" font-size=\"14.00\">Normal</text>\n</g>\n<!-- beta_dark&#45;&gt;logit_p -->\n<g id=\"edge24\" class=\"edge\">\n<title>beta_dark&#45;&gt;logit_p</title>\n<path fill=\"none\" stroke=\"black\" d=\"M1149.41,-251.1C1156.4,-246.84 1163.75,-242.6 1170.83,-238.95 1201.41,-223.22 1236.97,-208.49 1265.79,-197.4\"/>\n<polygon fill=\"black\" stroke=\"black\" points=\"1267.19,-200.61 1275.29,-193.78 1264.7,-194.07 1267.19,-200.61\"/>\n</g>\n<!-- pMorChange -->\n<g id=\"node10\" class=\"node\">\n<title>pMorChange</title>\n<ellipse fill=\"none\" stroke=\"black\" cx=\"1388.83\" cy=\"-387.38\" rx=\"62.87\" ry=\"37.45\"/>\n<text text-anchor=\"middle\" x=\"1388.83\" y=\"-398.68\" font-family=\"Times,serif\" font-size=\"14.00\">pMorChange</text>\n<text text-anchor=\"middle\" x=\"1388.83\" y=\"-383.68\" font-family=\"Times,serif\" font-size=\"14.00\">~</text>\n<text text-anchor=\"middle\" x=\"1388.83\" y=\"-368.68\" font-family=\"Times,serif\" font-size=\"14.00\">Beta</text>\n</g>\n<!-- pMorning -->\n<g id=\"node12\" class=\"node\">\n<title>pMorning</title>\n<polygon fill=\"none\" stroke=\"black\" points=\"1434.33,-302.93 1343.33,-302.93 1343.33,-249.93 1434.33,-249.93 1434.33,-302.93\"/>\n<text text-anchor=\"middle\" x=\"1388.83\" y=\"-287.73\" font-family=\"Times,serif\" font-size=\"14.00\">pMorning</text>\n<text text-anchor=\"middle\" x=\"1388.83\" y=\"-272.73\" font-family=\"Times,serif\" font-size=\"14.00\">~</text>\n<text text-anchor=\"middle\" x=\"1388.83\" y=\"-257.73\" font-family=\"Times,serif\" font-size=\"14.00\">Deterministic</text>\n</g>\n<!-- pMorChange&#45;&gt;pMorning -->\n<g id=\"edge1\" class=\"edge\">\n<title>pMorChange&#45;&gt;pMorning</title>\n<path fill=\"none\" stroke=\"black\" d=\"M1388.83,-349.8C1388.83,-338.06 1388.83,-325.08 1388.83,-313.38\"/>\n<polygon fill=\"black\" stroke=\"black\" points=\"1392.33,-313.08 1388.83,-303.08 1385.33,-313.08 1392.33,-313.08\"/>\n</g>\n<!-- alpha_gender_1 -->\n<g id=\"node11\" class=\"node\">\n<title>alpha_gender_1</title>\n<ellipse fill=\"none\" stroke=\"black\" cx=\"1252.83\" cy=\"-276.43\" rx=\"72.66\" ry=\"37.45\"/>\n<text text-anchor=\"middle\" x=\"1252.83\" y=\"-287.73\" font-family=\"Times,serif\" font-size=\"14.00\">alpha_gender_1</text>\n<text text-anchor=\"middle\" x=\"1252.83\" y=\"-272.73\" font-family=\"Times,serif\" font-size=\"14.00\">~</text>\n<text text-anchor=\"middle\" x=\"1252.83\" y=\"-257.73\" font-family=\"Times,serif\" font-size=\"14.00\">Normal</text>\n</g>\n<!-- alpha_gender_1&#45;&gt;logit_p -->\n<g id=\"edge25\" class=\"edge\">\n<title>alpha_gender_1&#45;&gt;logit_p</title>\n<path fill=\"none\" stroke=\"black\" d=\"M1276.81,-240.89C1283.42,-231.35 1290.6,-221.02 1297.19,-211.51\"/>\n<polygon fill=\"black\" stroke=\"black\" points=\"1300.23,-213.28 1303.06,-203.06 1294.48,-209.28 1300.23,-213.28\"/>\n</g>\n<!-- pMorning&#45;&gt;logit_p -->\n<g id=\"edge10\" class=\"edge\">\n<title>pMorning&#45;&gt;logit_p</title>\n<path fill=\"none\" stroke=\"black\" d=\"M1370.97,-249.69C1362.84,-237.99 1353.13,-223.98 1344.42,-211.43\"/>\n<polygon fill=\"black\" stroke=\"black\" points=\"1347.16,-209.24 1338.58,-203.02 1341.41,-213.23 1347.16,-209.24\"/>\n</g>\n<!-- pMidChange -->\n<g id=\"node13\" class=\"node\">\n<title>pMidChange</title>\n<ellipse fill=\"none\" stroke=\"black\" cx=\"2242.83\" cy=\"-387.38\" rx=\"62.45\" ry=\"37.45\"/>\n<text text-anchor=\"middle\" x=\"2242.83\" y=\"-398.68\" font-family=\"Times,serif\" font-size=\"14.00\">pMidChange</text>\n<text text-anchor=\"middle\" x=\"2242.83\" y=\"-383.68\" font-family=\"Times,serif\" font-size=\"14.00\">~</text>\n<text text-anchor=\"middle\" x=\"2242.83\" y=\"-368.68\" font-family=\"Times,serif\" font-size=\"14.00\">Beta</text>\n</g>\n<!-- pMidday -->\n<g id=\"node22\" class=\"node\">\n<title>pMidday</title>\n<polygon fill=\"none\" stroke=\"black\" points=\"2216.33,-302.93 2125.33,-302.93 2125.33,-249.93 2216.33,-249.93 2216.33,-302.93\"/>\n<text text-anchor=\"middle\" x=\"2170.83\" y=\"-287.73\" font-family=\"Times,serif\" font-size=\"14.00\">pMidday</text>\n<text text-anchor=\"middle\" x=\"2170.83\" y=\"-272.73\" font-family=\"Times,serif\" font-size=\"14.00\">~</text>\n<text text-anchor=\"middle\" x=\"2170.83\" y=\"-257.73\" font-family=\"Times,serif\" font-size=\"14.00\">Deterministic</text>\n</g>\n<!-- pMidChange&#45;&gt;pMidday -->\n<g id=\"edge4\" class=\"edge\">\n<title>pMidChange&#45;&gt;pMidday</title>\n<path fill=\"none\" stroke=\"black\" d=\"M2220.25,-352.21C2211.74,-339.33 2202.06,-324.68 2193.54,-311.79\"/>\n<polygon fill=\"black\" stroke=\"black\" points=\"2196.28,-309.6 2187.85,-303.18 2190.44,-313.46 2196.28,-309.6\"/>\n</g>\n<!-- pEvening -->\n<g id=\"node14\" class=\"node\">\n<title>pEvening</title>\n<ellipse fill=\"none\" stroke=\"black\" cx=\"1500.83\" cy=\"-276.43\" rx=\"48.17\" ry=\"37.45\"/>\n<text text-anchor=\"middle\" x=\"1500.83\" y=\"-287.73\" font-family=\"Times,serif\" font-size=\"14.00\">pEvening</text>\n<text text-anchor=\"middle\" x=\"1500.83\" y=\"-272.73\" font-family=\"Times,serif\" font-size=\"14.00\">~</text>\n<text text-anchor=\"middle\" x=\"1500.83\" y=\"-257.73\" font-family=\"Times,serif\" font-size=\"14.00\">Beta</text>\n</g>\n<!-- pEvening&#45;&gt;logit_p -->\n<g id=\"edge11\" class=\"edge\">\n<title>pEvening&#45;&gt;logit_p</title>\n<path fill=\"none\" stroke=\"black\" d=\"M1464.33,-251.74C1457.27,-247.37 1449.87,-242.93 1442.83,-238.95 1421.24,-226.76 1396.94,-214.27 1375.75,-203.76\"/>\n<polygon fill=\"black\" stroke=\"black\" points=\"1377.08,-200.51 1366.56,-199.23 1373.98,-206.79 1377.08,-200.51\"/>\n</g>\n<!-- mixture_over55 -->\n<g id=\"node15\" class=\"node\">\n<title>mixture_over55</title>\n<ellipse fill=\"none\" stroke=\"black\" cx=\"1640.83\" cy=\"-276.43\" rx=\"73.58\" ry=\"37.45\"/>\n<text text-anchor=\"middle\" x=\"1640.83\" y=\"-287.73\" font-family=\"Times,serif\" font-size=\"14.00\">mixture_over55</text>\n<text text-anchor=\"middle\" x=\"1640.83\" y=\"-272.73\" font-family=\"Times,serif\" font-size=\"14.00\">~</text>\n<text text-anchor=\"middle\" x=\"1640.83\" y=\"-257.73\" font-family=\"Times,serif\" font-size=\"14.00\">Bernoulli</text>\n</g>\n<!-- mixture_over55&#45;&gt;logit_p -->\n<g id=\"edge12\" class=\"edge\">\n<title>mixture_over55&#45;&gt;logit_p</title>\n<path fill=\"none\" stroke=\"black\" d=\"M1587.31,-250.41C1577.61,-246.31 1567.5,-242.31 1557.83,-238.95 1496.91,-217.81 1424.96,-200.13 1376.45,-189.23\"/>\n<polygon fill=\"black\" stroke=\"black\" points=\"1376.99,-185.77 1366.47,-187.01 1375.47,-192.6 1376.99,-185.77\"/>\n</g>\n<!-- pAftChange -->\n<g id=\"node16\" class=\"node\">\n<title>pAftChange</title>\n<ellipse fill=\"none\" stroke=\"black\" cx=\"760.83\" cy=\"-387.38\" rx=\"58.88\" ry=\"37.45\"/>\n<text text-anchor=\"middle\" x=\"760.83\" y=\"-398.68\" font-family=\"Times,serif\" font-size=\"14.00\">pAftChange</text>\n<text text-anchor=\"middle\" x=\"760.83\" y=\"-383.68\" font-family=\"Times,serif\" font-size=\"14.00\">~</text>\n<text text-anchor=\"middle\" x=\"760.83\" y=\"-368.68\" font-family=\"Times,serif\" font-size=\"14.00\">Beta</text>\n</g>\n<!-- pAftChange&#45;&gt;pAfternoon -->\n<g id=\"edge8\" class=\"edge\">\n<title>pAftChange&#45;&gt;pAfternoon</title>\n<path fill=\"none\" stroke=\"black\" d=\"M784.25,-352.8C793.41,-339.67 803.9,-324.63 813.09,-311.46\"/>\n<polygon fill=\"black\" stroke=\"black\" points=\"816.07,-313.32 818.92,-303.11 810.33,-309.31 816.07,-313.32\"/>\n</g>\n<!-- pWeekday -->\n<g id=\"node17\" class=\"node\">\n<title>pWeekday</title>\n<ellipse fill=\"none\" stroke=\"black\" cx=\"1255.83\" cy=\"-387.38\" rx=\"52.15\" ry=\"37.45\"/>\n<text text-anchor=\"middle\" x=\"1255.83\" y=\"-398.68\" font-family=\"Times,serif\" font-size=\"14.00\">pWeekday</text>\n<text text-anchor=\"middle\" x=\"1255.83\" y=\"-383.68\" font-family=\"Times,serif\" font-size=\"14.00\">~</text>\n<text text-anchor=\"middle\" x=\"1255.83\" y=\"-368.68\" font-family=\"Times,serif\" font-size=\"14.00\">Beta</text>\n</g>\n<!-- pWeekday&#45;&gt;pAfternoon -->\n<g id=\"edge7\" class=\"edge\">\n<title>pWeekday&#45;&gt;pAfternoon</title>\n<path fill=\"none\" stroke=\"black\" d=\"M1203.78,-382.57C1131.22,-375.82 996.67,-358.04 890.83,-313.91 886.9,-312.27 882.95,-310.32 879.08,-308.19\"/>\n<polygon fill=\"black\" stroke=\"black\" points=\"880.62,-305.03 870.23,-302.95 877.05,-311.06 880.62,-305.03\"/>\n</g>\n<!-- pWeekday&#45;&gt;pMorning -->\n<g id=\"edge2\" class=\"edge\">\n<title>pWeekday&#45;&gt;pMorning</title>\n<path fill=\"none\" stroke=\"black\" d=\"M1289.74,-358.61C1307.92,-343.71 1330.42,-325.28 1349.38,-309.75\"/>\n<polygon fill=\"black\" stroke=\"black\" points=\"1351.75,-312.33 1357.27,-303.28 1347.32,-306.91 1351.75,-312.33\"/>\n</g>\n<!-- pWeekday&#45;&gt;pMidday -->\n<g id=\"edge6\" class=\"edge\">\n<title>pWeekday&#45;&gt;pMidday</title>\n<path fill=\"none\" stroke=\"black\" d=\"M1292.54,-360.53C1300.25,-356.25 1308.56,-352.39 1316.83,-349.91 1487.26,-298.69 1947.88,-369.81 2116.83,-313.91 2121.36,-312.41 2125.86,-310.41 2130.22,-308.13\"/>\n<polygon fill=\"black\" stroke=\"black\" points=\"2132.03,-311.13 2138.94,-303.09 2128.53,-305.07 2132.03,-311.13\"/>\n</g>\n<!-- intercept -->\n<g id=\"node18\" class=\"node\">\n<title>intercept</title>\n<ellipse fill=\"none\" stroke=\"black\" cx=\"1777.83\" cy=\"-276.43\" rx=\"45.01\" ry=\"37.45\"/>\n<text text-anchor=\"middle\" x=\"1777.83\" y=\"-287.73\" font-family=\"Times,serif\" font-size=\"14.00\">intercept</text>\n<text text-anchor=\"middle\" x=\"1777.83\" y=\"-272.73\" font-family=\"Times,serif\" font-size=\"14.00\">~</text>\n<text text-anchor=\"middle\" x=\"1777.83\" y=\"-257.73\" font-family=\"Times,serif\" font-size=\"14.00\">Normal</text>\n</g>\n<!-- intercept&#45;&gt;logit_p -->\n<g id=\"edge18\" class=\"edge\">\n<title>intercept&#45;&gt;logit_p</title>\n<path fill=\"none\" stroke=\"black\" d=\"M1745.42,-250.21C1738.59,-245.87 1731.21,-241.84 1723.83,-238.95 1606.18,-192.95 1456.69,-181.2 1376.94,-178.3\"/>\n<polygon fill=\"black\" stroke=\"black\" points=\"1376.74,-174.79 1366.63,-177.96 1376.51,-181.79 1376.74,-174.79\"/>\n</g>\n<!-- alpha_over55_0 -->\n<g id=\"node19\" class=\"node\">\n<title>alpha_over55_0</title>\n<ellipse fill=\"none\" stroke=\"black\" cx=\"1914.83\" cy=\"-276.43\" rx=\"73.58\" ry=\"37.45\"/>\n<text text-anchor=\"middle\" x=\"1914.83\" y=\"-287.73\" font-family=\"Times,serif\" font-size=\"14.00\">alpha_over55_0</text>\n<text text-anchor=\"middle\" x=\"1914.83\" y=\"-272.73\" font-family=\"Times,serif\" font-size=\"14.00\">~</text>\n<text text-anchor=\"middle\" x=\"1914.83\" y=\"-257.73\" font-family=\"Times,serif\" font-size=\"14.00\">Normal</text>\n</g>\n<!-- alpha_over55_0&#45;&gt;logit_p -->\n<g id=\"edge20\" class=\"edge\">\n<title>alpha_over55_0&#45;&gt;logit_p</title>\n<path fill=\"none\" stroke=\"black\" d=\"M1862.55,-249.69C1852.54,-245.56 1842,-241.73 1831.83,-238.95 1670.46,-194.83 1471.79,-182.35 1376.71,-178.83\"/>\n<polygon fill=\"black\" stroke=\"black\" points=\"1376.58,-175.32 1366.46,-178.47 1376.33,-182.32 1376.58,-175.32\"/>\n</g>\n<!-- beta_clear -->\n<g id=\"node20\" class=\"node\">\n<title>beta_clear</title>\n<ellipse fill=\"none\" stroke=\"black\" cx=\"2056.83\" cy=\"-276.43\" rx=\"50.82\" ry=\"37.45\"/>\n<text text-anchor=\"middle\" x=\"2056.83\" y=\"-287.73\" font-family=\"Times,serif\" font-size=\"14.00\">beta_clear</text>\n<text text-anchor=\"middle\" x=\"2056.83\" y=\"-272.73\" font-family=\"Times,serif\" font-size=\"14.00\">~</text>\n<text text-anchor=\"middle\" x=\"2056.83\" y=\"-257.73\" font-family=\"Times,serif\" font-size=\"14.00\">Normal</text>\n</g>\n<!-- beta_clear&#45;&gt;logit_p -->\n<g id=\"edge19\" class=\"edge\">\n<title>beta_clear&#45;&gt;logit_p</title>\n<path fill=\"none\" stroke=\"black\" d=\"M2021,-249.69C2013.63,-245.45 2005.71,-241.58 1997.83,-238.95 1883.02,-200.63 1517.57,-184.24 1376.83,-179.23\"/>\n<polygon fill=\"black\" stroke=\"black\" points=\"1376.81,-175.73 1366.69,-178.88 1376.57,-182.73 1376.81,-175.73\"/>\n</g>\n<!-- pMorningBase -->\n<g id=\"node21\" class=\"node\">\n<title>pMorningBase</title>\n<ellipse fill=\"none\" stroke=\"black\" cx=\"1538.83\" cy=\"-387.38\" rx=\"69.09\" ry=\"37.45\"/>\n<text text-anchor=\"middle\" x=\"1538.83\" y=\"-398.68\" font-family=\"Times,serif\" font-size=\"14.00\">pMorningBase</text>\n<text text-anchor=\"middle\" x=\"1538.83\" y=\"-383.68\" font-family=\"Times,serif\" font-size=\"14.00\">~</text>\n<text text-anchor=\"middle\" x=\"1538.83\" y=\"-368.68\" font-family=\"Times,serif\" font-size=\"14.00\">Beta</text>\n</g>\n<!-- pMorningBase&#45;&gt;pMorning -->\n<g id=\"edge3\" class=\"edge\">\n<title>pMorningBase&#45;&gt;pMorning</title>\n<path fill=\"none\" stroke=\"black\" d=\"M1498.24,-356.9C1477.96,-342.17 1453.38,-324.32 1432.67,-309.27\"/>\n<polygon fill=\"black\" stroke=\"black\" points=\"1434.5,-306.27 1424.35,-303.23 1430.38,-311.94 1434.5,-306.27\"/>\n</g>\n<!-- pMidday&#45;&gt;logit_p -->\n<g id=\"edge22\" class=\"edge\">\n<title>pMidday&#45;&gt;logit_p</title>\n<path fill=\"none\" stroke=\"black\" d=\"M2138.58,-249.77C2131.74,-245.47 2124.31,-241.56 2116.83,-238.95 1979.86,-191.18 1534.72,-180.41 1376.93,-178.08\"/>\n<polygon fill=\"black\" stroke=\"black\" points=\"1376.56,-174.57 1366.51,-177.93 1376.46,-181.57 1376.56,-174.57\"/>\n</g>\n<!-- pMiddayBase -->\n<g id=\"node23\" class=\"node\">\n<title>pMiddayBase</title>\n<ellipse fill=\"none\" stroke=\"black\" cx=\"2097.83\" cy=\"-387.38\" rx=\"65.11\" ry=\"37.45\"/>\n<text text-anchor=\"middle\" x=\"2097.83\" y=\"-398.68\" font-family=\"Times,serif\" font-size=\"14.00\">pMiddayBase</text>\n<text text-anchor=\"middle\" x=\"2097.83\" y=\"-383.68\" font-family=\"Times,serif\" font-size=\"14.00\">~</text>\n<text text-anchor=\"middle\" x=\"2097.83\" y=\"-368.68\" font-family=\"Times,serif\" font-size=\"14.00\">Beta</text>\n</g>\n<!-- pMiddayBase&#45;&gt;pMidday -->\n<g id=\"edge5\" class=\"edge\">\n<title>pMiddayBase&#45;&gt;pMidday</title>\n<path fill=\"none\" stroke=\"black\" d=\"M2120.73,-352.21C2129.36,-339.33 2139.17,-324.68 2147.81,-311.79\"/>\n<polygon fill=\"black\" stroke=\"black\" points=\"2150.92,-313.44 2153.58,-303.18 2145.1,-309.54 2150.92,-313.44\"/>\n</g>\n<!-- pNight -->\n<g id=\"node24\" class=\"node\">\n<title>pNight</title>\n<ellipse fill=\"none\" stroke=\"black\" cx=\"2272.83\" cy=\"-276.43\" rx=\"38.37\" ry=\"37.45\"/>\n<text text-anchor=\"middle\" x=\"2272.83\" y=\"-287.73\" font-family=\"Times,serif\" font-size=\"14.00\">pNight</text>\n<text text-anchor=\"middle\" x=\"2272.83\" y=\"-272.73\" font-family=\"Times,serif\" font-size=\"14.00\">~</text>\n<text text-anchor=\"middle\" x=\"2272.83\" y=\"-257.73\" font-family=\"Times,serif\" font-size=\"14.00\">Beta</text>\n</g>\n<!-- pNight&#45;&gt;logit_p -->\n<g id=\"edge26\" class=\"edge\">\n<title>pNight&#45;&gt;logit_p</title>\n<path fill=\"none\" stroke=\"black\" d=\"M2245.66,-250.09C2239.54,-245.64 2232.78,-241.6 2225.83,-238.95 2069.44,-179.39 1548.96,-176.34 1376.72,-177.02\"/>\n<polygon fill=\"black\" stroke=\"black\" points=\"1376.59,-173.52 1366.6,-177.06 1376.62,-180.52 1376.59,-173.52\"/>\n</g>\n<!-- beta_gender_0 -->\n<g id=\"node25\" class=\"node\">\n<title>beta_gender_0</title>\n<ellipse fill=\"none\" stroke=\"black\" cx=\"2396.83\" cy=\"-276.43\" rx=\"67.76\" ry=\"37.45\"/>\n<text text-anchor=\"middle\" x=\"2396.83\" y=\"-287.73\" font-family=\"Times,serif\" font-size=\"14.00\">beta_gender_0</text>\n<text text-anchor=\"middle\" x=\"2396.83\" y=\"-272.73\" font-family=\"Times,serif\" font-size=\"14.00\">~</text>\n<text text-anchor=\"middle\" x=\"2396.83\" y=\"-257.73\" font-family=\"Times,serif\" font-size=\"14.00\">Normal</text>\n</g>\n<!-- beta_gender_0&#45;&gt;logit_p -->\n<g id=\"edge27\" class=\"edge\">\n<title>beta_gender_0&#45;&gt;logit_p</title>\n<path fill=\"none\" stroke=\"black\" d=\"M2349.42,-249.55C2339.87,-245.32 2329.72,-241.5 2319.83,-238.95 2139.28,-192.48 1559.5,-180.7 1376.64,-178.11\"/>\n<polygon fill=\"black\" stroke=\"black\" points=\"1376.49,-174.61 1366.44,-177.97 1376.39,-181.61 1376.49,-174.61\"/>\n</g>\n<!-- Y -->\n<g id=\"node26\" class=\"node\">\n<title>Y</title>\n<ellipse fill=\"lightgrey\" stroke=\"black\" cx=\"1320.83\" cy=\"-76.48\" rx=\"48.17\" ry=\"37.45\"/>\n<text text-anchor=\"middle\" x=\"1320.83\" y=\"-87.78\" font-family=\"Times,serif\" font-size=\"14.00\">Y</text>\n<text text-anchor=\"middle\" x=\"1320.83\" y=\"-72.78\" font-family=\"Times,serif\" font-size=\"14.00\">~</text>\n<text text-anchor=\"middle\" x=\"1320.83\" y=\"-57.78\" font-family=\"Times,serif\" font-size=\"14.00\">Bernoulli</text>\n</g>\n<!-- logit_p&#45;&gt;Y -->\n<g id=\"edge28\" class=\"edge\">\n<title>logit_p&#45;&gt;Y</title>\n<path fill=\"none\" stroke=\"black\" d=\"M1320.83,-149.71C1320.83,-141.89 1320.83,-133.03 1320.83,-124.27\"/>\n<polygon fill=\"black\" stroke=\"black\" points=\"1324.33,-124.1 1320.83,-114.1 1317.33,-124.1 1324.33,-124.1\"/>\n</g>\n</g>\n</svg>\n",
            "text/plain": [
              "<graphviz.graphs.Digraph at 0x7c4afdc318d0>"
            ]
          },
          "execution_count": 25,
          "metadata": {},
          "output_type": "execute_result"
        }
      ],
      "source": [
        "pm.model_to_graphviz(mixture_model)"
      ]
    },
    {
      "cell_type": "code",
      "execution_count": null,
      "metadata": {
        "colab": {
          "base_uri": "https://localhost:8080/",
          "height": 458
        },
        "id": "fdHiavW5ZFM7",
        "outputId": "32d6e377-2730-429e-a608-1fae91898b60"
      },
      "outputs": [
        {
          "data": {
            "text/plain": [
              "array([[<Axes: title={'center': 'alpha_gender_1'}>,\n",
              "        <Axes: title={'center': 'alpha_gender_1'}>],\n",
              "       [<Axes: title={'center': 'alpha_gender_0'}>,\n",
              "        <Axes: title={'center': 'alpha_gender_0'}>]], dtype=object)"
            ]
          },
          "execution_count": 26,
          "metadata": {},
          "output_type": "execute_result"
        },
        {
          "data": {
            "image/png": "[encoded data removed]",
            "text/plain": [
              "<Figure size 1200x400 with 4 Axes>"
            ]
          },
          "metadata": {},
          "output_type": "display_data"
        }
      ],
      "source": [
        "az.plot_trace(idata_4, var_names=['alpha_gender_1', 'alpha_gender_0'], combined=True) #alpha_over55_1, beta_over55_1, alpha_over55_0, beta_over55_0, alpha_gender_1,alpha_gender_0, beta_gender_0, beta_gender_1, mixture_gender, gender_component"
      ]
    },
    {
      "cell_type": "markdown",
      "metadata": {
        "id": "b1PXu34LuQRA"
      },
      "source": [
        "# Model diagnostic Part II\n",
        "\n"
      ]
    },
    {
      "cell_type": "code",
      "execution_count": null,
      "metadata": {
        "colab": {
          "base_uri": "https://localhost:8080/",
          "height": 57
        },
        "id": "0JiNl4JdvzZz",
        "outputId": "9b06cc80-9e64-4eb2-8aeb-bd02d459b676"
      },
      "outputs": [
        {
          "data": {
            "text/html": [
              "\n",
              "<style>\n",
              "    /* Turns off some styling */\n",
              "    progress {\n",
              "        /* gets rid of default border in Firefox and Opera. */\n",
              "        border: none;\n",
              "        /* Needs to be in here for Safari polyfill so background images work as expected. */\n",
              "        background-size: auto;\n",
              "    }\n",
              "    progress:not([value]), progress:not([value])::-webkit-progress-bar {\n",
              "        background: repeating-linear-gradient(45deg, #7e7e7e, #7e7e7e 10px, #5c5c5c 10px, #5c5c5c 20px);\n",
              "    }\n",
              "    .progress-bar-interrupted, .progress-bar-interrupted::-webkit-progress-bar {\n",
              "        background: #F44336;\n",
              "    }\n",
              "</style>\n"
            ],
            "text/plain": [
              "<IPython.core.display.HTML object>"
            ]
          },
          "metadata": {},
          "output_type": "display_data"
        },
        {
          "data": {
            "text/html": [
              "\n",
              "    <div>\n",
              "      <progress value='2000' class='' max='2000' style='width:300px; height:20px; vertical-align: middle;'></progress>\n",
              "      100.00% [2000/2000 00:08&lt;00:00 Sampling chain 0, 0 divergences]\n",
              "    </div>\n",
              "    "
            ],
            "text/plain": [
              "<IPython.core.display.HTML object>"
            ]
          },
          "metadata": {},
          "output_type": "display_data"
        },
        {
          "data": {
            "text/html": [
              "\n",
              "<style>\n",
              "    /* Turns off some styling */\n",
              "    progress {\n",
              "        /* gets rid of default border in Firefox and Opera. */\n",
              "        border: none;\n",
              "        /* Needs to be in here for Safari polyfill so background images work as expected. */\n",
              "        background-size: auto;\n",
              "    }\n",
              "    progress:not([value]), progress:not([value])::-webkit-progress-bar {\n",
              "        background: repeating-linear-gradient(45deg, #7e7e7e, #7e7e7e 10px, #5c5c5c 10px, #5c5c5c 20px);\n",
              "    }\n",
              "    .progress-bar-interrupted, .progress-bar-interrupted::-webkit-progress-bar {\n",
              "        background: #F44336;\n",
              "    }\n",
              "</style>\n"
            ],
            "text/plain": [
              "<IPython.core.display.HTML object>"
            ]
          },
          "metadata": {},
          "output_type": "display_data"
        },
        {
          "data": {
            "text/html": [
              "\n",
              "    <div>\n",
              "      <progress value='2000' class='' max='2000' style='width:300px; height:20px; vertical-align: middle;'></progress>\n",
              "      100.00% [2000/2000 00:07&lt;00:00 Sampling chain 1, 0 divergences]\n",
              "    </div>\n",
              "    "
            ],
            "text/plain": [
              "<IPython.core.display.HTML object>"
            ]
          },
          "metadata": {},
          "output_type": "display_data"
        }
      ],
      "source": [
        "# Baisc regression model for comparison\n",
        "with pm.Model() as model_basic:\n",
        "    beta_0 = pm.Normal('beta_0', mu=0, sigma=1)\n",
        "    beta_1 = pm.Normal('beta_1', mu=0, sigma=1)\n",
        "    beta_2 = pm.Normal('beta_2', mu=0, sigma=1)\n",
        "    beta_3 = pm.Normal('beta_3', mu=0, sigma=1)\n",
        "    beta_4 = pm.Normal('beta_4', mu=0, sigma=1)\n",
        "    beta_5 = pm.Normal('beta_5', mu=0, sigma=1)\n",
        "    beta_dark = pm.Normal('beta_dark', mu=0, sigma=1)  # Prior for 'Dark'\n",
        "    beta_clear = pm.Normal('beta_clear', mu=0, sigma=1)  # Prior for 'Clear'\n",
        "\n",
        "    # Linear combination of predictors\n",
        "    logit_p = beta_0 + beta_1*x6 +beta_2*x7 +beta_3*x8 +beta_4*x9 +beta_5*x10 + beta_clear*x2 + beta_dark*x4\n",
        "    logit_p = pm.Deterministic('logit_p',logit_p)\n",
        "\n",
        "    Basic_Y = pm.Bernoulli('Basic_Y', logit_p = logit_p, observed=y)\n",
        "\n",
        "    idata_3 = pm.sample()"
      ]
    },
    {
      "cell_type": "code",
      "execution_count": null,
      "metadata": {
        "colab": {
          "background_save": true,
          "base_uri": "https://localhost:8080/",
          "height": 57
        },
        "id": "AHaOKLjNuyg6",
        "outputId": "5a264934-2685-48f5-a8e1-73724f9883c5"
      },
      "outputs": [
        {
          "data": {
            "text/html": [
              "\n",
              "<style>\n",
              "    /* Turns off some styling */\n",
              "    progress {\n",
              "        /* gets rid of default border in Firefox and Opera. */\n",
              "        border: none;\n",
              "        /* Needs to be in here for Safari polyfill so background images work as expected. */\n",
              "        background-size: auto;\n",
              "    }\n",
              "    progress:not([value]), progress:not([value])::-webkit-progress-bar {\n",
              "        background: repeating-linear-gradient(45deg, #7e7e7e, #7e7e7e 10px, #5c5c5c 10px, #5c5c5c 20px);\n",
              "    }\n",
              "    .progress-bar-interrupted, .progress-bar-interrupted::-webkit-progress-bar {\n",
              "        background: #F44336;\n",
              "    }\n",
              "</style>\n"
            ],
            "text/plain": [
              "<IPython.core.display.HTML object>"
            ]
          },
          "metadata": {},
          "output_type": "display_data"
        },
        {
          "data": {
            "text/html": [
              "\n",
              "    <div>\n",
              "      <progress value='3000' class='' max='3000' style='width:300px; height:20px; vertical-align: middle;'></progress>\n",
              "      100.00% [3000/3000 00:42&lt;00:00 Sampling chain 0, 0 divergences]\n",
              "    </div>\n",
              "    "
            ],
            "text/plain": [
              "<IPython.core.display.HTML object>"
            ]
          },
          "metadata": {},
          "output_type": "display_data"
        },
        {
          "data": {
            "text/html": [
              "\n",
              "<style>\n",
              "    /* Turns off some styling */\n",
              "    progress {\n",
              "        /* gets rid of default border in Firefox and Opera. */\n",
              "        border: none;\n",
              "        /* Needs to be in here for Safari polyfill so background images work as expected. */\n",
              "        background-size: auto;\n",
              "    }\n",
              "    progress:not([value]), progress:not([value])::-webkit-progress-bar {\n",
              "        background: repeating-linear-gradient(45deg, #7e7e7e, #7e7e7e 10px, #5c5c5c 10px, #5c5c5c 20px);\n",
              "    }\n",
              "    .progress-bar-interrupted, .progress-bar-interrupted::-webkit-progress-bar {\n",
              "        background: #F44336;\n",
              "    }\n",
              "</style>\n"
            ],
            "text/plain": [
              "<IPython.core.display.HTML object>"
            ]
          },
          "metadata": {},
          "output_type": "display_data"
        },
        {
          "data": {
            "text/html": [
              "\n",
              "    <div>\n",
              "      <progress value='3000' class='' max='3000' style='width:300px; height:20px; vertical-align: middle;'></progress>\n",
              "      100.00% [3000/3000 00:41&lt;00:00 Sampling chain 1, 0 divergences]\n",
              "    </div>\n",
              "    "
            ],
            "text/plain": [
              "<IPython.core.display.HTML object>"
            ]
          },
          "metadata": {},
          "output_type": "display_data"
        },
        {
          "data": {
            "text/html": [
              "\n",
              "<style>\n",
              "    /* Turns off some styling */\n",
              "    progress {\n",
              "        /* gets rid of default border in Firefox and Opera. */\n",
              "        border: none;\n",
              "        /* Needs to be in here for Safari polyfill so background images work as expected. */\n",
              "        background-size: auto;\n",
              "    }\n",
              "    progress:not([value]), progress:not([value])::-webkit-progress-bar {\n",
              "        background: repeating-linear-gradient(45deg, #7e7e7e, #7e7e7e 10px, #5c5c5c 10px, #5c5c5c 20px);\n",
              "    }\n",
              "    .progress-bar-interrupted, .progress-bar-interrupted::-webkit-progress-bar {\n",
              "        background: #F44336;\n",
              "    }\n",
              "</style>\n"
            ],
            "text/plain": [
              "<IPython.core.display.HTML object>"
            ]
          },
          "metadata": {},
          "output_type": "display_data"
        },
        {
          "data": {
            "text/html": [
              "\n",
              "    <div>\n",
              "      <progress value='4000' class='' max='4000' style='width:300px; height:20px; vertical-align: middle;'></progress>\n",
              "      100.00% [4000/4000 00:00&lt;00:00]\n",
              "    </div>\n",
              "    "
            ],
            "text/plain": [
              "<IPython.core.display.HTML object>"
            ]
          },
          "metadata": {},
          "output_type": "display_data"
        },
        {
          "data": {
            "text/html": [
              "\n",
              "<style>\n",
              "    /* Turns off some styling */\n",
              "    progress {\n",
              "        /* gets rid of default border in Firefox and Opera. */\n",
              "        border: none;\n",
              "        /* Needs to be in here for Safari polyfill so background images work as expected. */\n",
              "        background-size: auto;\n",
              "    }\n",
              "    progress:not([value]), progress:not([value])::-webkit-progress-bar {\n",
              "        background: repeating-linear-gradient(45deg, #7e7e7e, #7e7e7e 10px, #5c5c5c 10px, #5c5c5c 20px);\n",
              "    }\n",
              "    .progress-bar-interrupted, .progress-bar-interrupted::-webkit-progress-bar {\n",
              "        background: #F44336;\n",
              "    }\n",
              "</style>\n"
            ],
            "text/plain": [
              "<IPython.core.display.HTML object>"
            ]
          },
          "metadata": {},
          "output_type": "display_data"
        },
        {
          "data": {
            "text/html": [
              "\n",
              "    <div>\n",
              "      <progress value='3000' class='' max='3000' style='width:300px; height:20px; vertical-align: middle;'></progress>\n",
              "      100.00% [3000/3000 00:17&lt;00:00 Sampling chain 0, 0 divergences]\n",
              "    </div>\n",
              "    "
            ],
            "text/plain": [
              "<IPython.core.display.HTML object>"
            ]
          },
          "metadata": {},
          "output_type": "display_data"
        },
        {
          "data": {
            "text/html": [
              "\n",
              "<style>\n",
              "    /* Turns off some styling */\n",
              "    progress {\n",
              "        /* gets rid of default border in Firefox and Opera. */\n",
              "        border: none;\n",
              "        /* Needs to be in here for Safari polyfill so background images work as expected. */\n",
              "        background-size: auto;\n",
              "    }\n",
              "    progress:not([value]), progress:not([value])::-webkit-progress-bar {\n",
              "        background: repeating-linear-gradient(45deg, #7e7e7e, #7e7e7e 10px, #5c5c5c 10px, #5c5c5c 20px);\n",
              "    }\n",
              "    .progress-bar-interrupted, .progress-bar-interrupted::-webkit-progress-bar {\n",
              "        background: #F44336;\n",
              "    }\n",
              "</style>\n"
            ],
            "text/plain": [
              "<IPython.core.display.HTML object>"
            ]
          },
          "metadata": {},
          "output_type": "display_data"
        },
        {
          "data": {
            "text/html": [
              "\n",
              "    <div>\n",
              "      <progress value='3000' class='' max='3000' style='width:300px; height:20px; vertical-align: middle;'></progress>\n",
              "      100.00% [3000/3000 00:19&lt;00:00 Sampling chain 1, 0 divergences]\n",
              "    </div>\n",
              "    "
            ],
            "text/plain": [
              "<IPython.core.display.HTML object>"
            ]
          },
          "metadata": {},
          "output_type": "display_data"
        },
        {
          "data": {
            "text/html": [
              "\n",
              "<style>\n",
              "    /* Turns off some styling */\n",
              "    progress {\n",
              "        /* gets rid of default border in Firefox and Opera. */\n",
              "        border: none;\n",
              "        /* Needs to be in here for Safari polyfill so background images work as expected. */\n",
              "        background-size: auto;\n",
              "    }\n",
              "    progress:not([value]), progress:not([value])::-webkit-progress-bar {\n",
              "        background: repeating-linear-gradient(45deg, #7e7e7e, #7e7e7e 10px, #5c5c5c 10px, #5c5c5c 20px);\n",
              "    }\n",
              "    .progress-bar-interrupted, .progress-bar-interrupted::-webkit-progress-bar {\n",
              "        background: #F44336;\n",
              "    }\n",
              "</style>\n"
            ],
            "text/plain": [
              "<IPython.core.display.HTML object>"
            ]
          },
          "metadata": {},
          "output_type": "display_data"
        },
        {
          "data": {
            "text/html": [
              "\n",
              "    <div>\n",
              "      <progress value='4000' class='' max='4000' style='width:300px; height:20px; vertical-align: middle;'></progress>\n",
              "      100.00% [4000/4000 00:00&lt;00:00]\n",
              "    </div>\n",
              "    "
            ],
            "text/plain": [
              "<IPython.core.display.HTML object>"
            ]
          },
          "metadata": {},
          "output_type": "display_data"
        },
        {
          "data": {
            "text/html": [
              "\n",
              "<style>\n",
              "    /* Turns off some styling */\n",
              "    progress {\n",
              "        /* gets rid of default border in Firefox and Opera. */\n",
              "        border: none;\n",
              "        /* Needs to be in here for Safari polyfill so background images work as expected. */\n",
              "        background-size: auto;\n",
              "    }\n",
              "    progress:not([value]), progress:not([value])::-webkit-progress-bar {\n",
              "        background: repeating-linear-gradient(45deg, #7e7e7e, #7e7e7e 10px, #5c5c5c 10px, #5c5c5c 20px);\n",
              "    }\n",
              "    .progress-bar-interrupted, .progress-bar-interrupted::-webkit-progress-bar {\n",
              "        background: #F44336;\n",
              "    }\n",
              "</style>\n"
            ],
            "text/plain": [
              "<IPython.core.display.HTML object>"
            ]
          },
          "metadata": {},
          "output_type": "display_data"
        },
        {
          "data": {
            "text/html": [
              "\n",
              "    <div>\n",
              "      <progress value='3000' class='' max='3000' style='width:300px; height:20px; vertical-align: middle;'></progress>\n",
              "      100.00% [3000/3000 00:15&lt;00:00 Sampling chain 0, 0 divergences]\n",
              "    </div>\n",
              "    "
            ],
            "text/plain": [
              "<IPython.core.display.HTML object>"
            ]
          },
          "metadata": {},
          "output_type": "display_data"
        },
        {
          "data": {
            "text/html": [
              "\n",
              "<style>\n",
              "    /* Turns off some styling */\n",
              "    progress {\n",
              "        /* gets rid of default border in Firefox and Opera. */\n",
              "        border: none;\n",
              "        /* Needs to be in here for Safari polyfill so background images work as expected. */\n",
              "        background-size: auto;\n",
              "    }\n",
              "    progress:not([value]), progress:not([value])::-webkit-progress-bar {\n",
              "        background: repeating-linear-gradient(45deg, #7e7e7e, #7e7e7e 10px, #5c5c5c 10px, #5c5c5c 20px);\n",
              "    }\n",
              "    .progress-bar-interrupted, .progress-bar-interrupted::-webkit-progress-bar {\n",
              "        background: #F44336;\n",
              "    }\n",
              "</style>\n"
            ],
            "text/plain": [
              "<IPython.core.display.HTML object>"
            ]
          },
          "metadata": {},
          "output_type": "display_data"
        },
        {
          "data": {
            "text/html": [
              "\n",
              "    <div>\n",
              "      <progress value='3000' class='' max='3000' style='width:300px; height:20px; vertical-align: middle;'></progress>\n",
              "      100.00% [3000/3000 00:12&lt;00:00 Sampling chain 1, 0 divergences]\n",
              "    </div>\n",
              "    "
            ],
            "text/plain": [
              "<IPython.core.display.HTML object>"
            ]
          },
          "metadata": {},
          "output_type": "display_data"
        },
        {
          "data": {
            "text/html": [
              "\n",
              "<style>\n",
              "    /* Turns off some styling */\n",
              "    progress {\n",
              "        /* gets rid of default border in Firefox and Opera. */\n",
              "        border: none;\n",
              "        /* Needs to be in here for Safari polyfill so background images work as expected. */\n",
              "        background-size: auto;\n",
              "    }\n",
              "    progress:not([value]), progress:not([value])::-webkit-progress-bar {\n",
              "        background: repeating-linear-gradient(45deg, #7e7e7e, #7e7e7e 10px, #5c5c5c 10px, #5c5c5c 20px);\n",
              "    }\n",
              "    .progress-bar-interrupted, .progress-bar-interrupted::-webkit-progress-bar {\n",
              "        background: #F44336;\n",
              "    }\n",
              "</style>\n"
            ],
            "text/plain": [
              "<IPython.core.display.HTML object>"
            ]
          },
          "metadata": {},
          "output_type": "display_data"
        },
        {
          "data": {
            "text/html": [
              "\n",
              "    <div>\n",
              "      <progress value='4000' class='' max='4000' style='width:300px; height:20px; vertical-align: middle;'></progress>\n",
              "      100.00% [4000/4000 00:00&lt;00:00]\n",
              "    </div>\n",
              "    "
            ],
            "text/plain": [
              "<IPython.core.display.HTML object>"
            ]
          },
          "metadata": {},
          "output_type": "display_data"
        }
      ],
      "source": [
        "with mixture_model:\n",
        "    trace_mix = pm.sample(2000, tune=1000)\n",
        "    pm.compute_log_likelihood(trace_mix)\n",
        "\n",
        "with complete_model:\n",
        "    trace_complete = pm.sample(2000, tune=1000)\n",
        "    pm.compute_log_likelihood(trace_complete)\n",
        "\n",
        "with model_basic:\n",
        "    trace_basic = pm.sample(2000, tune=1000)\n",
        "    pm.compute_log_likelihood(trace_basic)\n"
      ]
    },
    {
      "cell_type": "code",
      "execution_count": null,
      "metadata": {
        "colab": {
          "background_save": true
        },
        "id": "ANY2uI0C-cia",
        "outputId": "a00865a3-c261-4cbd-b06f-b0b31a7cc155"
      },
      "outputs": [
        {
          "name": "stderr",
          "output_type": "stream",
          "text": [
            "<ipython-input-29-6b3c8ef858ff>:1: DeprecationWarning: `product` is deprecated as of NumPy 1.25.0, and will be removed in NumPy 2.0. Please use `prod` instead.\n",
            "  az.waic(trace_mix)\n"
          ]
        },
        {
          "data": {
            "text/plain": [
              "Computed from 4000 posterior samples and 100 observations log-likelihood matrix.\n",
              "\n",
              "          Estimate       SE\n",
              "elpd_waic   -67.97     2.65\n",
              "p_waic        3.40        -"
            ]
          },
          "execution_count": 29,
          "metadata": {},
          "output_type": "execute_result"
        }
      ],
      "source": [
        "az.waic(trace_mix)"
      ]
    },
    {
      "cell_type": "code",
      "execution_count": null,
      "metadata": {
        "colab": {
          "background_save": true
        },
        "id": "NNWzIuke8b44",
        "outputId": "03206bd1-3663-470d-87c7-97037824f38b"
      },
      "outputs": [
        {
          "data": {
            "application/vnd.google.colaboratory.intrinsic+json": {
              "summary": "{\n  \"name\": \"az\",\n  \"rows\": 3,\n  \"fields\": [\n    {\n      \"column\": \"rank\",\n      \"properties\": {\n        \"dtype\": \"number\",\n        \"std\": 1,\n        \"min\": 0,\n        \"max\": 2,\n        \"num_unique_values\": 3,\n        \"samples\": [\n          0,\n          1,\n          2\n        ],\n        \"semantic_type\": \"\",\n        \"description\": \"\"\n      }\n    },\n    {\n      \"column\": \"elpd_waic\",\n      \"properties\": {\n        \"dtype\": \"number\",\n        \"std\": 0.6176113372521791,\n        \"min\": -68.75886525209384,\n        \"max\": -67.54055679498984,\n        \"num_unique_values\": 3,\n        \"samples\": [\n          -67.54055679498984,\n          -67.97328917336753,\n          -68.75886525209384\n        ],\n        \"semantic_type\": \"\",\n        \"description\": \"\"\n      }\n    },\n    {\n      \"column\": \"p_waic\",\n      \"properties\": {\n        \"dtype\": \"number\",\n        \"std\": 0.8429515135060501,\n        \"min\": 2.6506549805966717,\n        \"max\": 4.333506993957062,\n        \"num_unique_values\": 3,\n        \"samples\": [\n          2.6506549805966717,\n          3.404282421154853,\n          4.333506993957062\n        ],\n        \"semantic_type\": \"\",\n        \"description\": \"\"\n      }\n    },\n    {\n      \"column\": \"elpd_diff\",\n      \"properties\": {\n        \"dtype\": \"number\",\n        \"std\": 0.6176113372521952,\n        \"min\": 0.0,\n        \"max\": 1.2183084571040288,\n        \"num_unique_values\": 3,\n        \"samples\": [\n          0.0,\n          0.43273237837768186,\n          1.2183084571040288\n        ],\n        \"semantic_type\": \"\",\n        \"description\": \"\"\n      }\n    },\n    {\n      \"column\": \"weight\",\n      \"properties\": {\n        \"dtype\": \"number\",\n        \"std\": 0.5773502691896258,\n        \"min\": 0.0,\n        \"max\": 1.0,\n        \"num_unique_values\": 2,\n        \"samples\": [\n          0.0,\n          1.0\n        ],\n        \"semantic_type\": \"\",\n        \"description\": \"\"\n      }\n    },\n    {\n      \"column\": \"se\",\n      \"properties\": {\n        \"dtype\": \"number\",\n        \"std\": 0.17919302168192006,\n        \"min\": 2.585935694836651,\n        \"max\": 2.924134785503839,\n        \"num_unique_values\": 3,\n        \"samples\": [\n          2.585935694836651,\n          2.6523393378059996\n        ],\n        \"semantic_type\": \"\",\n        \"description\": \"\"\n      }\n    },\n    {\n      \"column\": \"dse\",\n      \"properties\": {\n        \"dtype\": \"number\",\n        \"std\": 0.4309542795733505,\n        \"min\": 0.0,\n        \"max\": 0.8582795173603296,\n        \"num_unique_values\": 3,\n        \"samples\": [\n          0.0,\n          0.36071479388261274\n        ],\n        \"semantic_type\": \"\",\n        \"description\": \"\"\n      }\n    },\n    {\n      \"column\": \"warning\",\n      \"properties\": {\n        \"dtype\": \"boolean\",\n        \"num_unique_values\": 1,\n        \"samples\": [\n          false\n        ],\n        \"semantic_type\": \"\",\n        \"description\": \"\"\n      }\n    },\n    {\n      \"column\": \"scale\",\n      \"properties\": {\n        \"dtype\": \"category\",\n        \"num_unique_values\": 1,\n        \"samples\": [\n          \"log\"\n        ],\n        \"semantic_type\": \"\",\n        \"description\": \"\"\n      }\n    }\n  ]\n}",
              "type": "dataframe"
            },
            "text/html": [
              "\n",
              "  <div id=\"df-bf13653f-b1b2-4b25-8ac1-a59aacd6e646\" class=\"colab-df-container\">\n",
              "    <div>\n",
              "<style scoped>\n",
              "    .dataframe tbody tr th:only-of-type {\n",
              "        vertical-align: middle;\n",
              "    }\n",
              "\n",
              "    .dataframe tbody tr th {\n",
              "        vertical-align: top;\n",
              "    }\n",
              "\n",
              "    .dataframe thead th {\n",
              "        text-align: right;\n",
              "    }\n",
              "</style>\n",
              "<table border=\"1\" class=\"dataframe\">\n",
              "  <thead>\n",
              "    <tr style=\"text-align: right;\">\n",
              "      <th></th>\n",
              "      <th>rank</th>\n",
              "      <th>elpd_waic</th>\n",
              "      <th>p_waic</th>\n",
              "      <th>elpd_diff</th>\n",
              "      <th>weight</th>\n",
              "      <th>se</th>\n",
              "      <th>dse</th>\n",
              "      <th>warning</th>\n",
              "      <th>scale</th>\n",
              "    </tr>\n",
              "  </thead>\n",
              "  <tbody>\n",
              "    <tr>\n",
              "      <th>complete model</th>\n",
              "      <td>0</td>\n",
              "      <td>-67.540557</td>\n",
              "      <td>2.650655</td>\n",
              "      <td>0.000000</td>\n",
              "      <td>1.0</td>\n",
              "      <td>2.585936</td>\n",
              "      <td>0.000000</td>\n",
              "      <td>False</td>\n",
              "      <td>log</td>\n",
              "    </tr>\n",
              "    <tr>\n",
              "      <th>mixture model</th>\n",
              "      <td>1</td>\n",
              "      <td>-67.973289</td>\n",
              "      <td>3.404282</td>\n",
              "      <td>0.432732</td>\n",
              "      <td>0.0</td>\n",
              "      <td>2.652339</td>\n",
              "      <td>0.360715</td>\n",
              "      <td>False</td>\n",
              "      <td>log</td>\n",
              "    </tr>\n",
              "    <tr>\n",
              "      <th>basic model</th>\n",
              "      <td>2</td>\n",
              "      <td>-68.758865</td>\n",
              "      <td>4.333507</td>\n",
              "      <td>1.218308</td>\n",
              "      <td>0.0</td>\n",
              "      <td>2.924135</td>\n",
              "      <td>0.858280</td>\n",
              "      <td>False</td>\n",
              "      <td>log</td>\n",
              "    </tr>\n",
              "  </tbody>\n",
              "</table>\n",
              "</div>\n",
              "    <div class=\"colab-df-buttons\">\n",
              "\n",
              "  <div class=\"colab-df-container\">\n",
              "    <button class=\"colab-df-convert\" onclick=\"convertToInteractive('df-bf13653f-b1b2-4b25-8ac1-a59aacd6e646')\"\n",
              "            title=\"Convert this dataframe to an interactive table.\"\n",
              "            style=\"display:none;\">\n",
              "\n",
              "  <svg xmlns=\"http://www.w3.org/2000/svg\" height=\"24px\" viewBox=\"0 -960 960 960\">\n",
              "    <path d=\"M120-120v-720h720v720H120Zm60-500h600v-160H180v160Zm220 220h160v-160H400v160Zm0 220h160v-160H400v160ZM180-400h160v-160H180v160Zm440 0h160v-160H620v160ZM180-180h160v-160H180v160Zm440 0h160v-160H620v160Z\"/>\n",
              "  </svg>\n",
              "    </button>\n",
              "\n",
              "  <style>\n",
              "    .colab-df-container {\n",
              "      display:flex;\n",
              "      gap: 12px;\n",
              "    }\n",
              "\n",
              "    .colab-df-convert {\n",
              "      background-color: #E8F0FE;\n",
              "      border: none;\n",
              "      border-radius: 50%;\n",
              "      cursor: pointer;\n",
              "      display: none;\n",
              "      fill: #1967D2;\n",
              "      height: 32px;\n",
              "      padding: 0 0 0 0;\n",
              "      width: 32px;\n",
              "    }\n",
              "\n",
              "    .colab-df-convert:hover {\n",
              "      background-color: #E2EBFA;\n",
              "      box-shadow: 0px 1px 2px rgba(60, 64, 67, 0.3), 0px 1px 3px 1px rgba(60, 64, 67, 0.15);\n",
              "      fill: #174EA6;\n",
              "    }\n",
              "\n",
              "    .colab-df-buttons div {\n",
              "      margin-bottom: 4px;\n",
              "    }\n",
              "\n",
              "    [theme=dark] .colab-df-convert {\n",
              "      background-color: #3B4455;\n",
              "      fill: #D2E3FC;\n",
              "    }\n",
              "\n",
              "    [theme=dark] .colab-df-convert:hover {\n",
              "      background-color: #434B5C;\n",
              "      box-shadow: 0px 1px 3px 1px rgba(0, 0, 0, 0.15);\n",
              "      filter: drop-shadow(0px 1px 2px rgba(0, 0, 0, 0.3));\n",
              "      fill: #FFFFFF;\n",
              "    }\n",
              "  </style>\n",
              "\n",
              "    <script>\n",
              "      const buttonEl =\n",
              "        document.querySelector('#df-bf13653f-b1b2-4b25-8ac1-a59aacd6e646 button.colab-df-convert');\n",
              "      buttonEl.style.display =\n",
              "        google.colab.kernel.accessAllowed ? 'block' : 'none';\n",
              "\n",
              "      async function convertToInteractive(key) {\n",
              "        const element = document.querySelector('#df-bf13653f-b1b2-4b25-8ac1-a59aacd6e646');\n",
              "        const dataTable =\n",
              "          await google.colab.kernel.invokeFunction('convertToInteractive',\n",
              "                                                    [key], {});\n",
              "        if (!dataTable) return;\n",
              "\n",
              "        const docLinkHtml = 'Like what you see? Visit the ' +\n",
              "          '<a target=\"_blank\" href=https://colab.research.google.com/notebooks/data_table.ipynb>data table notebook</a>'\n",
              "          + ' to learn more about interactive tables.';\n",
              "        element.innerHTML = '';\n",
              "        dataTable['output_type'] = 'display_data';\n",
              "        await google.colab.output.renderOutput(dataTable, element);\n",
              "        const docLink = document.createElement('div');\n",
              "        docLink.innerHTML = docLinkHtml;\n",
              "        element.appendChild(docLink);\n",
              "      }\n",
              "    </script>\n",
              "  </div>\n",
              "\n",
              "\n",
              "<div id=\"df-fa7d9ec2-9bc1-4ee1-9e9f-63b6d7479dc9\">\n",
              "  <button class=\"colab-df-quickchart\" onclick=\"quickchart('df-fa7d9ec2-9bc1-4ee1-9e9f-63b6d7479dc9')\"\n",
              "            title=\"Suggest charts\"\n",
              "            style=\"display:none;\">\n",
              "\n",
              "<svg xmlns=\"http://www.w3.org/2000/svg\" height=\"24px\"viewBox=\"0 0 24 24\"\n",
              "     width=\"24px\">\n",
              "    <g>\n",
              "        <path d=\"M19 3H5c-1.1 0-2 .9-2 2v14c0 1.1.9 2 2 2h14c1.1 0 2-.9 2-2V5c0-1.1-.9-2-2-2zM9 17H7v-7h2v7zm4 0h-2V7h2v10zm4 0h-2v-4h2v4z\"/>\n",
              "    </g>\n",
              "</svg>\n",
              "  </button>\n",
              "\n",
              "<style>\n",
              "  .colab-df-quickchart {\n",
              "      --bg-color: #E8F0FE;\n",
              "      --fill-color: #1967D2;\n",
              "      --hover-bg-color: #E2EBFA;\n",
              "      --hover-fill-color: #174EA6;\n",
              "      --disabled-fill-color: #AAA;\n",
              "      --disabled-bg-color: #DDD;\n",
              "  }\n",
              "\n",
              "  [theme=dark] .colab-df-quickchart {\n",
              "      --bg-color: #3B4455;\n",
              "      --fill-color: #D2E3FC;\n",
              "      --hover-bg-color: #434B5C;\n",
              "      --hover-fill-color: #FFFFFF;\n",
              "      --disabled-bg-color: #3B4455;\n",
              "      --disabled-fill-color: #666;\n",
              "  }\n",
              "\n",
              "  .colab-df-quickchart {\n",
              "    background-color: var(--bg-color);\n",
              "    border: none;\n",
              "    border-radius: 50%;\n",
              "    cursor: pointer;\n",
              "    display: none;\n",
              "    fill: var(--fill-color);\n",
              "    height: 32px;\n",
              "    padding: 0;\n",
              "    width: 32px;\n",
              "  }\n",
              "\n",
              "  .colab-df-quickchart:hover {\n",
              "    background-color: var(--hover-bg-color);\n",
              "    box-shadow: 0 1px 2px rgba(60, 64, 67, 0.3), 0 1px 3px 1px rgba(60, 64, 67, 0.15);\n",
              "    fill: var(--button-hover-fill-color);\n",
              "  }\n",
              "\n",
              "  .colab-df-quickchart-complete:disabled,\n",
              "  .colab-df-quickchart-complete:disabled:hover {\n",
              "    background-color: var(--disabled-bg-color);\n",
              "    fill: var(--disabled-fill-color);\n",
              "    box-shadow: none;\n",
              "  }\n",
              "\n",
              "  .colab-df-spinner {\n",
              "    border: 2px solid var(--fill-color);\n",
              "    border-color: transparent;\n",
              "    border-bottom-color: var(--fill-color);\n",
              "    animation:\n",
              "      spin 1s steps(1) infinite;\n",
              "  }\n",
              "\n",
              "  @keyframes spin {\n",
              "    0% {\n",
              "      border-color: transparent;\n",
              "      border-bottom-color: var(--fill-color);\n",
              "      border-left-color: var(--fill-color);\n",
              "    }\n",
              "    20% {\n",
              "      border-color: transparent;\n",
              "      border-left-color: var(--fill-color);\n",
              "      border-top-color: var(--fill-color);\n",
              "    }\n",
              "    30% {\n",
              "      border-color: transparent;\n",
              "      border-left-color: var(--fill-color);\n",
              "      border-top-color: var(--fill-color);\n",
              "      border-right-color: var(--fill-color);\n",
              "    }\n",
              "    40% {\n",
              "      border-color: transparent;\n",
              "      border-right-color: var(--fill-color);\n",
              "      border-top-color: var(--fill-color);\n",
              "    }\n",
              "    60% {\n",
              "      border-color: transparent;\n",
              "      border-right-color: var(--fill-color);\n",
              "    }\n",
              "    80% {\n",
              "      border-color: transparent;\n",
              "      border-right-color: var(--fill-color);\n",
              "      border-bottom-color: var(--fill-color);\n",
              "    }\n",
              "    90% {\n",
              "      border-color: transparent;\n",
              "      border-bottom-color: var(--fill-color);\n",
              "    }\n",
              "  }\n",
              "</style>\n",
              "\n",
              "  <script>\n",
              "    async function quickchart(key) {\n",
              "      const quickchartButtonEl =\n",
              "        document.querySelector('#' + key + ' button');\n",
              "      quickchartButtonEl.disabled = true;  // To prevent multiple clicks.\n",
              "      quickchartButtonEl.classList.add('colab-df-spinner');\n",
              "      try {\n",
              "        const charts = await google.colab.kernel.invokeFunction(\n",
              "            'suggestCharts', [key], {});\n",
              "      } catch (error) {\n",
              "        console.error('Error during call to suggestCharts:', error);\n",
              "      }\n",
              "      quickchartButtonEl.classList.remove('colab-df-spinner');\n",
              "      quickchartButtonEl.classList.add('colab-df-quickchart-complete');\n",
              "    }\n",
              "    (() => {\n",
              "      let quickchartButtonEl =\n",
              "        document.querySelector('#df-fa7d9ec2-9bc1-4ee1-9e9f-63b6d7479dc9 button');\n",
              "      quickchartButtonEl.style.display =\n",
              "        google.colab.kernel.accessAllowed ? 'block' : 'none';\n",
              "    })();\n",
              "  </script>\n",
              "</div>\n",
              "\n",
              "    </div>\n",
              "  </div>\n"
            ],
            "text/plain": [
              "                rank  elpd_waic    p_waic  elpd_diff  weight        se  \\\n",
              "complete model     0 -67.540557  2.650655   0.000000     1.0  2.585936   \n",
              "mixture model      1 -67.973289  3.404282   0.432732     0.0  2.652339   \n",
              "basic model        2 -68.758865  4.333507   1.218308     0.0  2.924135   \n",
              "\n",
              "                     dse  warning scale  \n",
              "complete model  0.000000    False   log  \n",
              "mixture model   0.360715    False   log  \n",
              "basic model     0.858280    False   log  "
            ]
          },
          "execution_count": 30,
          "metadata": {},
          "output_type": "execute_result"
        }
      ],
      "source": [
        "az.compare({\"mixture model\": trace_mix, \"complete model\": trace_complete, \"basic model\": trace_basic}, ic='waic')"
      ]
    },
    {
      "cell_type": "code",
      "execution_count": null,
      "metadata": {
        "colab": {
          "background_save": true
        },
        "id": "TQHTmmL_7-S2",
        "outputId": "2a571e74-beec-42d2-c6f7-8a49a83ef49b"
      },
      "outputs": [
        {
          "data": {
            "image/png": "[encoded data removed]",
            "text/plain": [
              "<Figure size 600x300 with 1 Axes>"
            ]
          },
          "metadata": {},
          "output_type": "display_data"
        }
      ],
      "source": [
        "az.plot_compare(az.compare({\"mixture model\": trace_mix, \"complete model\": trace_complete, \"basic model\": trace_basic}, ic='waic'), insample_dev=False);"
      ]
    },
    {
      "cell_type": "markdown",
      "metadata": {
        "id": "Nea5Jd4Tz0o3"
      },
      "source": [
        "# Missing data imputation"
      ]
    },
    {
      "cell_type": "code",
      "execution_count": null,
      "metadata": {
        "colab": {
          "background_save": true
        },
        "id": "LRf8Om-Oz0DB"
      },
      "outputs": [],
      "source": []
    },
    {
      "cell_type": "code",
      "execution_count": null,
      "metadata": {
        "colab": {
          "background_save": true
        },
        "id": "ID4hdenGoHk6"
      },
      "outputs": [],
      "source": [
        "import numpy as np\n",
        "import pymc as pm\n",
        "import pandas as pd\n",
        "from scipy import stats\n",
        "import seaborn as sns\n",
        "import matplotlib.pyplot as plt\n",
        "import arviz as az\n",
        "import itertools\n",
        "\n",
        "from matplotlib.lines import Line2D\n",
        "from scipy.stats import multivariate_normal\n",
        "import matplotlib.cm as cm"
      ]
    },
    {
      "cell_type": "markdown",
      "metadata": {
        "id": "qIviOk_JoIb3"
      },
      "source": [
        "# STA365 Missing data imputation"
      ]
    },
    {
      "cell_type": "code",
      "execution_count": null,
      "metadata": {
        "id": "uRbUKZVdo2_0"
      },
      "outputs": [],
      "source": [
        "from google.colab import drive\n",
        "drive.mount('/content/drive')\n",
        "\n",
        "df = pd.read_csv('/content/drive/My Drive/Cyclingdata.csv')\n",
        "df.head()"
      ]
    },
    {
      "cell_type": "code",
      "execution_count": null,
      "metadata": {
        "id": "p7Up5_fGpw-y"
      },
      "outputs": [],
      "source": [
        "# Improved version of time getter\n",
        "def TimeGetter(time):\n",
        "    \"\"\"\n",
        "    Determines the part of the day (Morning, Midday, Afternoon, Evening, Night) based on the given time.\n",
        "\n",
        "    Parameters:\n",
        "    - time (str): The time in \"HH:MM:SS\" format.\n",
        "\n",
        "    Returns:\n",
        "    - str: The part of the day as a string (\"Morning\", \"Midday\", \"Afternoon\", \"Evening\", or \"Night\").\n",
        "    \"\"\"\n",
        "    hours, minutes, seconds = [int(part) for part in time.split(':')]\n",
        "    total_seconds = hours * 3600 + minutes * 60 + seconds\n",
        "    if 6*3600 <= total_seconds < 9*3600:\n",
        "        return \"Morning\"\n",
        "    elif 9*3600 <= total_seconds < 14*3600:\n",
        "        return \"Midday\"\n",
        "    elif 14*3600 <= total_seconds < 18*3600:\n",
        "        return \"Afternoon\"\n",
        "    elif 18*3600 <= total_seconds < 22*3600:\n",
        "        return \"Evening\"\n",
        "    else:\n",
        "        return \"Night\""
      ]
    },
    {
      "cell_type": "code",
      "execution_count": null,
      "metadata": {
        "id": "frNywZH9qZ_e"
      },
      "outputs": [],
      "source": [
        "# Improved version of data wrangling code\n",
        "weekday_mapping = {'Monday': 1, 'Tuesday': 1, 'Wednesday': 1, 'Thursday': 1, 'Friday': 1, 'Saturday': 0, 'Sunday': 0}\n",
        "df['Day'] = df['Day'].map(weekday_mapping)\n",
        "df[\"TimeDay\"] = df[\"Time\"].apply(TimeGetter)\n",
        "df[\"DryRoad\"] = (df[\"Road_conditions\"] == \"Dry\").astype(int)\n",
        "df[\"Clear\"] = (df[\"Weather_conditions\"] == \"Clear\").astype(int)\n",
        "df[\"Dark\"] = (df[\"Light_conditions\"] == \"Darkness no lights\").astype(int)\n",
        "df[\"DualCarriageway\"] = (df[\"Road_type\"] == \"Dual carriageway\").astype(int)\n",
        "df[\"over55\"] = df[\"Age_Grp\"].isin([\"56 to 65\", \"66 to 75\"]).astype(int)\n",
        "df[\"Severity_binary\"] = (df[\"Severity\"] != \"Slight\").astype(int)\n",
        "print(df['Light_conditions'].unique())\n",
        "for part_of_day in [\"Night\", \"Morning\", \"Midday\", \"Afternoon\", \"Evening\"]:\n",
        "    df[part_of_day] = (df[\"TimeDay\"] == part_of_day).astype(int)\n",
        "features = [\"Severity_binary\", \"Day\", \"Speed_limit\", \"DryRoad\", \"Clear\", \"DualCarriageway\", \"over55\", \"TimeDay\", \"Night\", \"Morning\", \"Midday\", \"Afternoon\", \"Evening\", \"Dark\"]\n",
        "df2 = df[features]\n",
        "df2.head(10)"
      ]
    },
    {
      "cell_type": "code",
      "execution_count": null,
      "metadata": {
        "id": "RoofK673Ble_"
      },
      "outputs": [],
      "source": [
        "df2.shape"
      ]
    },
    {
      "cell_type": "code",
      "execution_count": null,
      "metadata": {
        "id": "SzB-_CJ7sEYW"
      },
      "outputs": [],
      "source": [
        "df2.isna().sum() #/ len(df)"
      ]
    },
    {
      "cell_type": "markdown",
      "metadata": {
        "id": "Z3SIbjVTtjFW"
      },
      "source": [
        "The data set does not contain any missing observations, so I will randomly add missing values to the data set to mimic the scenario and meet the MCAR assumption at the same time. I will also only work with the first 1000 observations."
      ]
    },
    {
      "cell_type": "code",
      "execution_count": null,
      "metadata": {
        "id": "20r4m9VGtTls"
      },
      "outputs": [],
      "source": [
        "df3 = df2[:200]\n",
        "missingness_percentage = 0.1\n",
        "np.random.seed(seed=1007501482)\n",
        "missing_mask = np.random.rand(*df3.shape) < missingness_percentage\n",
        "for column in df3.columns:\n",
        "    df3.loc[missing_mask[:, df3.columns.get_loc(column)], column] = np.nan\n",
        "df3.isna().sum() / len(df3)"
      ]
    },
    {
      "cell_type": "code",
      "execution_count": null,
      "metadata": {
        "id": "LzGQF038SSwI"
      },
      "outputs": [],
      "source": [
        "# df4 = df3[['Speed_limit', 'DryRoad', 'Clear',  'DualCarriageway', 'Dark']]\n",
        "df4 = df3[['Speed_limit', 'DryRoad', 'Clear',  'DualCarriageway', 'Night', 'Morning',\n",
        "           'Midday',  'Afternoon', 'Evening', 'Dark']]\n",
        "df4.shape"
      ]
    },
    {
      "cell_type": "markdown",
      "metadata": {
        "id": "5TTORtRhkqD2"
      },
      "source": [
        "I've made a simpler version of the decomposition of the joint distribution. Usually, suppose we have 4 variables $x_1,x_2,x_3, x_4$, then we have the joint distribution\n",
        "$$p(x_1,x_2,x_3,x_4)=p(x_1)\\times p(x_2|x_1)\\times p(x_3|x_1,x_2)\\times p(x_4|x_1,x_2,x_3)$$\n",
        "but if all variables are independent, then\n",
        "$$p(x_1,x_2,x_3,x_4)=p(x_1)\\times p(x_2|x_1)\\times p(x_3|x_1)\\times p(x_4|x_1)$$\n",
        "My code below draws from the above decomposition of the mixture model with the independence assumption. I will estimate the posterior of `Speed_limit` and then estimate the posterior of the other 9 binary variables as a Bernoulli distribution where $p$ is regressed on `Speed_limit`. If I am to drop the independence assumption, then we would need to estimate 45 $\\beta$s and 10 $\\alpha$s, which is beyond our computational capacity."
      ]
    },
    {
      "cell_type": "code",
      "execution_count": null,
      "metadata": {
        "id": "-3Cx6Or9VwbJ"
      },
      "outputs": [],
      "source": [
        "speed_limit_mean = df4[\"Speed_limit\"].mean()\n",
        "speed_limit_sd = df4[\"Speed_limit\"].std()\n",
        "speed_limit_min = df4[\"Speed_limit\"].min()\n",
        "speed_limit_max = df4[\"Speed_limit\"].max()\n",
        "priors = {\"Speed_limit\": {\"normal\": [speed_limit_mean, speed_limit_sd, speed_limit_sd],\n",
        "                          \"uniform\": [speed_limit_min, speed_limit_max]},}\n",
        "\n",
        "\n",
        "def make_model(priors, normal_pred_assumption=True):\n",
        "    coords = {\"binary_dim\": [\"DryRoad\", \"Clear\", \"DualCarriageway\", \"Night\",\n",
        "                             \"Morning\", \"Midday\", \"Afternoon\", \"Evening\", \"Dark\"],}\n",
        "    with pm.Model(coords=coords) as model:\n",
        "      beta = pm.Normal(\"beta\", 0, 1, dims=\"binary_dim\")\n",
        "      alpha = pm.Normal(\"alpha\", 10, 5, dims=\"binary_dim\")\n",
        "      sigma = pm.HalfNormal(\"sigma\", 5, dims=\"binary_dim\")\n",
        "\n",
        "      if normal_pred_assumption:\n",
        "        mu_speed_limit = pm.Normal(\"mu_speed_limit\", priors[\"Speed_limit\"][\"normal\"][0],\n",
        "                                   priors[\"Speed_limit\"][\"normal\"][1])\n",
        "        sigma_speed_limit = pm.HalfNormal(\"sigma_speed_limit\",\n",
        "                                          priors[\"Speed_limit\"][\"normal\"][2])\n",
        "        speed_limit_pred = pm.Normal(\"speed_limit_pred\", mu_speed_limit,\n",
        "                                     sigma_speed_limit, observed=df4[\"Speed_limit\"])\n",
        "      else:\n",
        "        speed_limit_pred = pm.Uniform(\"speed_limit_pred\", speed_limit_min,\n",
        "                                      speed_limit_max, observed=df4[\"Speed_limit\"])\n",
        "\n",
        "      for i, var in enumerate(coords[\"binary_dim\"]):\n",
        "        observed = df4[var].dropna()\n",
        "        mu_binary = alpha[coords[\"binary_dim\"].index(var)] + beta[coords[\"binary_dim\"].index(var)] * speed_limit_pred\n",
        "        pm.Bernoulli(f\"{var}_imputed\", pm.math.sigmoid(mu_binary[i]), observed=observed)\n",
        "\n",
        "      idata = pm.sample_prior_predictive()\n",
        "      idata.extend(pm.sample(random_seed=1007501482))\n",
        "      pm.sample_posterior_predictive(idata, extend_inferencedata=True)\n",
        "\n",
        "    return idata, model\n",
        "\n",
        "\n",
        "idata_uniform, model_uniform = make_model(priors, normal_pred_assumption=False)\n",
        "idata_normal, model_normal = make_model(priors, normal_pred_assumption=True)\n",
        "pm.model_to_graphviz(model_normal)"
      ]
    },
    {
      "cell_type": "markdown",
      "metadata": {
        "id": "1Ls2hCh9yVPQ"
      },
      "source": [
        "Next we will do model diagnostics on the imputation model."
      ]
    },
    {
      "cell_type": "code",
      "execution_count": null,
      "metadata": {
        "id": "TeMV_zipySF-"
      },
      "outputs": [],
      "source": [
        "az.summary(idata_normal).head(20)"
      ]
    },
    {
      "cell_type": "code",
      "execution_count": null,
      "metadata": {
        "id": "bJq7o1_4ySth"
      },
      "outputs": [],
      "source": [
        "az.summary(idata_uniform).head(20)"
      ]
    },
    {
      "cell_type": "code",
      "execution_count": null,
      "metadata": {
        "id": "a5_IJzM-06Ds"
      },
      "outputs": [],
      "source": [
        "az.plot_trace(idata_normal, combined=True)"
      ]
    },
    {
      "cell_type": "code",
      "execution_count": null,
      "metadata": {
        "id": "8QeolaXr08Qz"
      },
      "outputs": [],
      "source": [
        "az.plot_trace(idata_uniform, combined=True)"
      ]
    },
    {
      "cell_type": "code",
      "execution_count": null,
      "metadata": {
        "id": "esZP4i9IylIs"
      },
      "outputs": [],
      "source": [
        "az.plot_forest(\n",
        "    [idata_normal, idata_uniform],\n",
        "    var_names=[\"beta\"],\n",
        "    kind=\"ridgeplot\",\n",
        "    model_names=[\"Gaussian Sampling Distribution\", \"Uniform Sampling Distribution\"],\n",
        "    figsize=(10, 8),\n",
        ")"
      ]
    },
    {
      "cell_type": "code",
      "execution_count": null,
      "metadata": {
        "id": "VAypYgUItFNO"
      },
      "outputs": [],
      "source": [
        "az.plot_ppc(idata_normal)"
      ]
    },
    {
      "cell_type": "code",
      "execution_count": null,
      "metadata": {
        "id": "G2qwrAGbtHuq"
      },
      "outputs": [],
      "source": [
        "az.plot_ppc(idata_uniform)"
      ]
    },
    {
      "cell_type": "markdown",
      "metadata": {
        "id": "g34WPS7QvT1P"
      },
      "source": [
        "We will obtain the imputed values and plot them."
      ]
    },
    {
      "cell_type": "code",
      "execution_count": null,
      "metadata": {
        "id": "3lJJR9SJuFiz"
      },
      "outputs": [],
      "source": [
        "def get_imputed(idata, data):\n",
        "    imputed_data = data.copy()\n",
        "\n",
        "    imputed_speed_limit = az.extract(idata, group=\"posterior_predictive\",\n",
        "                                     num_samples=200)[\"speed_limit_pred\"].mean(axis=1)\n",
        "    mask = imputed_data[\"Speed_limit\"].isnull()\n",
        "    imputed_data.loc[mask, \"Speed_limit\"] = imputed_speed_limit.values[imputed_data[mask].index]\n",
        "\n",
        "    for var in [\"DryRoad\", \"Clear\", \"DualCarriageway\", \"Night\", \"Morning\",\n",
        "                \"Midday\", \"Afternoon\", \"Evening\", \"Dark\"]:\n",
        "        imputed_var = az.extract(idata, group=\"posterior_predictive\", num_samples=200)[f\"{var}_imputed\"].mean(axis=1)\n",
        "        imputed_var = np.round(imputed_var, 0)\n",
        "        mask = imputed_data[var].isnull()\n",
        "        #imputed_data.loc[mask, var] = imputed_var.values[imputed_data[mask].index]\n",
        "        imputed_data.loc[mask, var] = imputed_var[:mask.sum()]\n",
        "\n",
        "    assert imputed_data.isnull().sum().sum() == 0, \"Some variables still contain missing values after imputation.\"\n",
        "    imputed_data.columns = [\"imputed_\" + col for col in imputed_data.columns]\n",
        "\n",
        "    return imputed_data\n",
        "\n",
        "\n",
        "imputed_data_normal = get_imputed(idata_normal, df4)\n",
        "imputed_data_uniform = get_imputed(idata_uniform, df4)\n",
        "imputed_data_normal.head(5)"
      ]
    },
    {
      "cell_type": "code",
      "execution_count": null,
      "metadata": {
        "id": "Sxuf7-0ZHa6r"
      },
      "outputs": [],
      "source": []
    },
    {
      "cell_type": "code",
      "execution_count": null,
      "metadata": {
        "id": "-0GWv5KcvlhK"
      },
      "outputs": [],
      "source": [
        "def plot_binary_variable_distribution(data_original, data_uniform, data_normal, variable_name):\n",
        "    fig, ax = plt.subplots(figsize=(8, 4))\n",
        "    bins = [-0.5, 0.5, 1.5]\n",
        "    labels = [\"False\", \"True\"]\n",
        "    alpha = 0.5\n",
        "    rwidth = 0.8\n",
        "    ax.hist(data_uniform[\"imputed_\"+variable_name], bins=bins, alpha=alpha, label=\"Uniform Imputed\", color=\"cyan\", rwidth=rwidth)\n",
        "    ax.hist(data_normal[\"imputed_\"+variable_name], bins=bins, alpha=alpha, label=\"Normal Imputed\", color=\"slateblue\", rwidth=rwidth)\n",
        "    ax.hist(data_original[variable_name], bins=bins, alpha=alpha, label=\"Original\", color=\"magenta\", rwidth=rwidth)\n",
        "    ax.legend()\n",
        "    ax.set_title(f\"Imputed & Original '{variable_name}' Variable Distribution\", fontsize=16)\n",
        "    ax.set_xlabel(variable_name)\n",
        "    ax.set_ylabel(\"Frequency\")\n",
        "    ax.set_xticks([0, 1])\n",
        "    ax.set_xticklabels(labels)\n",
        "\n",
        "    plt.tight_layout()\n",
        "    plt.show()\n",
        "\n",
        "\n",
        "binary_variables = [\"DryRoad\", \"Clear\", \"DualCarriageway\", \"Night\", \"Morning\",\n",
        "                    \"Midday\", \"Afternoon\", \"Evening\", \"Dark\"]\n",
        "\n",
        "for variable in binary_variables:\n",
        "    plot_binary_variable_distribution(df4, imputed_data_uniform, imputed_data_normal, variable)"
      ]
    },
    {
      "cell_type": "code",
      "execution_count": null,
      "metadata": {
        "id": "Aw2jBHbgILMx"
      },
      "outputs": [],
      "source": [
        "def retrieve_original_values(original_df, modified_df, column_name):\n",
        "    \"\"\"\n",
        "    Function to retrieve the original values of a column before missingness was introduced.\n",
        "\n",
        "    Parameters:\n",
        "    - original_df: The original DataFrame before missing values were introduced.\n",
        "    - modified_df: The modified DataFrame with missing values.\n",
        "    - column_name: The name of the column for which to retrieve original values.\n",
        "\n",
        "    Returns:\n",
        "    A pandas Series containing the original values of the specified column.\n",
        "    \"\"\"\n",
        "    if column_name in original_df.columns and column_name in modified_df.columns:\n",
        "        original_values = original_df[column_name].where(modified_df[column_name].isna(), modified_df[column_name])\n",
        "        return original_values\n",
        "    else:\n",
        "        raise ValueError(\"Column name not found in one of the DataFrames.\")\n",
        "\n",
        "\n",
        "df5 = df2[['Speed_limit', 'DryRoad', 'Clear',  'DualCarriageway', 'Night', 'Morning',\n",
        "           'Midday',  'Afternoon', 'Evening', 'Dark']]\n",
        "df5 = df5[:200]"
      ]
    },
    {
      "cell_type": "code",
      "execution_count": null,
      "metadata": {
        "id": "hLtCFFxRA65G"
      },
      "outputs": [],
      "source": [
        "def compare_distributions(imputed_data_uniform, imputed_data_normal, variable_name):\n",
        "    fig, ax = plt.subplots(figsize=(8, 4))\n",
        "    ax.hist(retrieve_original_values(df5, df4, variable_name), bins=30, alpha=0.5, label=\"Original\", color=\"purple\")\n",
        "    ax.hist(imputed_data_uniform[\"imputed_\"+variable_name], bins=30, alpha=0.5, label=\"Uniform Imputed\", color=\"cyan\")\n",
        "    ax.hist(imputed_data_normal[\"imputed_\"+variable_name], bins=30, alpha=0.5, label=\"Normal Imputed\", color=\"magenta\")\n",
        "    ax.legend()\n",
        "    ax.set_title(f\"Distribution of {variable_name}: Original vs Imputed\")\n",
        "    ax.set_xlabel(variable_name)\n",
        "    ax.set_ylabel(\"Frequency\")\n",
        "    plt.show()"
      ]
    },
    {
      "cell_type": "code",
      "execution_count": null,
      "metadata": {
        "id": "878O2p7qA-nq"
      },
      "outputs": [],
      "source": [
        "compare_distributions(imputed_data_uniform= imputed_data_uniform,\n",
        "                      imputed_data_normal=imputed_data_normal,\n",
        "                      variable_name=\"Speed_limit\")"
      ]
    },
    {
      "cell_type": "code",
      "execution_count": null,
      "metadata": {
        "id": "PaXSCD9yBBAQ"
      },
      "outputs": [],
      "source": [
        "compare_distributions(imputed_data_uniform, imputed_data_normal, \"DryRoad\")"
      ]
    }
  ],
  "metadata": {
    "colab": {
      "provenance": []
    },
    "kernelspec": {
      "display_name": "Python 3",
      "name": "python3"
    },
    "language_info": {
      "name": "python"
    }
  },
  "nbformat": 4,
  "nbformat_minor": 0
}